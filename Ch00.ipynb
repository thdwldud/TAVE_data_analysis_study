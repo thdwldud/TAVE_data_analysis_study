{
 "cells": [
  {
   "cell_type": "markdown",
   "id": "e0965bdf",
   "metadata": {},
   "source": [
    "## 데이터 분석을 위한 라이브러리\n",
    "### 라이브러리 설치하기\n",
    "* anaconda prompt(혹은 terminal) 에서 가상환경을 실행한 뒤, pip install pandas numpy matplotlib를 입력하여 설치합니다.\n",
    "* 앞에 \"!\" 를 코드 앞에 입력하면 anaconda prompt(terminal)에서 실행하는 것과 같은 명령입니다."
   ]
  },
  {
   "cell_type": "code",
   "execution_count": 2,
   "id": "1dae46cb",
   "metadata": {},
   "outputs": [
    {
     "name": "stdout",
     "output_type": "stream",
     "text": [
      "Collecting pandas\n",
      "  Downloading pandas-1.4.2-cp38-cp38-win_amd64.whl (10.6 MB)\n",
      "Collecting numpy\n",
      "  Using cached numpy-1.22.3-cp38-cp38-win_amd64.whl (14.7 MB)\n",
      "Collecting matplotlib\n",
      "  Using cached matplotlib-3.5.1-cp38-cp38-win_amd64.whl (7.2 MB)\n",
      "Collecting pytz>=2020.1\n",
      "  Using cached pytz-2022.1-py2.py3-none-any.whl (503 kB)\n",
      "Requirement already satisfied: python-dateutil>=2.8.1 in f:\\anaconda3\\envs\\pybook\\lib\\site-packages (from pandas) (2.8.2)\n",
      "Collecting pillow>=6.2.0\n",
      "  Downloading Pillow-9.1.0-cp38-cp38-win_amd64.whl (3.3 MB)\n",
      "Requirement already satisfied: packaging>=20.0 in f:\\anaconda3\\envs\\pybook\\lib\\site-packages (from matplotlib) (21.3)\n",
      "Collecting fonttools>=4.22.0\n",
      "  Downloading fonttools-4.31.2-py3-none-any.whl (899 kB)\n",
      "Collecting cycler>=0.10\n",
      "  Using cached cycler-0.11.0-py3-none-any.whl (6.4 kB)\n",
      "Collecting kiwisolver>=1.0.1\n",
      "  Downloading kiwisolver-1.4.2-cp38-cp38-win_amd64.whl (55 kB)\n",
      "Requirement already satisfied: pyparsing>=2.2.1 in f:\\anaconda3\\envs\\pybook\\lib\\site-packages (from matplotlib) (3.0.7)\n",
      "Requirement already satisfied: six>=1.5 in f:\\anaconda3\\envs\\pybook\\lib\\site-packages (from python-dateutil>=2.8.1->pandas) (1.16.0)\n",
      "Installing collected packages: pytz, pillow, numpy, kiwisolver, fonttools, cycler, pandas, matplotlib\n",
      "Successfully installed cycler-0.11.0 fonttools-4.31.2 kiwisolver-1.4.2 matplotlib-3.5.1 numpy-1.22.3 pandas-1.4.2 pillow-9.1.0 pytz-2022.1\n"
     ]
    }
   ],
   "source": [
    "!pip install pandas numpy matplotlib"
   ]
  },
  {
   "cell_type": "markdown",
   "id": "b832a99c",
   "metadata": {},
   "source": [
    "#### 판다스의 설치 및 활용\n",
    "- 판다스는 파이썬에서 가장 널리 사용되는 데이터 분석 라이브러리\n",
    "- '데이터 프레임'이라는 자료구조를 사용 (엑셀의 스프레드시트와 유사한 형태)"
   ]
  },
  {
   "cell_type": "code",
   "execution_count": 3,
   "id": "4d789e44",
   "metadata": {},
   "outputs": [
    {
     "data": {
      "text/html": [
       "<div>\n",
       "<style scoped>\n",
       "    .dataframe tbody tr th:only-of-type {\n",
       "        vertical-align: middle;\n",
       "    }\n",
       "\n",
       "    .dataframe tbody tr th {\n",
       "        vertical-align: top;\n",
       "    }\n",
       "\n",
       "    .dataframe thead th {\n",
       "        text-align: right;\n",
       "    }\n",
       "</style>\n",
       "<table border=\"1\" class=\"dataframe\">\n",
       "  <thead>\n",
       "    <tr style=\"text-align: right;\">\n",
       "      <th></th>\n",
       "      <th>Names</th>\n",
       "      <th>Births</th>\n",
       "    </tr>\n",
       "  </thead>\n",
       "  <tbody>\n",
       "    <tr>\n",
       "      <th>0</th>\n",
       "      <td>Bob</td>\n",
       "      <td>968</td>\n",
       "    </tr>\n",
       "    <tr>\n",
       "      <th>1</th>\n",
       "      <td>Jessica</td>\n",
       "      <td>155</td>\n",
       "    </tr>\n",
       "    <tr>\n",
       "      <th>2</th>\n",
       "      <td>Mary</td>\n",
       "      <td>77</td>\n",
       "    </tr>\n",
       "    <tr>\n",
       "      <th>3</th>\n",
       "      <td>John</td>\n",
       "      <td>578</td>\n",
       "    </tr>\n",
       "    <tr>\n",
       "      <th>4</th>\n",
       "      <td>Mel</td>\n",
       "      <td>973</td>\n",
       "    </tr>\n",
       "  </tbody>\n",
       "</table>\n",
       "</div>"
      ],
      "text/plain": [
       "     Names  Births\n",
       "0      Bob     968\n",
       "1  Jessica     155\n",
       "2     Mary      77\n",
       "3     John     578\n",
       "4      Mel     973"
      ]
     },
     "execution_count": 3,
     "metadata": {},
     "output_type": "execute_result"
    }
   ],
   "source": [
    "import pandas as pd\n",
    "\n",
    "# Pandas의 Dataframe을 생성합니다.\n",
    "names = ['Bob','Jessica','Mary','John','Mel']\n",
    "births = [968, 155, 77, 578, 973]\n",
    "custom = [1, 5, 25, 13, 23232]\n",
    "\n",
    "BabyDataSet = list(zip(names,births)) # zip(): 동일한 개수로 이루어진 자료형을 묶어주는 역할\n",
    "df = pd.DataFrame(data = BabyDataSet, columns=['Names', 'Births'])\n",
    "\n",
    "#데이터프레임의 상단 부분을 출력합니다.\n",
    "df.head()"
   ]
  },
  {
   "cell_type": "code",
   "execution_count": 3,
   "id": "aacd5e93",
   "metadata": {},
   "outputs": [
    {
     "name": "stdout",
     "output_type": "stream",
     "text": [
      "Names     object\n",
      "Births     int64\n",
      "dtype: object\n",
      "---------------------------------\n",
      "RangeIndex(start=0, stop=5, step=1)\n",
      "---------------------------------\n",
      "Index(['Names', 'Births'], dtype='object')\n"
     ]
    }
   ],
   "source": [
    "# 데이터프레임의 열 타입 정보를 출력합니다.\n",
    "# dtypes : 열의 타입 정보\n",
    "print(df.dtypes)\n",
    "print(\"---------------------------------\")\n",
    "\n",
    "# 데이터프레임의 형태 정보입니다.\n",
    "# index : 행의 형태 정보\n",
    "print(df.index)\n",
    "print(\"---------------------------------\")\n",
    "\n",
    "# 데이터프레임의 열 정보입니다.\n",
    "# columns : 데이터 프레임의 열 정보를 조금 더 간략한 형태로 요약. 열의 이름 조회\n",
    "print(df.columns)"
   ]
  },
  {
   "cell_type": "code",
   "execution_count": 4,
   "id": "948101c0",
   "metadata": {},
   "outputs": [
    {
     "data": {
      "text/plain": [
       "0        Bob\n",
       "1    Jessica\n",
       "2       Mary\n",
       "3       John\n",
       "4        Mel\n",
       "Name: Names, dtype: object"
      ]
     },
     "execution_count": 4,
     "metadata": {},
     "output_type": "execute_result"
    }
   ],
   "source": [
    "# 데이터프레임의 열이름을 선택하여 데이터 출력. 하나의 열을 선택합니다.\n",
    "df['Names']"
   ]
  },
  {
   "cell_type": "markdown",
   "id": "1e9c819b",
   "metadata": {},
   "source": [
    "-> 시리즈객체 출력"
   ]
  },
  {
   "cell_type": "code",
   "execution_count": 5,
   "id": "409eb85d",
   "metadata": {},
   "outputs": [
    {
     "data": {
      "text/html": [
       "<div>\n",
       "<style scoped>\n",
       "    .dataframe tbody tr th:only-of-type {\n",
       "        vertical-align: middle;\n",
       "    }\n",
       "\n",
       "    .dataframe tbody tr th {\n",
       "        vertical-align: top;\n",
       "    }\n",
       "\n",
       "    .dataframe thead th {\n",
       "        text-align: right;\n",
       "    }\n",
       "</style>\n",
       "<table border=\"1\" class=\"dataframe\">\n",
       "  <thead>\n",
       "    <tr style=\"text-align: right;\">\n",
       "      <th></th>\n",
       "      <th>Names</th>\n",
       "      <th>Births</th>\n",
       "    </tr>\n",
       "  </thead>\n",
       "  <tbody>\n",
       "    <tr>\n",
       "      <th>0</th>\n",
       "      <td>Bob</td>\n",
       "      <td>968</td>\n",
       "    </tr>\n",
       "    <tr>\n",
       "      <th>1</th>\n",
       "      <td>Jessica</td>\n",
       "      <td>155</td>\n",
       "    </tr>\n",
       "    <tr>\n",
       "      <th>2</th>\n",
       "      <td>Mary</td>\n",
       "      <td>77</td>\n",
       "    </tr>\n",
       "  </tbody>\n",
       "</table>\n",
       "</div>"
      ],
      "text/plain": [
       "     Names  Births\n",
       "0      Bob     968\n",
       "1  Jessica     155\n",
       "2     Mary      77"
      ]
     },
     "execution_count": 5,
     "metadata": {},
     "output_type": "execute_result"
    }
   ],
   "source": [
    "# 행의 구간에 해당하는 데이터를 출력. 0~3 번째 인덱스를 선택합니다.\n",
    "df[0:3]"
   ]
  },
  {
   "cell_type": "markdown",
   "id": "3dd5b024",
   "metadata": {},
   "source": [
    "-> 데이터프레임 출력"
   ]
  },
  {
   "cell_type": "code",
   "execution_count": 6,
   "id": "b5f11117",
   "metadata": {},
   "outputs": [
    {
     "data": {
      "text/html": [
       "<div>\n",
       "<style scoped>\n",
       "    .dataframe tbody tr th:only-of-type {\n",
       "        vertical-align: middle;\n",
       "    }\n",
       "\n",
       "    .dataframe tbody tr th {\n",
       "        vertical-align: top;\n",
       "    }\n",
       "\n",
       "    .dataframe thead th {\n",
       "        text-align: right;\n",
       "    }\n",
       "</style>\n",
       "<table border=\"1\" class=\"dataframe\">\n",
       "  <thead>\n",
       "    <tr style=\"text-align: right;\">\n",
       "      <th></th>\n",
       "      <th>Names</th>\n",
       "      <th>Births</th>\n",
       "    </tr>\n",
       "  </thead>\n",
       "  <tbody>\n",
       "    <tr>\n",
       "      <th>0</th>\n",
       "      <td>Bob</td>\n",
       "      <td>968</td>\n",
       "    </tr>\n",
       "    <tr>\n",
       "      <th>1</th>\n",
       "      <td>Jessica</td>\n",
       "      <td>155</td>\n",
       "    </tr>\n",
       "    <tr>\n",
       "      <th>3</th>\n",
       "      <td>John</td>\n",
       "      <td>578</td>\n",
       "    </tr>\n",
       "    <tr>\n",
       "      <th>4</th>\n",
       "      <td>Mel</td>\n",
       "      <td>973</td>\n",
       "    </tr>\n",
       "  </tbody>\n",
       "</table>\n",
       "</div>"
      ],
      "text/plain": [
       "     Names  Births\n",
       "0      Bob     968\n",
       "1  Jessica     155\n",
       "3     John     578\n",
       "4      Mel     973"
      ]
     },
     "execution_count": 6,
     "metadata": {},
     "output_type": "execute_result"
    }
   ],
   "source": [
    "# 필터링. Births 열이 100보다 큰 데이터를 선택합니다.\n",
    "df[df['Births'] > 100]"
   ]
  },
  {
   "cell_type": "code",
   "execution_count": 7,
   "id": "99e5b328",
   "metadata": {},
   "outputs": [
    {
     "data": {
      "text/plain": [
       "Births    550.2\n",
       "dtype: float64"
      ]
     },
     "execution_count": 7,
     "metadata": {},
     "output_type": "execute_result"
    }
   ],
   "source": [
    "# 데이터프레임에서의 평균값을 계산합니다.\n",
    "df.mean()"
   ]
  },
  {
   "cell_type": "markdown",
   "id": "5c2e8c6c",
   "metadata": {},
   "source": [
    "#### 넘파이의 설치와 활용\n",
    "* 수치 계산을 위해 만들어진 파이썬 라이브러리\n",
    "* 배열 개념으로 변수를 사용\n",
    "* 벡터, 행렬 등의 연산을 쉽고 빠르게 수행하도록 지원\n",
    "* 데이터 분석의 기본 자료구조"
   ]
  },
  {
   "cell_type": "code",
   "execution_count": 8,
   "id": "7d6b9d37",
   "metadata": {},
   "outputs": [],
   "source": [
    "import numpy as np"
   ]
  },
  {
   "cell_type": "code",
   "execution_count": 9,
   "id": "1e70ee0a",
   "metadata": {},
   "outputs": [
    {
     "name": "stdout",
     "output_type": "stream",
     "text": [
      "[[ 0  1  2  3  4]\n",
      " [ 5  6  7  8  9]\n",
      " [10 11 12 13 14]]\n"
     ]
    }
   ],
   "source": [
    "# 넘파이 배열 생성하기\n",
    "arr1 = np.arange(15).reshape(3, 5) # np.arange(start(default 0), end(포함x), step size(default 1)): 실수 단위 가능\n",
    "print(arr1)"
   ]
  },
  {
   "cell_type": "code",
   "execution_count": 10,
   "id": "6bf804ea",
   "metadata": {},
   "outputs": [
    {
     "data": {
      "text/plain": [
       "(3, 5)"
      ]
     },
     "execution_count": 10,
     "metadata": {},
     "output_type": "execute_result"
    }
   ],
   "source": [
    "# 넘파이 배열 데이터의 차원을 확인하는 방법은 shape 호출\n",
    "arr1.shape"
   ]
  },
  {
   "cell_type": "code",
   "execution_count": 11,
   "id": "776f4cf0",
   "metadata": {},
   "outputs": [
    {
     "data": {
      "text/plain": [
       "dtype('int32')"
      ]
     },
     "execution_count": 11,
     "metadata": {},
     "output_type": "execute_result"
    }
   ],
   "source": [
    "# 데이터 타입을 확인하는 방법은 dtype 호출\n",
    "arr1.dtype"
   ]
  },
  {
   "cell_type": "code",
   "execution_count": 12,
   "id": "a8c71004",
   "metadata": {},
   "outputs": [
    {
     "name": "stdout",
     "output_type": "stream",
     "text": [
      "[6 7 8]\n"
     ]
    }
   ],
   "source": [
    "arr2 = np.array([6, 7, 8])\n",
    "print(arr2)"
   ]
  },
  {
   "cell_type": "code",
   "execution_count": 13,
   "id": "17656104",
   "metadata": {},
   "outputs": [
    {
     "name": "stdout",
     "output_type": "stream",
     "text": [
      "[[0. 0. 0. 0.]\n",
      " [0. 0. 0. 0.]\n",
      " [0. 0. 0. 0.]]\n"
     ]
    }
   ],
   "source": [
    "# zeros() 함수는 0으로 채워진 넘파이 배열을 생성하는 함수\n",
    "# ones() 함수는 1을 채워주는 역할하는 함수\n",
    "arr3 = np.zeros((3,4))\n",
    "print(arr3)"
   ]
  },
  {
   "cell_type": "code",
   "execution_count": 14,
   "id": "a9e56e4f",
   "metadata": {},
   "outputs": [
    {
     "name": "stdout",
     "output_type": "stream",
     "text": [
      "arr4 + arr5 = \n",
      "[[ 8. 10. 12.]\n",
      " [14. 16. 18.]] \n",
      "\n",
      "arr4 - arr5 = \n",
      "[[-6. -6. -6.]\n",
      " [-6. -6. -6.]] \n",
      "\n",
      "arr4 * arr5 = \n",
      "[[ 7. 16. 27.]\n",
      " [40. 55. 72.]] \n",
      "\n",
      "arr4 / arr5 = \n",
      "[[0.14285714 0.25       0.33333333]\n",
      " [0.4        0.45454545 0.5       ]] \n",
      "\n"
     ]
    }
   ],
   "source": [
    "# 데이터 연산\n",
    "arr4 = np.array([\n",
    "    [1,2,3],\n",
    "    [4,5,6]\n",
    "], dtype = np.float64)\n",
    "\n",
    "arr5 = np.array([\n",
    "    [7,8,9],\n",
    "    [10,11,12]\n",
    "], dtype = np.float64)\n",
    "\n",
    "# 사칙연산을 출력합니다.\n",
    "print(\"arr4 + arr5 = \")\n",
    "print(arr4 + arr5,\"\\n\")\n",
    "print(\"arr4 - arr5 = \")\n",
    "print(arr4 - arr5,\"\\n\")\n",
    "print(\"arr4 * arr5 = \")\n",
    "print(arr4 * arr5,\"\\n\")\n",
    "print(\"arr4 / arr5 = \")\n",
    "print(arr4 / arr5,\"\\n\")"
   ]
  },
  {
   "cell_type": "markdown",
   "id": "05393bf8",
   "metadata": {},
   "source": [
    "- numpy라이브러리는 dot()함수를 이용한 행렬 연산 등 기능 제공\n",
    "- dot() https://jimmy-ai.tistory.com/75\n",
    "\n",
    "#### matplotlib\n",
    "* 데이터를 시각화해주는 가장 기본적인 라이브러리\n",
    "* 주피터 노트북에서 matplotlib로 시각화된 그래프를 출력하려면 아래와 같은 코드를 미리 실행해두어야 함\n",
    "* %matplotlib inline 코드는 현재 실행중인 주피터 노트북에서 그래프를 출력 가능하도록 선언하는 명령어"
   ]
  },
  {
   "cell_type": "code",
   "execution_count": 15,
   "id": "25c8cc6b",
   "metadata": {},
   "outputs": [],
   "source": [
    "%matplotlib inline\n",
    "import matplotlib.pyplot as plt"
   ]
  },
  {
   "cell_type": "markdown",
   "id": "969c5963",
   "metadata": {},
   "source": [
    "* matplotlib 라이브러리를 사용할 때는 우선 그래프 객체를 생성해 주어야 함\n",
    "* plt.bar(x,y)를 실행하면 막대 그래프 객체가 생성되고, 이제 다른 요소를 추가해 줄 수 있음\n",
    "- plt.xlabel : x축 제목\n",
    "- plt.ylabel : y축 제목\n",
    "- plt.title : 그래프 전체 제목"
   ]
  },
  {
   "cell_type": "code",
   "execution_count": 16,
   "id": "1b39fe85",
   "metadata": {},
   "outputs": [
    {
     "data": {
      "image/png": "[encoded data removed]",
      "text/plain": [
       "<Figure size 432x288 with 1 Axes>"
      ]
     },
     "metadata": {
      "needs_background": "light"
     },
     "output_type": "display_data"
    }
   ],
   "source": [
    "y = df['Births']\n",
    "x = df['Names']\n",
    "\n",
    "# bar plot을 출력합니다.\n",
    "plt.bar(x, y) # 막대그래프 객체 생성\n",
    "plt.xlabel('Names') # x축 제목\n",
    "plt.ylabel('Births') # y축 제목\n",
    "plt.title('Bar plot') # 그래프 제목\n",
    "plt.show() # 그래프 출력"
   ]
  },
  {
   "cell_type": "code",
   "execution_count": 31,
   "id": "216b7efe",
   "metadata": {},
   "outputs": [
    {
     "data": {
      "image/png": "[encoded data removed]",
      "text/plain": [
       "<Figure size 432x288 with 1 Axes>"
      ]
     },
     "metadata": {
      "needs_background": "light"
     },
     "output_type": "display_data"
    }
   ],
   "source": [
    "# 랜덤 추출 시드를 고정합니다.\n",
    "# 컴퓨터 프로그램에서 발생한 랜덤값은 무작위 수가 아니라 \n",
    "# 특정 시작 숫자값을 정해주면 정해진 알고리즘에 따라 마치 난수처럼 보이는 수열을 생성\n",
    "# 이때 설정해주는 특정 시작 숫자가 시드(seed)\n",
    "np.random.seed(19920613)\n",
    "\n",
    "# scatter plot(산점도) 데이터를 생성합니다.\n",
    "x = np.arange(0.0, 100.0, 5.0)\n",
    "y = (x * 1.5) + np.random.rand(20) * 50\n",
    "\n",
    "# scatter plot을 출력합니다.\n",
    "plt.scatter(x, y, c=\"b\", alpha=0.5, label=\"scatter point\") # c: 마커의 색상, alpha : 투명도\n",
    "plt.xlabel(\"X\")\n",
    "plt.xticks(np.arange(0,100,10))\n",
    "plt.ylabel(\"Y\")\n",
    "plt.legend(loc='upper left')\n",
    "plt.title('Scatter plot')\n",
    "plt.show()"
   ]
  },
  {
   "cell_type": "code",
   "execution_count": null,
   "id": "f81cd982",
   "metadata": {},
   "outputs": [],
   "source": []
  }
 ],
 "metadata": {
  "kernelspec": {
   "display_name": "Python 3 (ipykernel)",
   "language": "python",
   "name": "python3"
  },
  "language_info": {
   "codemirror_mode": {
    "name": "ipython",
    "version": 3
   },
   "file_extension": ".py",
   "mimetype": "text/x-python",
   "name": "python",
   "nbconvert_exporter": "python",
   "pygments_lexer": "ipython3",
   "version": "3.8.13"
  },
  "toc": {
   "base_numbering": 1,
   "nav_menu": {},
   "number_sections": true,
   "sideBar": true,
   "skip_h1_title": false,
   "title_cell": "Table of Contents",
   "title_sidebar": "Contents",
   "toc_cell": false,
   "toc_position": {},
   "toc_section_display": true,
   "toc_window_display": false
  },
  "varInspector": {
   "cols": {
    "lenName": 16,
    "lenType": 16,
    "lenVar": 40
   },
   "kernels_config": {
    "python": {
     "delete_cmd_postfix": "",
     "delete_cmd_prefix": "del ",
     "library": "var_list.py",
     "varRefreshCmd": "print(var_dic_list())"
    },
    "r": {
     "delete_cmd_postfix": ") ",
     "delete_cmd_prefix": "rm(",
     "library": "var_list.r",
     "varRefreshCmd": "cat(var_dic_list()) "
    }
   },
   "types_to_exclude": [
    "module",
    "function",
    "builtin_function_or_method",
    "instance",
    "_Feature"
   ],
   "window_display": false
  }
 },
 "nbformat": 4,
 "nbformat_minor": 5
}
