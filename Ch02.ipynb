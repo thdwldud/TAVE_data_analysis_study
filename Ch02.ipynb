{
 "cells": [
  {
   "cell_type": "code",
   "execution_count": 1,
   "id": "f5a69bec",
   "metadata": {},
   "outputs": [],
   "source": [
    "%matplotlib inline\n",
    "\n",
    "import pandas as pd\n",
    "import numpy as np\n",
    "import matplotlib.pyplot as plt\n",
    "\n",
    "import warnings\n",
    "warnings.filterwarnings(\"ignore\")"
   ]
  },
  {
   "cell_type": "markdown",
   "id": "9bc7e7ce",
   "metadata": {},
   "source": [
    "## 웹 크롤링으로 기초 데이터 수집하기 \n",
    "### 웹 크롤링 라이브러리 사용하기\n",
    "- 아래 코드 실행을 위해, anaconda prompt 혹은 Terminal에서 아래와 같은 패키지들을 설치해 줍니다.\n",
    "    - (env_name) pip install selenium\n",
    "    - (env_name) pip install beautifulsoup4\n",
    "- 혹은 아래의 코드로 라이브러리를 설치합니다."
   ]
  },
  {
   "cell_type": "code",
   "execution_count": 2,
   "id": "75cdefe1",
   "metadata": {},
   "outputs": [],
   "source": [
    "# !pip install selenium beautifulsoup4"
   ]
  },
  {
   "cell_type": "code",
   "execution_count": 3,
   "id": "f94a2dd8",
   "metadata": {},
   "outputs": [],
   "source": [
    "from selenium import webdriver\n",
    "from bs4 import BeautifulSoup\n",
    "import re\n",
    "from selenium.webdriver.common.by import By\n",
    "from selenium.webdriver.support.ui import WebDriverWait\n",
    "from selenium.webdriver.support import expected_conditions as EC\n",
    "\n",
    "# 윈도우용 크롬 웹드라이버 실행 경로 (Windows)\n",
    "excutable_path = \"chromedriver.exe\"\n",
    "\n",
    "# 크롤링할 사이트 주소를 정의합니다.\n",
    "source_url = \"https://namu.wiki/RecentChanges\"\n",
    "\n",
    "# 사이트의 html 구조에 기반하여 크롤링을 수행합니다.\n",
    "# driver = webdriver.Chrome(path)  # for Mac\n",
    "driver = webdriver.Chrome(executable_path=excutable_path)  # for Windows\n",
    "driver.get(source_url)\n",
    "\n",
    "# table, tbody, tr 태그를 찾을 때 까지 wait\n",
    "WebDriverWait(driver,10).until(EC.presence_of_element_located((By.TAG_NAME, \"tr\")))\n",
    "\n",
    "req = driver.page_source\n",
    "soup = BeautifulSoup(req, \"html.parser\")\n",
    "\n",
    "\n",
    "contents_table = soup.find(name=\"table\")\n",
    "table_body = contents_table.find(name=\"tbody\")\n",
    "table_rows = table_body.find_all(name=\"tr\")"
   ]
  },
  {
   "cell_type": "markdown",
   "id": "2c570b11",
   "metadata": {},
   "source": [
    "페이지의 URL 정보 추출하기"
   ]
  },
  {
   "cell_type": "code",
   "execution_count": 4,
   "id": "6f7f435a",
   "metadata": {},
   "outputs": [
    {
     "name": "stdout",
     "output_type": "stream",
     "text": [
      "https://namu.wiki/w/%EC%9E%85%EB%B3%B4%EB%A6%AC%ED%96%89%EB%A1%A0\n",
      "https://namu.wiki/w/%ED%95%98%EC%BF%A0%EC%9D%B4%20%EC%BD%94%EC%9A%94%EB%A6%AC\n",
      "https://namu.wiki/w/%ED%8B%80:%EB%B8%8C%EB%A1%A4%EC%8A%A4%ED%83%80%EC%A6%88/%EB%A7%B5/%ED%85%8C%EC%9D%B4%ED%81%AC%EB%8B%A4%EC%9A%B4\n"
     ]
    }
   ],
   "source": [
    "# a태그의 href 속성을 리스트로 추출하여, 크롤링 할 페이지 리스트를 생성합니다.\n",
    "page_url_base = \"https://namu.wiki\"\n",
    "page_urls = []\n",
    "for index in range(0, len(table_rows)):\n",
    "    first_td = table_rows[index].find_all(\"td\")[0]\n",
    "    td_url = first_td.find_all(\"a\")\n",
    "    if len(td_url) > 0:\n",
    "        page_url = page_url_base + td_url[0].get(\"href\")\n",
    "        if \"png\" not in page_url:\n",
    "            page_urls.append(page_url)\n",
    "\n",
    "# 중복 url을 제거합니다.\n",
    "\n",
    "page_urls = list(set(page_urls))\n",
    "\n",
    "for page in page_urls[:3]:\n",
    "    print(page)\n",
    "    \n",
    "# # 크롤링에 사용한 브라우저를 종료합니다.\n",
    "# driver.close()"
   ]
  },
  {
   "cell_type": "markdown",
   "id": "05c8b82c",
   "metadata": {},
   "source": [
    "### 텍스트 정보 수집하기\n",
    "페이지 내 텍스트 구조 확인"
   ]
  },
  {
   "cell_type": "code",
   "execution_count": 5,
   "id": "709f7579",
   "metadata": {},
   "outputs": [
    {
     "name": "stdout",
     "output_type": "stream",
     "text": [
      "입보리행론 \n",
      "\n",
      "\n",
      "불경티베트불교\n",
      "\n",
      "\n",
      " 1. 서론2. 이 책의 저자 샨띠데바 스님에 대하여3. 입보리행론의 내용4. 관련 문서세상의 모든 행복은 어디에서 오는가. 그 모든 것은 남을 위하는 데서 온다. 세상의 모든 불행은 어디에서 오는가. 그 모든 것은 자신을 위하는 데서 온다. 많이 말을 할 필요가 있는가?어리석은 이는 자신을 위해서 일하고부처는 남을 위해 일한다. 이 둘의 차이를 보라!자기의 안락을 남의 고(苦)와 완전히 바꾸지 않는다면 부처를 이룰 수 없고윤회 세계에서도 안락은 없다. 티벳의 샨띠데바 스님이 지은 논서이다.입보리행론(入菩提行論)이란, 보리행에 들어간다는 뜻으로, 영여로는 Guide to the Bodhisattva's Way of Life, The way of the Bpdhisattva 라고 한다. 산스크리트본, 한역본, 티베트역본 등 많은 번역본이 현존하고 논서의 주석서만 130가지가 넘는다. 주로 보리심이라는, 대승불교의 보살행을 가능케하고 깨달음의 마음을 뜻하는 사상과 보살도의 실천이 요점이 일목요연하게 잘 나와 있으며 10개의 장으로 구성된 책 전체가 게송으로 이루어져 있어 운율과 시문의 아름다움을 또한 느낄 수 있다. 샨띠데바(Santidave)를 한자로 쓰면 寂天 이라고 한다. 7~8세기 경 인도 나란다 대학에서 대승의 중요 사상을 널리 선양한, 중관학자였으며 남인도 사우라아슈트라국의 왕자로 태어났으나 꿈에서 문수보살을 친견, \"왕의 자리는 지옥과 같다\"라는 말을 듣고 왕위를 계승하기 하루 전날 밤 왕궁을 몰래 나와 나란다 대학으로 가서 비구가 되었다. 많은 큰스님 밑에서 폭넓게 수학하면서, 은밀히 삼매를 닦으며 무위행(無爲行)에 들어갔으나 겉으로 볼 때는 항상 먹고, 자고, 놀기만 하는 그런 스님이였다고 한다. 어느 날 나란다 대학의 전통인 큰스님들이 경을 외우는 법회가 있었는데, 어느날 적천 스님의 차례가 되자, 나란다사의 대중들은 놀고먹고 자기만 하는 이 스님의 입에서 도대체 어떤 경문이 나올까 의심을 하며 모여들었다. 적천 스님은 법좌(法座)에 올라 \"여태까지 외웠던 것을 송경을 할까요, 아니면 지금까지 없었던 것, 즉 새로운 것을 외워볼까요?\"라고 대중들에게 물었다고 한다. 그러자 대중들은 지금까지 없었던 것을 요구했고, 이에 스님은 '대승의 모든 뜻이 결집된' 이 <입보리행론>을 설하였다. 이어서 제 9장 <지혜 바라밀품> 34절 \"만일 사물과 비사물들이 마음 앞에 존재하지 않는다면, 그때 형상(形相)은 구분이 없어지고 대상은 존재하지 않아 완전한 평정을 얻으리라\"라는 게송을 송경할 무렵 적천 스님의 몸은 사라지고 오직 음성만 하늘에서 들려왔다고 한다. 대중은 이후 이 모든 송경을 듣고 기억해, 놀라움과 기쁨으로 이 경을 기록해 두었다. 이후 적천 스님은 다시 날란다 대학에 돌아오지 않았으며 그를 찾는 제자들에게 스님 방 어딘가에 써 둔 경론을 참고해 더욱 수행에 정진할 것을 당부했는데, 그것이 <대승집보살학론( 大承集菩薩學論)> 또는 <제요경집(諸要經集)>이었다. [1]테베트 불교에서는 오늘날까지도 중요시 되는 경전인듯 하다. 티베트 망명 정부가 자리잡은 다람살라에서도 달라이 라마께서 집전하는 법회의 시작과 끝에 이 책에 나오는 게송을 암송한다고 한다. 처음 1장, 2장, 3장은 속제와 진제로 보리심을 일으켜야 하는 것, 4장, 5장, 6장은 일깨운 보리심을 잘 지키는 것, 7장, 8장, 9장은 이 지켜온 보리심을 위로 위로 향상시키는 것으로 되어 있다. 10장은 이러한 수행과 보리심의 공덕을 이웃에 회향하고 대원력을 발하는 기원으로 마무리된다. 보리심 공덕 찬탄품, 죄업참회품, 보리심 전지(全持)품[:], 보리심 불방일(不放逸)품[3], 호계정지(護戒正知)품[4], 인욕품(忍辱)품, 정진(正進)품, 선정(禪定)품, 지혜(知慧)품, 회향(回向)품이다. • 대승불교•  중관학\n"
     ]
    }
   ],
   "source": [
    "# 하나의 최근 변경된 문서를 크롤링\n",
    "\n",
    "# 크롬 드라이버를 사용\n",
    "driver = webdriver.Chrome(executable_path=excutable_path)  # for Windows\n",
    "\n",
    "# 드라이버가 브라우징 할 페이지 소스를 입력\n",
    "driver.get(page_urls[0])\n",
    "req = driver.page_source\n",
    "soup = BeautifulSoup(req, 'html.parser')\n",
    "contents_table = soup.find(name=\"article\")\n",
    "title = contents_table.find_all('h1')[0]\n",
    "category = contents_table.find_all('ul')[0]\n",
    "content_paragraphs = contents_table.find_all(name=\"div\", attrs={\"class\":\"wiki-paragraph\"})\n",
    "content_corpus_list = []\n",
    "\n",
    "for paragraphs in content_paragraphs:\n",
    "    content_corpus_list.append(paragraphs.text)\n",
    "content_corpus = \"\".join(content_corpus_list)\n",
    "\n",
    "print(title.text)\n",
    "print(\"\\n\")\n",
    "print(category.text)\n",
    "print(\"\\n\")\n",
    "print(content_corpus)\n",
    "\n",
    "# 크롤링에 사용한 브라우저를 종료합니다.\n",
    "driver.close()"
   ]
  },
  {
   "cell_type": "markdown",
   "id": "71b4c839",
   "metadata": {},
   "source": [
    "## 나무위키 최근 변경 페이지 키워드 분석하기\n",
    "### step1 크롤링 : 웹데이터 가져오기\n",
    "이번에는 모든 URL의 데이터를 가져오기\n",
    "나무위키에서 최근 변경이 일어난 페이지들의 URL을 page_urls라는 변수에 저장"
   ]
  },
  {
   "cell_type": "code",
   "execution_count": 6,
   "id": "baff88b9",
   "metadata": {},
   "outputs": [],
   "source": [
    "%matplotlib inline\n",
    "\n",
    "import pandas as pd\n",
    "import numpy as np\n",
    "import matplotlib.pyplot as plt\n",
    "from selenium import webdriver\n",
    "from bs4 import BeautifulSoup\n",
    "import re\n",
    "\n",
    "# 윈도우용 크롬 웹드라이버 실행 경로 (Windows)\n",
    "excutable_path = \"chromedriver.exe\"\n",
    "\n",
    "# 크롤링할 사이트 주소를 정의합니다.\n",
    "source_url = \"https://namu.wiki/RecentChanges\"\n",
    "\n",
    "# 사이트의 html 구조에 기반하여 크롤링을 수행합니다.\n",
    "# driver = webdriver.Chrome(path)  # for Mac\n",
    "driver = webdriver.Chrome(executable_path=excutable_path)  # for Windows\n",
    "driver.get(source_url)\n",
    "\n",
    "# table, tbody, tr 태그를 찾을 때 까지 wait\n",
    "WebDriverWait(driver,10).until(EC.presence_of_element_located((By.TAG_NAME, \"tr\")))\n",
    "\n",
    "req = driver.page_source\n",
    "soup = BeautifulSoup(req, \"html.parser\")\n",
    "\n",
    "\n",
    "contents_table = soup.find(name=\"table\")\n",
    "table_body = contents_table.find(name=\"tbody\")\n",
    "table_rows = table_body.find_all(name=\"tr\")\n",
    "\n",
    "# a태그의 href 속성을 리스트로 추출하여, 크롤링 할 페이지 리스트를 생성합니다.\n",
    "page_url_base = \"https://namu.wiki\"\n",
    "page_urls = []\n",
    "for index in range(0, len(table_rows)):\n",
    "    first_td = table_rows[index].find_all(\"td\")[0]\n",
    "    td_url = first_td.find_all(\"a\")\n",
    "    if len(td_url) > 0:\n",
    "        page_url = page_url_base + td_url[0].get(\"href\")\n",
    "        if \"png\" not in page_url:\n",
    "            page_urls.append(page_url)\n",
    "\n",
    "# 중복 url을 제거합니다.\n",
    "\n",
    "page_urls = list(set(page_urls))\n",
    "\n",
    "# 크롤링에 사용한 브라우저를 종료합니다.\n",
    "driver.close()"
   ]
  },
  {
   "cell_type": "markdown",
   "id": "aa2de85b",
   "metadata": {},
   "source": [
    "이 주소들에 다시 한번 접근하여 문서의 본문과 제목, 그리고 카테고리에 등장하는 텍스트 데이터를 가져오기"
   ]
  },
  {
   "cell_type": "code",
   "execution_count": 7,
   "id": "8760fc63",
   "metadata": {},
   "outputs": [
    {
     "name": "stderr",
     "output_type": "stream",
     "text": [
      "Exception ignored in: <function Service.__del__ at 0x000002D7FEA23280>\n",
      "Traceback (most recent call last):\n",
      "  File \"F:\\Anaconda3\\envs\\pybook\\lib\\site-packages\\selenium\\webdriver\\common\\service.py\", line 172, in __del__\n",
      "    self.stop()\n",
      "  File \"F:\\Anaconda3\\envs\\pybook\\lib\\site-packages\\selenium\\webdriver\\common\\service.py\", line 147, in stop\n",
      "    self.send_remote_shutdown_command()\n",
      "  File \"F:\\Anaconda3\\envs\\pybook\\lib\\site-packages\\selenium\\webdriver\\common\\service.py\", line 128, in send_remote_shutdown_command\n",
      "    if not self.is_connectable():\n",
      "  File \"F:\\Anaconda3\\envs\\pybook\\lib\\site-packages\\selenium\\webdriver\\common\\service.py\", line 116, in is_connectable\n",
      "    return utils.is_connectable(self.port)\n",
      "  File \"F:\\Anaconda3\\envs\\pybook\\lib\\site-packages\\selenium\\webdriver\\common\\utils.py\", line 107, in is_connectable\n",
      "    socket_ = socket.create_connection((host, port), 1)\n",
      "  File \"F:\\Anaconda3\\envs\\pybook\\lib\\socket.py\", line 796, in create_connection\n",
      "    sock.connect(sa)\n",
      "KeyboardInterrupt: \n"
     ]
    },
    {
     "ename": "KeyboardInterrupt",
     "evalue": "",
     "output_type": "error",
     "traceback": [
      "\u001b[1;31m---------------------------------------------------------------------------\u001b[0m",
      "\u001b[1;31mKeyboardInterrupt\u001b[0m                         Traceback (most recent call last)",
      "Input \u001b[1;32mIn [7]\u001b[0m, in \u001b[0;36m<cell line: 6>\u001b[1;34m()\u001b[0m\n\u001b[0;32m      5\u001b[0m \u001b[38;5;66;03m# 각 페이지별 '제목', '카테고리', '본문' 정보를 데이터 프레임으로 만듭니다.\u001b[39;00m\n\u001b[0;32m      6\u001b[0m \u001b[38;5;28;01mfor\u001b[39;00m page_url \u001b[38;5;129;01min\u001b[39;00m page_urls:\n\u001b[0;32m      7\u001b[0m \n\u001b[0;32m      8\u001b[0m     \u001b[38;5;66;03m# 사이트의 html 구조에 기반하여 크롤링을 수행합니다.\u001b[39;00m\n\u001b[0;32m      9\u001b[0m     \u001b[38;5;66;03m# driver = webdriver.Chrome(path)  # for Mac\u001b[39;00m\n\u001b[1;32m---> 10\u001b[0m     driver \u001b[38;5;241m=\u001b[39m \u001b[43mwebdriver\u001b[49m\u001b[38;5;241;43m.\u001b[39;49m\u001b[43mChrome\u001b[49m\u001b[43m(\u001b[49m\u001b[43mexecutable_path\u001b[49m\u001b[38;5;241;43m=\u001b[39;49m\u001b[43mexcutable_path\u001b[49m\u001b[43m)\u001b[49m  \u001b[38;5;66;03m# for Windows\u001b[39;00m\n\u001b[0;32m     11\u001b[0m     driver\u001b[38;5;241m.\u001b[39mget(page_url)\n\u001b[0;32m     12\u001b[0m     req \u001b[38;5;241m=\u001b[39m driver\u001b[38;5;241m.\u001b[39mpage_source\n",
      "File \u001b[1;32mF:\\Anaconda3\\envs\\pybook\\lib\\site-packages\\selenium\\webdriver\\chrome\\webdriver.py:70\u001b[0m, in \u001b[0;36mWebDriver.__init__\u001b[1;34m(self, executable_path, port, options, service_args, desired_capabilities, service_log_path, chrome_options, service, keep_alive)\u001b[0m\n\u001b[0;32m     67\u001b[0m \u001b[38;5;28;01mif\u001b[39;00m \u001b[38;5;129;01mnot\u001b[39;00m service:\n\u001b[0;32m     68\u001b[0m     service \u001b[38;5;241m=\u001b[39m Service(executable_path, port, service_args, service_log_path)\n\u001b[1;32m---> 70\u001b[0m \u001b[38;5;28;43msuper\u001b[39;49m\u001b[43m(\u001b[49m\u001b[43mWebDriver\u001b[49m\u001b[43m,\u001b[49m\u001b[43m \u001b[49m\u001b[38;5;28;43mself\u001b[39;49m\u001b[43m)\u001b[49m\u001b[38;5;241;43m.\u001b[39;49m\u001b[38;5;21;43m__init__\u001b[39;49m\u001b[43m(\u001b[49m\u001b[43mDesiredCapabilities\u001b[49m\u001b[38;5;241;43m.\u001b[39;49m\u001b[43mCHROME\u001b[49m\u001b[43m[\u001b[49m\u001b[38;5;124;43m'\u001b[39;49m\u001b[38;5;124;43mbrowserName\u001b[39;49m\u001b[38;5;124;43m'\u001b[39;49m\u001b[43m]\u001b[49m\u001b[43m,\u001b[49m\u001b[43m \u001b[49m\u001b[38;5;124;43m\"\u001b[39;49m\u001b[38;5;124;43mgoog\u001b[39;49m\u001b[38;5;124;43m\"\u001b[39;49m\u001b[43m,\u001b[49m\n\u001b[0;32m     71\u001b[0m \u001b[43m                                \u001b[49m\u001b[43mport\u001b[49m\u001b[43m,\u001b[49m\u001b[43m \u001b[49m\u001b[43moptions\u001b[49m\u001b[43m,\u001b[49m\n\u001b[0;32m     72\u001b[0m \u001b[43m                                \u001b[49m\u001b[43mservice_args\u001b[49m\u001b[43m,\u001b[49m\u001b[43m \u001b[49m\u001b[43mdesired_capabilities\u001b[49m\u001b[43m,\u001b[49m\n\u001b[0;32m     73\u001b[0m \u001b[43m                                \u001b[49m\u001b[43mservice_log_path\u001b[49m\u001b[43m,\u001b[49m\u001b[43m \u001b[49m\u001b[43mservice\u001b[49m\u001b[43m,\u001b[49m\u001b[43m \u001b[49m\u001b[43mkeep_alive\u001b[49m\u001b[43m)\u001b[49m\n",
      "File \u001b[1;32mF:\\Anaconda3\\envs\\pybook\\lib\\site-packages\\selenium\\webdriver\\chromium\\webdriver.py:93\u001b[0m, in \u001b[0;36mChromiumDriver.__init__\u001b[1;34m(self, browser_name, vendor_prefix, port, options, service_args, desired_capabilities, service_log_path, service, keep_alive)\u001b[0m\n\u001b[0;32m     90\u001b[0m \u001b[38;5;28mself\u001b[39m\u001b[38;5;241m.\u001b[39mservice\u001b[38;5;241m.\u001b[39mstart()\n\u001b[0;32m     92\u001b[0m \u001b[38;5;28;01mtry\u001b[39;00m:\n\u001b[1;32m---> 93\u001b[0m     \u001b[43mRemoteWebDriver\u001b[49m\u001b[38;5;241;43m.\u001b[39;49m\u001b[38;5;21;43m__init__\u001b[39;49m\u001b[43m(\u001b[49m\n\u001b[0;32m     94\u001b[0m \u001b[43m        \u001b[49m\u001b[38;5;28;43mself\u001b[39;49m\u001b[43m,\u001b[49m\n\u001b[0;32m     95\u001b[0m \u001b[43m        \u001b[49m\u001b[43mcommand_executor\u001b[49m\u001b[38;5;241;43m=\u001b[39;49m\u001b[43mChromiumRemoteConnection\u001b[49m\u001b[43m(\u001b[49m\n\u001b[0;32m     96\u001b[0m \u001b[43m            \u001b[49m\u001b[43mremote_server_addr\u001b[49m\u001b[38;5;241;43m=\u001b[39;49m\u001b[38;5;28;43mself\u001b[39;49m\u001b[38;5;241;43m.\u001b[39;49m\u001b[43mservice\u001b[49m\u001b[38;5;241;43m.\u001b[39;49m\u001b[43mservice_url\u001b[49m\u001b[43m,\u001b[49m\n\u001b[0;32m     97\u001b[0m \u001b[43m            \u001b[49m\u001b[43mbrowser_name\u001b[49m\u001b[38;5;241;43m=\u001b[39;49m\u001b[43mbrowser_name\u001b[49m\u001b[43m,\u001b[49m\u001b[43m \u001b[49m\u001b[43mvendor_prefix\u001b[49m\u001b[38;5;241;43m=\u001b[39;49m\u001b[43mvendor_prefix\u001b[49m\u001b[43m,\u001b[49m\n\u001b[0;32m     98\u001b[0m \u001b[43m            \u001b[49m\u001b[43mkeep_alive\u001b[49m\u001b[38;5;241;43m=\u001b[39;49m\u001b[43mkeep_alive\u001b[49m\u001b[43m,\u001b[49m\u001b[43m \u001b[49m\u001b[43mignore_proxy\u001b[49m\u001b[38;5;241;43m=\u001b[39;49m\u001b[43m_ignore_proxy\u001b[49m\u001b[43m)\u001b[49m\u001b[43m,\u001b[49m\n\u001b[0;32m     99\u001b[0m \u001b[43m        \u001b[49m\u001b[43moptions\u001b[49m\u001b[38;5;241;43m=\u001b[39;49m\u001b[43moptions\u001b[49m\u001b[43m)\u001b[49m\n\u001b[0;32m    100\u001b[0m \u001b[38;5;28;01mexcept\u001b[39;00m \u001b[38;5;167;01mException\u001b[39;00m:\n\u001b[0;32m    101\u001b[0m     \u001b[38;5;28mself\u001b[39m\u001b[38;5;241m.\u001b[39mquit()\n",
      "File \u001b[1;32mF:\\Anaconda3\\envs\\pybook\\lib\\site-packages\\selenium\\webdriver\\remote\\webdriver.py:269\u001b[0m, in \u001b[0;36mWebDriver.__init__\u001b[1;34m(self, command_executor, desired_capabilities, browser_profile, proxy, keep_alive, file_detector, options)\u001b[0m\n\u001b[0;32m    267\u001b[0m \u001b[38;5;28mself\u001b[39m\u001b[38;5;241m.\u001b[39mfile_detector \u001b[38;5;241m=\u001b[39m file_detector \u001b[38;5;129;01mor\u001b[39;00m LocalFileDetector()\n\u001b[0;32m    268\u001b[0m \u001b[38;5;28mself\u001b[39m\u001b[38;5;241m.\u001b[39mstart_client()\n\u001b[1;32m--> 269\u001b[0m \u001b[38;5;28;43mself\u001b[39;49m\u001b[38;5;241;43m.\u001b[39;49m\u001b[43mstart_session\u001b[49m\u001b[43m(\u001b[49m\u001b[43mcapabilities\u001b[49m\u001b[43m,\u001b[49m\u001b[43m \u001b[49m\u001b[43mbrowser_profile\u001b[49m\u001b[43m)\u001b[49m\n",
      "File \u001b[1;32mF:\\Anaconda3\\envs\\pybook\\lib\\site-packages\\selenium\\webdriver\\remote\\webdriver.py:360\u001b[0m, in \u001b[0;36mWebDriver.start_session\u001b[1;34m(self, capabilities, browser_profile)\u001b[0m\n\u001b[0;32m    357\u001b[0m w3c_caps \u001b[38;5;241m=\u001b[39m _make_w3c_caps(capabilities)\n\u001b[0;32m    358\u001b[0m parameters \u001b[38;5;241m=\u001b[39m {\u001b[38;5;124m\"\u001b[39m\u001b[38;5;124mcapabilities\u001b[39m\u001b[38;5;124m\"\u001b[39m: w3c_caps,\n\u001b[0;32m    359\u001b[0m               \u001b[38;5;124m\"\u001b[39m\u001b[38;5;124mdesiredCapabilities\u001b[39m\u001b[38;5;124m\"\u001b[39m: capabilities}\n\u001b[1;32m--> 360\u001b[0m response \u001b[38;5;241m=\u001b[39m \u001b[38;5;28;43mself\u001b[39;49m\u001b[38;5;241;43m.\u001b[39;49m\u001b[43mexecute\u001b[49m\u001b[43m(\u001b[49m\u001b[43mCommand\u001b[49m\u001b[38;5;241;43m.\u001b[39;49m\u001b[43mNEW_SESSION\u001b[49m\u001b[43m,\u001b[49m\u001b[43m \u001b[49m\u001b[43mparameters\u001b[49m\u001b[43m)\u001b[49m\n\u001b[0;32m    361\u001b[0m \u001b[38;5;28;01mif\u001b[39;00m \u001b[38;5;124m'\u001b[39m\u001b[38;5;124msessionId\u001b[39m\u001b[38;5;124m'\u001b[39m \u001b[38;5;129;01mnot\u001b[39;00m \u001b[38;5;129;01min\u001b[39;00m response:\n\u001b[0;32m    362\u001b[0m     response \u001b[38;5;241m=\u001b[39m response[\u001b[38;5;124m'\u001b[39m\u001b[38;5;124mvalue\u001b[39m\u001b[38;5;124m'\u001b[39m]\n",
      "File \u001b[1;32mF:\\Anaconda3\\envs\\pybook\\lib\\site-packages\\selenium\\webdriver\\remote\\webdriver.py:423\u001b[0m, in \u001b[0;36mWebDriver.execute\u001b[1;34m(self, driver_command, params)\u001b[0m\n\u001b[0;32m    420\u001b[0m         params[\u001b[38;5;124m'\u001b[39m\u001b[38;5;124msessionId\u001b[39m\u001b[38;5;124m'\u001b[39m] \u001b[38;5;241m=\u001b[39m \u001b[38;5;28mself\u001b[39m\u001b[38;5;241m.\u001b[39msession_id\n\u001b[0;32m    422\u001b[0m params \u001b[38;5;241m=\u001b[39m \u001b[38;5;28mself\u001b[39m\u001b[38;5;241m.\u001b[39m_wrap_value(params)\n\u001b[1;32m--> 423\u001b[0m response \u001b[38;5;241m=\u001b[39m \u001b[38;5;28;43mself\u001b[39;49m\u001b[38;5;241;43m.\u001b[39;49m\u001b[43mcommand_executor\u001b[49m\u001b[38;5;241;43m.\u001b[39;49m\u001b[43mexecute\u001b[49m\u001b[43m(\u001b[49m\u001b[43mdriver_command\u001b[49m\u001b[43m,\u001b[49m\u001b[43m \u001b[49m\u001b[43mparams\u001b[49m\u001b[43m)\u001b[49m\n\u001b[0;32m    424\u001b[0m \u001b[38;5;28;01mif\u001b[39;00m response:\n\u001b[0;32m    425\u001b[0m     \u001b[38;5;28mself\u001b[39m\u001b[38;5;241m.\u001b[39merror_handler\u001b[38;5;241m.\u001b[39mcheck_response(response)\n",
      "File \u001b[1;32mF:\\Anaconda3\\envs\\pybook\\lib\\site-packages\\selenium\\webdriver\\remote\\remote_connection.py:333\u001b[0m, in \u001b[0;36mRemoteConnection.execute\u001b[1;34m(self, command, params)\u001b[0m\n\u001b[0;32m    331\u001b[0m data \u001b[38;5;241m=\u001b[39m utils\u001b[38;5;241m.\u001b[39mdump_json(params)\n\u001b[0;32m    332\u001b[0m url \u001b[38;5;241m=\u001b[39m \u001b[38;5;124mf\u001b[39m\u001b[38;5;124m\"\u001b[39m\u001b[38;5;132;01m{\u001b[39;00m\u001b[38;5;28mself\u001b[39m\u001b[38;5;241m.\u001b[39m_url\u001b[38;5;132;01m}\u001b[39;00m\u001b[38;5;132;01m{\u001b[39;00mpath\u001b[38;5;132;01m}\u001b[39;00m\u001b[38;5;124m\"\u001b[39m\n\u001b[1;32m--> 333\u001b[0m \u001b[38;5;28;01mreturn\u001b[39;00m \u001b[38;5;28;43mself\u001b[39;49m\u001b[38;5;241;43m.\u001b[39;49m\u001b[43m_request\u001b[49m\u001b[43m(\u001b[49m\u001b[43mcommand_info\u001b[49m\u001b[43m[\u001b[49m\u001b[38;5;241;43m0\u001b[39;49m\u001b[43m]\u001b[49m\u001b[43m,\u001b[49m\u001b[43m \u001b[49m\u001b[43murl\u001b[49m\u001b[43m,\u001b[49m\u001b[43m \u001b[49m\u001b[43mbody\u001b[49m\u001b[38;5;241;43m=\u001b[39;49m\u001b[43mdata\u001b[49m\u001b[43m)\u001b[49m\n",
      "File \u001b[1;32mF:\\Anaconda3\\envs\\pybook\\lib\\site-packages\\selenium\\webdriver\\remote\\remote_connection.py:355\u001b[0m, in \u001b[0;36mRemoteConnection._request\u001b[1;34m(self, method, url, body)\u001b[0m\n\u001b[0;32m    352\u001b[0m     body \u001b[38;5;241m=\u001b[39m \u001b[38;5;28;01mNone\u001b[39;00m\n\u001b[0;32m    354\u001b[0m \u001b[38;5;28;01mif\u001b[39;00m \u001b[38;5;28mself\u001b[39m\u001b[38;5;241m.\u001b[39mkeep_alive:\n\u001b[1;32m--> 355\u001b[0m     resp \u001b[38;5;241m=\u001b[39m \u001b[38;5;28;43mself\u001b[39;49m\u001b[38;5;241;43m.\u001b[39;49m\u001b[43m_conn\u001b[49m\u001b[38;5;241;43m.\u001b[39;49m\u001b[43mrequest\u001b[49m\u001b[43m(\u001b[49m\u001b[43mmethod\u001b[49m\u001b[43m,\u001b[49m\u001b[43m \u001b[49m\u001b[43murl\u001b[49m\u001b[43m,\u001b[49m\u001b[43m \u001b[49m\u001b[43mbody\u001b[49m\u001b[38;5;241;43m=\u001b[39;49m\u001b[43mbody\u001b[49m\u001b[43m,\u001b[49m\u001b[43m \u001b[49m\u001b[43mheaders\u001b[49m\u001b[38;5;241;43m=\u001b[39;49m\u001b[43mheaders\u001b[49m\u001b[43m)\u001b[49m\n\u001b[0;32m    356\u001b[0m     statuscode \u001b[38;5;241m=\u001b[39m resp\u001b[38;5;241m.\u001b[39mstatus\n\u001b[0;32m    357\u001b[0m \u001b[38;5;28;01melse\u001b[39;00m:\n",
      "File \u001b[1;32mF:\\Anaconda3\\envs\\pybook\\lib\\site-packages\\urllib3\\request.py:78\u001b[0m, in \u001b[0;36mRequestMethods.request\u001b[1;34m(self, method, url, fields, headers, **urlopen_kw)\u001b[0m\n\u001b[0;32m     74\u001b[0m     \u001b[38;5;28;01mreturn\u001b[39;00m \u001b[38;5;28mself\u001b[39m\u001b[38;5;241m.\u001b[39mrequest_encode_url(\n\u001b[0;32m     75\u001b[0m         method, url, fields\u001b[38;5;241m=\u001b[39mfields, headers\u001b[38;5;241m=\u001b[39mheaders, \u001b[38;5;241m*\u001b[39m\u001b[38;5;241m*\u001b[39murlopen_kw\n\u001b[0;32m     76\u001b[0m     )\n\u001b[0;32m     77\u001b[0m \u001b[38;5;28;01melse\u001b[39;00m:\n\u001b[1;32m---> 78\u001b[0m     \u001b[38;5;28;01mreturn\u001b[39;00m \u001b[38;5;28;43mself\u001b[39;49m\u001b[38;5;241;43m.\u001b[39;49m\u001b[43mrequest_encode_body\u001b[49m\u001b[43m(\u001b[49m\n\u001b[0;32m     79\u001b[0m \u001b[43m        \u001b[49m\u001b[43mmethod\u001b[49m\u001b[43m,\u001b[49m\u001b[43m \u001b[49m\u001b[43murl\u001b[49m\u001b[43m,\u001b[49m\u001b[43m \u001b[49m\u001b[43mfields\u001b[49m\u001b[38;5;241;43m=\u001b[39;49m\u001b[43mfields\u001b[49m\u001b[43m,\u001b[49m\u001b[43m \u001b[49m\u001b[43mheaders\u001b[49m\u001b[38;5;241;43m=\u001b[39;49m\u001b[43mheaders\u001b[49m\u001b[43m,\u001b[49m\u001b[43m \u001b[49m\u001b[38;5;241;43m*\u001b[39;49m\u001b[38;5;241;43m*\u001b[39;49m\u001b[43murlopen_kw\u001b[49m\n\u001b[0;32m     80\u001b[0m \u001b[43m    \u001b[49m\u001b[43m)\u001b[49m\n",
      "File \u001b[1;32mF:\\Anaconda3\\envs\\pybook\\lib\\site-packages\\urllib3\\request.py:170\u001b[0m, in \u001b[0;36mRequestMethods.request_encode_body\u001b[1;34m(self, method, url, fields, headers, encode_multipart, multipart_boundary, **urlopen_kw)\u001b[0m\n\u001b[0;32m    167\u001b[0m extra_kw[\u001b[38;5;124m\"\u001b[39m\u001b[38;5;124mheaders\u001b[39m\u001b[38;5;124m\"\u001b[39m]\u001b[38;5;241m.\u001b[39mupdate(headers)\n\u001b[0;32m    168\u001b[0m extra_kw\u001b[38;5;241m.\u001b[39mupdate(urlopen_kw)\n\u001b[1;32m--> 170\u001b[0m \u001b[38;5;28;01mreturn\u001b[39;00m \u001b[38;5;28;43mself\u001b[39;49m\u001b[38;5;241;43m.\u001b[39;49m\u001b[43murlopen\u001b[49m\u001b[43m(\u001b[49m\u001b[43mmethod\u001b[49m\u001b[43m,\u001b[49m\u001b[43m \u001b[49m\u001b[43murl\u001b[49m\u001b[43m,\u001b[49m\u001b[43m \u001b[49m\u001b[38;5;241;43m*\u001b[39;49m\u001b[38;5;241;43m*\u001b[39;49m\u001b[43mextra_kw\u001b[49m\u001b[43m)\u001b[49m\n",
      "File \u001b[1;32mF:\\Anaconda3\\envs\\pybook\\lib\\site-packages\\urllib3\\poolmanager.py:376\u001b[0m, in \u001b[0;36mPoolManager.urlopen\u001b[1;34m(self, method, url, redirect, **kw)\u001b[0m\n\u001b[0;32m    374\u001b[0m     response \u001b[38;5;241m=\u001b[39m conn\u001b[38;5;241m.\u001b[39murlopen(method, url, \u001b[38;5;241m*\u001b[39m\u001b[38;5;241m*\u001b[39mkw)\n\u001b[0;32m    375\u001b[0m \u001b[38;5;28;01melse\u001b[39;00m:\n\u001b[1;32m--> 376\u001b[0m     response \u001b[38;5;241m=\u001b[39m \u001b[43mconn\u001b[49m\u001b[38;5;241;43m.\u001b[39;49m\u001b[43murlopen\u001b[49m\u001b[43m(\u001b[49m\u001b[43mmethod\u001b[49m\u001b[43m,\u001b[49m\u001b[43m \u001b[49m\u001b[43mu\u001b[49m\u001b[38;5;241;43m.\u001b[39;49m\u001b[43mrequest_uri\u001b[49m\u001b[43m,\u001b[49m\u001b[43m \u001b[49m\u001b[38;5;241;43m*\u001b[39;49m\u001b[38;5;241;43m*\u001b[39;49m\u001b[43mkw\u001b[49m\u001b[43m)\u001b[49m\n\u001b[0;32m    378\u001b[0m redirect_location \u001b[38;5;241m=\u001b[39m redirect \u001b[38;5;129;01mand\u001b[39;00m response\u001b[38;5;241m.\u001b[39mget_redirect_location()\n\u001b[0;32m    379\u001b[0m \u001b[38;5;28;01mif\u001b[39;00m \u001b[38;5;129;01mnot\u001b[39;00m redirect_location:\n",
      "File \u001b[1;32mF:\\Anaconda3\\envs\\pybook\\lib\\site-packages\\urllib3\\connectionpool.py:703\u001b[0m, in \u001b[0;36mHTTPConnectionPool.urlopen\u001b[1;34m(self, method, url, body, headers, retries, redirect, assert_same_host, timeout, pool_timeout, release_conn, chunked, body_pos, **response_kw)\u001b[0m\n\u001b[0;32m    700\u001b[0m     \u001b[38;5;28mself\u001b[39m\u001b[38;5;241m.\u001b[39m_prepare_proxy(conn)\n\u001b[0;32m    702\u001b[0m \u001b[38;5;66;03m# Make the request on the httplib connection object.\u001b[39;00m\n\u001b[1;32m--> 703\u001b[0m httplib_response \u001b[38;5;241m=\u001b[39m \u001b[38;5;28;43mself\u001b[39;49m\u001b[38;5;241;43m.\u001b[39;49m\u001b[43m_make_request\u001b[49m\u001b[43m(\u001b[49m\n\u001b[0;32m    704\u001b[0m \u001b[43m    \u001b[49m\u001b[43mconn\u001b[49m\u001b[43m,\u001b[49m\n\u001b[0;32m    705\u001b[0m \u001b[43m    \u001b[49m\u001b[43mmethod\u001b[49m\u001b[43m,\u001b[49m\n\u001b[0;32m    706\u001b[0m \u001b[43m    \u001b[49m\u001b[43murl\u001b[49m\u001b[43m,\u001b[49m\n\u001b[0;32m    707\u001b[0m \u001b[43m    \u001b[49m\u001b[43mtimeout\u001b[49m\u001b[38;5;241;43m=\u001b[39;49m\u001b[43mtimeout_obj\u001b[49m\u001b[43m,\u001b[49m\n\u001b[0;32m    708\u001b[0m \u001b[43m    \u001b[49m\u001b[43mbody\u001b[49m\u001b[38;5;241;43m=\u001b[39;49m\u001b[43mbody\u001b[49m\u001b[43m,\u001b[49m\n\u001b[0;32m    709\u001b[0m \u001b[43m    \u001b[49m\u001b[43mheaders\u001b[49m\u001b[38;5;241;43m=\u001b[39;49m\u001b[43mheaders\u001b[49m\u001b[43m,\u001b[49m\n\u001b[0;32m    710\u001b[0m \u001b[43m    \u001b[49m\u001b[43mchunked\u001b[49m\u001b[38;5;241;43m=\u001b[39;49m\u001b[43mchunked\u001b[49m\u001b[43m,\u001b[49m\n\u001b[0;32m    711\u001b[0m \u001b[43m\u001b[49m\u001b[43m)\u001b[49m\n\u001b[0;32m    713\u001b[0m \u001b[38;5;66;03m# If we're going to release the connection in ``finally:``, then\u001b[39;00m\n\u001b[0;32m    714\u001b[0m \u001b[38;5;66;03m# the response doesn't need to know about the connection. Otherwise\u001b[39;00m\n\u001b[0;32m    715\u001b[0m \u001b[38;5;66;03m# it will also try to release it and we'll have a double-release\u001b[39;00m\n\u001b[0;32m    716\u001b[0m \u001b[38;5;66;03m# mess.\u001b[39;00m\n\u001b[0;32m    717\u001b[0m response_conn \u001b[38;5;241m=\u001b[39m conn \u001b[38;5;28;01mif\u001b[39;00m \u001b[38;5;129;01mnot\u001b[39;00m release_conn \u001b[38;5;28;01melse\u001b[39;00m \u001b[38;5;28;01mNone\u001b[39;00m\n",
      "File \u001b[1;32mF:\\Anaconda3\\envs\\pybook\\lib\\site-packages\\urllib3\\connectionpool.py:449\u001b[0m, in \u001b[0;36mHTTPConnectionPool._make_request\u001b[1;34m(self, conn, method, url, timeout, chunked, **httplib_request_kw)\u001b[0m\n\u001b[0;32m    444\u001b[0m             httplib_response \u001b[38;5;241m=\u001b[39m conn\u001b[38;5;241m.\u001b[39mgetresponse()\n\u001b[0;32m    445\u001b[0m         \u001b[38;5;28;01mexcept\u001b[39;00m \u001b[38;5;167;01mBaseException\u001b[39;00m \u001b[38;5;28;01mas\u001b[39;00m e:\n\u001b[0;32m    446\u001b[0m             \u001b[38;5;66;03m# Remove the TypeError from the exception chain in\u001b[39;00m\n\u001b[0;32m    447\u001b[0m             \u001b[38;5;66;03m# Python 3 (including for exceptions like SystemExit).\u001b[39;00m\n\u001b[0;32m    448\u001b[0m             \u001b[38;5;66;03m# Otherwise it looks like a bug in the code.\u001b[39;00m\n\u001b[1;32m--> 449\u001b[0m             \u001b[43msix\u001b[49m\u001b[38;5;241;43m.\u001b[39;49m\u001b[43mraise_from\u001b[49m\u001b[43m(\u001b[49m\u001b[43me\u001b[49m\u001b[43m,\u001b[49m\u001b[43m \u001b[49m\u001b[38;5;28;43;01mNone\u001b[39;49;00m\u001b[43m)\u001b[49m\n\u001b[0;32m    450\u001b[0m \u001b[38;5;28;01mexcept\u001b[39;00m (SocketTimeout, BaseSSLError, SocketError) \u001b[38;5;28;01mas\u001b[39;00m e:\n\u001b[0;32m    451\u001b[0m     \u001b[38;5;28mself\u001b[39m\u001b[38;5;241m.\u001b[39m_raise_timeout(err\u001b[38;5;241m=\u001b[39me, url\u001b[38;5;241m=\u001b[39murl, timeout_value\u001b[38;5;241m=\u001b[39mread_timeout)\n",
      "File \u001b[1;32m<string>:3\u001b[0m, in \u001b[0;36mraise_from\u001b[1;34m(value, from_value)\u001b[0m\n",
      "File \u001b[1;32mF:\\Anaconda3\\envs\\pybook\\lib\\site-packages\\urllib3\\connectionpool.py:444\u001b[0m, in \u001b[0;36mHTTPConnectionPool._make_request\u001b[1;34m(self, conn, method, url, timeout, chunked, **httplib_request_kw)\u001b[0m\n\u001b[0;32m    441\u001b[0m \u001b[38;5;28;01mexcept\u001b[39;00m \u001b[38;5;167;01mTypeError\u001b[39;00m:\n\u001b[0;32m    442\u001b[0m     \u001b[38;5;66;03m# Python 3\u001b[39;00m\n\u001b[0;32m    443\u001b[0m     \u001b[38;5;28;01mtry\u001b[39;00m:\n\u001b[1;32m--> 444\u001b[0m         httplib_response \u001b[38;5;241m=\u001b[39m \u001b[43mconn\u001b[49m\u001b[38;5;241;43m.\u001b[39;49m\u001b[43mgetresponse\u001b[49m\u001b[43m(\u001b[49m\u001b[43m)\u001b[49m\n\u001b[0;32m    445\u001b[0m     \u001b[38;5;28;01mexcept\u001b[39;00m \u001b[38;5;167;01mBaseException\u001b[39;00m \u001b[38;5;28;01mas\u001b[39;00m e:\n\u001b[0;32m    446\u001b[0m         \u001b[38;5;66;03m# Remove the TypeError from the exception chain in\u001b[39;00m\n\u001b[0;32m    447\u001b[0m         \u001b[38;5;66;03m# Python 3 (including for exceptions like SystemExit).\u001b[39;00m\n\u001b[0;32m    448\u001b[0m         \u001b[38;5;66;03m# Otherwise it looks like a bug in the code.\u001b[39;00m\n\u001b[0;32m    449\u001b[0m         six\u001b[38;5;241m.\u001b[39mraise_from(e, \u001b[38;5;28;01mNone\u001b[39;00m)\n",
      "File \u001b[1;32mF:\\Anaconda3\\envs\\pybook\\lib\\http\\client.py:1348\u001b[0m, in \u001b[0;36mHTTPConnection.getresponse\u001b[1;34m(self)\u001b[0m\n\u001b[0;32m   1346\u001b[0m \u001b[38;5;28;01mtry\u001b[39;00m:\n\u001b[0;32m   1347\u001b[0m     \u001b[38;5;28;01mtry\u001b[39;00m:\n\u001b[1;32m-> 1348\u001b[0m         \u001b[43mresponse\u001b[49m\u001b[38;5;241;43m.\u001b[39;49m\u001b[43mbegin\u001b[49m\u001b[43m(\u001b[49m\u001b[43m)\u001b[49m\n\u001b[0;32m   1349\u001b[0m     \u001b[38;5;28;01mexcept\u001b[39;00m \u001b[38;5;167;01mConnectionError\u001b[39;00m:\n\u001b[0;32m   1350\u001b[0m         \u001b[38;5;28mself\u001b[39m\u001b[38;5;241m.\u001b[39mclose()\n",
      "File \u001b[1;32mF:\\Anaconda3\\envs\\pybook\\lib\\http\\client.py:316\u001b[0m, in \u001b[0;36mHTTPResponse.begin\u001b[1;34m(self)\u001b[0m\n\u001b[0;32m    314\u001b[0m \u001b[38;5;66;03m# read until we get a non-100 response\u001b[39;00m\n\u001b[0;32m    315\u001b[0m \u001b[38;5;28;01mwhile\u001b[39;00m \u001b[38;5;28;01mTrue\u001b[39;00m:\n\u001b[1;32m--> 316\u001b[0m     version, status, reason \u001b[38;5;241m=\u001b[39m \u001b[38;5;28;43mself\u001b[39;49m\u001b[38;5;241;43m.\u001b[39;49m\u001b[43m_read_status\u001b[49m\u001b[43m(\u001b[49m\u001b[43m)\u001b[49m\n\u001b[0;32m    317\u001b[0m     \u001b[38;5;28;01mif\u001b[39;00m status \u001b[38;5;241m!=\u001b[39m CONTINUE:\n\u001b[0;32m    318\u001b[0m         \u001b[38;5;28;01mbreak\u001b[39;00m\n",
      "File \u001b[1;32mF:\\Anaconda3\\envs\\pybook\\lib\\http\\client.py:277\u001b[0m, in \u001b[0;36mHTTPResponse._read_status\u001b[1;34m(self)\u001b[0m\n\u001b[0;32m    276\u001b[0m \u001b[38;5;28;01mdef\u001b[39;00m \u001b[38;5;21m_read_status\u001b[39m(\u001b[38;5;28mself\u001b[39m):\n\u001b[1;32m--> 277\u001b[0m     line \u001b[38;5;241m=\u001b[39m \u001b[38;5;28mstr\u001b[39m(\u001b[38;5;28;43mself\u001b[39;49m\u001b[38;5;241;43m.\u001b[39;49m\u001b[43mfp\u001b[49m\u001b[38;5;241;43m.\u001b[39;49m\u001b[43mreadline\u001b[49m\u001b[43m(\u001b[49m\u001b[43m_MAXLINE\u001b[49m\u001b[43m \u001b[49m\u001b[38;5;241;43m+\u001b[39;49m\u001b[43m \u001b[49m\u001b[38;5;241;43m1\u001b[39;49m\u001b[43m)\u001b[49m, \u001b[38;5;124m\"\u001b[39m\u001b[38;5;124miso-8859-1\u001b[39m\u001b[38;5;124m\"\u001b[39m)\n\u001b[0;32m    278\u001b[0m     \u001b[38;5;28;01mif\u001b[39;00m \u001b[38;5;28mlen\u001b[39m(line) \u001b[38;5;241m>\u001b[39m _MAXLINE:\n\u001b[0;32m    279\u001b[0m         \u001b[38;5;28;01mraise\u001b[39;00m LineTooLong(\u001b[38;5;124m\"\u001b[39m\u001b[38;5;124mstatus line\u001b[39m\u001b[38;5;124m\"\u001b[39m)\n",
      "File \u001b[1;32mF:\\Anaconda3\\envs\\pybook\\lib\\socket.py:669\u001b[0m, in \u001b[0;36mSocketIO.readinto\u001b[1;34m(self, b)\u001b[0m\n\u001b[0;32m    667\u001b[0m \u001b[38;5;28;01mwhile\u001b[39;00m \u001b[38;5;28;01mTrue\u001b[39;00m:\n\u001b[0;32m    668\u001b[0m     \u001b[38;5;28;01mtry\u001b[39;00m:\n\u001b[1;32m--> 669\u001b[0m         \u001b[38;5;28;01mreturn\u001b[39;00m \u001b[38;5;28;43mself\u001b[39;49m\u001b[38;5;241;43m.\u001b[39;49m\u001b[43m_sock\u001b[49m\u001b[38;5;241;43m.\u001b[39;49m\u001b[43mrecv_into\u001b[49m\u001b[43m(\u001b[49m\u001b[43mb\u001b[49m\u001b[43m)\u001b[49m\n\u001b[0;32m    670\u001b[0m     \u001b[38;5;28;01mexcept\u001b[39;00m timeout:\n\u001b[0;32m    671\u001b[0m         \u001b[38;5;28mself\u001b[39m\u001b[38;5;241m.\u001b[39m_timeout_occurred \u001b[38;5;241m=\u001b[39m \u001b[38;5;28;01mTrue\u001b[39;00m\n",
      "\u001b[1;31mKeyboardInterrupt\u001b[0m: "
     ]
    }
   ],
   "source": [
    "# 크롤링한 데이터를 데이터 프레임으로 만들기 위해 준비합니다.\n",
    "columns = [\"title\", \"category\", \"content_text\"]\n",
    "df = pd.DataFrame(columns=columns)\n",
    "\n",
    "# 각 페이지별 '제목', '카테고리', '본문' 정보를 데이터 프레임으로 만듭니다.\n",
    "for page_url in page_urls:\n",
    "\n",
    "    # 사이트의 html 구조에 기반하여 크롤링을 수행합니다.\n",
    "    # driver = webdriver.Chrome(path)  # for Mac\n",
    "    driver = webdriver.Chrome(executable_path=excutable_path)  # for Windows\n",
    "    driver.get(page_url)\n",
    "    req = driver.page_source\n",
    "    soup = BeautifulSoup(req, \"html.parser\")\n",
    "    contents_table = soup.find(name=\"article\")\n",
    "    title = contents_table.find_all(\"h1\")[0]\n",
    "    \n",
    "    # 카테고리 정보가 없는 경우를 확인합니다.\n",
    "    if len(contents_table.find_all(\"ul\")) > 0:\n",
    "        category = contents_table.find_all(\"ul\")[0]\n",
    "    else:\n",
    "        category = None\n",
    "        \n",
    "    content_paragraphs = contents_table.find_all(name=\"div\", attrs={\"class\":\"wiki-paragraph\"})\n",
    "    content_corpus_list = []\n",
    "    \n",
    "    # 페이지 내 제목 정보에서 개행 문자를 제거한 뒤 추출합니다. 만약 없는 경우, 빈 문자열로 대체합니다.\n",
    "    if title is not None:\n",
    "        row_title = title.text.replace(\"\\n\", \" \")\n",
    "    else:\n",
    "        row_title = \"\"\n",
    "    \n",
    "    # 페이지 내 본문 정보에서 개행 문자를 제거한 뒤 추출합니다. 만약 없는 경우, 빈 문자열로 대체합니다.\n",
    "    if content_paragraphs is not None:\n",
    "        for paragraphs in content_paragraphs:\n",
    "            if paragraphs is not None:\n",
    "                content_corpus_list.append(paragraphs.text.replace(\"\\n\", \" \"))\n",
    "            else:\n",
    "                content_corpus_list.append(\"\")\n",
    "    else:\n",
    "        content_corpus_list.append(\"\")\n",
    "        \n",
    "    # 페이지 내 카테고리정보에서 “분류”라는 단어와 개행 문자를 제거한 뒤 추출합니다. 만약 없는 경우, 빈 문자열로 대체합니다.\n",
    "    if category is not None:\n",
    "        row_category = category.text.replace(\"\\n\", \" \")\n",
    "    else:\n",
    "        row_category = \"\"\n",
    "    \n",
    "    # 모든 정보를 하나의 데이터 프레임에 저장합니다.\n",
    "    row = [row_title, row_category, \"\".join(content_corpus_list)]\n",
    "    series = pd.Series(row, index=df.columns)\n",
    "    df = df.append(series, ignore_index=True)\n",
    "    \n",
    "    # 크롤링에 사용한 브라우저를 종료합니다.\n",
    "    driver.close()"
   ]
  },
  {
   "cell_type": "code",
   "execution_count": 8,
   "id": "ffb23fe6",
   "metadata": {},
   "outputs": [
    {
     "data": {
      "text/html": [
       "<div>\n",
       "<style scoped>\n",
       "    .dataframe tbody tr th:only-of-type {\n",
       "        vertical-align: middle;\n",
       "    }\n",
       "\n",
       "    .dataframe tbody tr th {\n",
       "        vertical-align: top;\n",
       "    }\n",
       "\n",
       "    .dataframe thead th {\n",
       "        text-align: right;\n",
       "    }\n",
       "</style>\n",
       "<table border=\"1\" class=\"dataframe\">\n",
       "  <thead>\n",
       "    <tr style=\"text-align: right;\">\n",
       "      <th></th>\n",
       "      <th>title</th>\n",
       "      <th>category</th>\n",
       "      <th>content_text</th>\n",
       "    </tr>\n",
       "  </thead>\n",
       "  <tbody>\n",
       "    <tr>\n",
       "      <th>0</th>\n",
       "      <td>입보리행론</td>\n",
       "      <td>불경티베트불교</td>\n",
       "      <td>1. 서론2. 이 책의 저자 샨띠데바 스님에 대하여3. 입보리행론의 내용4. 관련...</td>\n",
       "    </tr>\n",
       "    <tr>\n",
       "      <th>1</th>\n",
       "      <td>하쿠이 코요리</td>\n",
       "      <td>버츄얼 유튜버일본의 여성 유튜버hololive/소속 크리에이터2021년 데뷔</td>\n",
       "      <td>소속 멤버  hololive JP0기생 토키노 소라로보코 씨AZKi사쿠라 미코호시...</td>\n",
       "    </tr>\n",
       "    <tr>\n",
       "      <th>2</th>\n",
       "      <td>틀:브롤스타즈/맵/테이크다운</td>\n",
       "      <td>둘러보기 틀/게임브롤스타즈/맵브롤스타즈/게임 모드</td>\n",
       "      <td>테이크다운 맵 목록피크 오일, 엄청난 성취, 재활용 금속, 펑키 펑크, 공방 태세,...</td>\n",
       "    </tr>\n",
       "    <tr>\n",
       "      <th>3</th>\n",
       "      <td>브롤스타즈/맵/플라잉 판타지</td>\n",
       "      <td>브롤스타즈/맵</td>\n",
       "      <td>쇼다운 맵 목록불타는 돌무덤, 바위 장벽 전투, 모 아니면 도, 산성 호수, 더블 ...</td>\n",
       "    </tr>\n",
       "    <tr>\n",
       "      <th>4</th>\n",
       "      <td>라파엘로 산치오</td>\n",
       "      <td>이탈리아의 화가이탈리아의 건축가1483년 출생1520년 사망화폐의 인물판테온 안장자</td>\n",
       "      <td>라파엘로 산치오Raffaello Sanzio본명라파엘로 산치오 다 우르비노Raffa...</td>\n",
       "    </tr>\n",
       "  </tbody>\n",
       "</table>\n",
       "</div>"
      ],
      "text/plain": [
       "              title                                        category  \\\n",
       "0            입보리행론                                          불경티베트불교   \n",
       "1          하쿠이 코요리       버츄얼 유튜버일본의 여성 유튜버hololive/소속 크리에이터2021년 데뷔   \n",
       "2  틀:브롤스타즈/맵/테이크다운                      둘러보기 틀/게임브롤스타즈/맵브롤스타즈/게임 모드   \n",
       "3  브롤스타즈/맵/플라잉 판타지                                          브롤스타즈/맵   \n",
       "4         라파엘로 산치오   이탈리아의 화가이탈리아의 건축가1483년 출생1520년 사망화폐의 인물판테온 안장자   \n",
       "\n",
       "                                        content_text  \n",
       "0   1. 서론2. 이 책의 저자 샨띠데바 스님에 대하여3. 입보리행론의 내용4. 관련...  \n",
       "1   소속 멤버  hololive JP0기생 토키노 소라로보코 씨AZKi사쿠라 미코호시...  \n",
       "2  테이크다운 맵 목록피크 오일, 엄청난 성취, 재활용 금속, 펑키 펑크, 공방 태세,...  \n",
       "3  쇼다운 맵 목록불타는 돌무덤, 바위 장벽 전투, 모 아니면 도, 산성 호수, 더블 ...  \n",
       "4  라파엘로 산치오Raffaello Sanzio본명라파엘로 산치오 다 우르비노Raffa...  "
      ]
     },
     "execution_count": 8,
     "metadata": {},
     "output_type": "execute_result"
    }
   ],
   "source": [
    "# 데이터 프레임을 출력합니다.\n",
    "df.head(5)"
   ]
  },
  {
   "cell_type": "markdown",
   "id": "a0592cce",
   "metadata": {},
   "source": [
    "모든 URL의 텍스트 데이터를 가져온 뒤, 이를 데이터 프레임의 형태로 변환한 것  \n",
    "데이터에 등장하는 불필요한 문자인'\\n', '분류'는 크롤링 과정에서 replace() 함수로 제거\n",
    "### step 2 추출 : 키워드 정보 추출하기\n",
    "수집한 텍스트 데이터에서 키워드 정보를 추출하는 단계  \n",
    "텍스트 전처리 : 특수문자나 외국어를 제거하는 등의 과정을 포함\n",
    "\n",
    "\n",
    "파이썬에서는 're'라는 모듈을 통해 정규표현식을 사용할 수 있음  \n",
    "정규 표현식이란 특정한 규칙을 가진 문자열의 집합을 표현하는 형식  \n",
    "re.compile('[^ㄱ-ㅣ가-힣]+')이라는 코드로 한글에 대한 정규표현식을 정의하면 대상이 되는 텍스트 데이터에서 한글만 추출할 수 있게 됨"
   ]
  },
  {
   "cell_type": "code",
   "execution_count": 9,
   "id": "8a5cba3f",
   "metadata": {},
   "outputs": [
    {
     "name": "stdout",
     "output_type": "stream",
     "text": [
      "  서론 이 책의 저자 샨띠데바 스님에 대하여 입보리행론의 내용 관련 문서세상의 모든 행복은 어디에서 오는가 그 모든 것은 남을 위하는 데서 온다 세상의 모든 불행은 어디에서 오는가 그 모든 것은 자신을 위하는 데서 온다 많이 말을 할 필요가 있는가어리석은 이는 자신을 위해서 일하고부처는 남을 위해 일한다 이 둘의 차이를 보라자기의 안락을 남의 고와 완전히 바꾸지 않는다면 부처를 이룰 수 없고윤회 세계에서도 안락은 없다 티벳의 샨띠데바 스님이 지은 논서이다입보리행론이란 보리행에 들어간다는 뜻으로 영여로는             라고 한다 산스크리트본 한역본 티베트역본 등 많은 번역본이 현존하고 논서의 주석서만 가지가 넘는다 주로 보리심이라는 대승불교의 보살행을 가능케하고 깨달음의 마음을 뜻하는 사상과 보살도의 실천이 요점이 일목요연하게 잘 나와 있으며 개의 장으로 구성된 책 전체가 게송으로 이루어져 있어 운율과 시문의 아름다움을 또한 느낄 수 있다 샨띠데바를 한자로 쓰면  이라고 한다 세기 경 인도 나란다 대학에서 대승의 중요 사상을 널리 선양한 중관학자였으며 남인도 사우라아슈트라국의 왕자로 태어났으나 꿈에서 문수보살을 친견 왕의 자리는 지옥과 같다라는 말을 듣고 왕위를 계승하기 하루 전날 밤 왕궁을 몰래 나와 나란다 대학으로 가서 비구가 되었다 많은 큰스님 밑에서 폭넓게 수학하면서 은밀히 삼매를 닦으며 무위행에 들어갔으나 겉으로 볼 때는 항상 먹고 자고 놀기만 하는 그런 스님이였다고 한다 어느 날 나란다 대학의 전통인 큰스님들이 경을 외우는 법회가 있었는데 어느날 적천 스님의 차례가 되자 나란다사의 대중들은 놀고먹고 자기만 하는 이 스님의 입에서 도대체 어떤 경문이 나올까 의심을 하며 모여들었다 적천 스님은 법좌에 올라 여태까지 외웠던 것을 송경을 할까요 아니면 지금까지 없었던 것 즉 새로운 것을 외워볼까요라고 대중들에게 물었다고 한다 그러자 대중들은 지금까지 없었던 것을 요구했고 이에 스님은 대승의 모든 뜻이 결집된 이 입보리행론을 설하였다 이어서 제 장 지혜 바라밀품 절 만일 사물과 비사물들이 마음 앞에 존재하지 않는다면 그때 형상은 구분이 없어지고 대상은 존재하지 않아 완전한 평정을 얻으리라라는 게송을 송경할 무렵 적천 스님의 몸은 사라지고 오직 음성만 하늘에서 들려왔다고 한다 대중은 이후 이 모든 송경을 듣고 기억해 놀라움과 기쁨으로 이 경을 기록해 두었다 이후 적천 스님은 다시 날란다 대학에 돌아오지 않았으며 그를 찾는 제자들에게 스님 방 어딘가에 써 둔 경론을 참고해 더욱 수행에 정진할 것을 당부했는데 그것이 대승집보살학론  또는 제요경집이었다 테베트 불교에서는 오늘날까지도 중요시 되는 경전인듯 하다 티베트 망명 정부가 자리잡은 다람살라에서도 달라이 라마께서 집전하는 법회의 시작과 끝에 이 책에 나오는 게송을 암송한다고 한다 처음 장 장 장은 속제와 진제로 보리심을 일으켜야 하는 것 장 장 장은 일깨운 보리심을 잘 지키는 것 장 장 장은 이 지켜온 보리심을 위로 위로 향상시키는 것으로 되어 있다 장은 이러한 수행과 보리심의 공덕을 이웃에 회향하고 대원력을 발하는 기원으로 마무리된다 보리심 공덕 찬탄품 죄업참회품 보리심 전지품 보리심 불방일품 호계정지품 인욕품품 정진품 선정품 지혜품 회향품이다  대승불교  중관학\n"
     ]
    }
   ],
   "source": [
    "# 텍스트 정제 함수 : 한글 이외의 문자는 전부 제거\n",
    "def text_cleaning(text):\n",
    "    hangul = re.compile('[^ ㄱ-ㅣ가-힣]+') # 한글의 정규표현식을 나타냅니다.\n",
    "    result = hangul.sub('', text)\n",
    "    return result\n",
    "\n",
    "print(text_cleaning(df['content_text'][0]))"
   ]
  },
  {
   "cell_type": "markdown",
   "id": "9cbe430a",
   "metadata": {},
   "source": [
    "모든 데이터에 전처리를 적용하기 위해서 apply()함수를 사용  \n",
    "title, category, content_text 3개의 피처에 apply()함수를 적용  \n",
    "이를 head() 함수로 출력하면 한글을 제외한 문자들이 제거된 것을 확인할 수 있음"
   ]
  },
  {
   "cell_type": "code",
   "execution_count": 10,
   "id": "5295ec91",
   "metadata": {},
   "outputs": [
    {
     "data": {
      "text/html": [
       "<div>\n",
       "<style scoped>\n",
       "    .dataframe tbody tr th:only-of-type {\n",
       "        vertical-align: middle;\n",
       "    }\n",
       "\n",
       "    .dataframe tbody tr th {\n",
       "        vertical-align: top;\n",
       "    }\n",
       "\n",
       "    .dataframe thead th {\n",
       "        text-align: right;\n",
       "    }\n",
       "</style>\n",
       "<table border=\"1\" class=\"dataframe\">\n",
       "  <thead>\n",
       "    <tr style=\"text-align: right;\">\n",
       "      <th></th>\n",
       "      <th>title</th>\n",
       "      <th>category</th>\n",
       "      <th>content_text</th>\n",
       "    </tr>\n",
       "  </thead>\n",
       "  <tbody>\n",
       "    <tr>\n",
       "      <th>0</th>\n",
       "      <td>입보리행론</td>\n",
       "      <td>불경티베트불교</td>\n",
       "      <td>서론 이 책의 저자 샨띠데바 스님에 대하여 입보리행론의 내용 관련 문서세상의 모...</td>\n",
       "    </tr>\n",
       "    <tr>\n",
       "      <th>1</th>\n",
       "      <td>하쿠이 코요리</td>\n",
       "      <td>버츄얼 유튜버일본의 여성 유튜버소속 크리에이터년 데뷔</td>\n",
       "      <td>소속 멤버   기생 토키노 소라로보코 씨사쿠라 미코호시마치 스이세이기생 요조라 멜...</td>\n",
       "    </tr>\n",
       "    <tr>\n",
       "      <th>2</th>\n",
       "      <td>틀브롤스타즈맵테이크다운</td>\n",
       "      <td>둘러보기 틀게임브롤스타즈맵브롤스타즈게임 모드</td>\n",
       "      <td>테이크다운 맵 목록피크 오일 엄청난 성취 재활용 금속 펑키 펑크 공방 태세 악어 거...</td>\n",
       "    </tr>\n",
       "    <tr>\n",
       "      <th>3</th>\n",
       "      <td>브롤스타즈맵플라잉 판타지</td>\n",
       "      <td>브롤스타즈맵</td>\n",
       "      <td>쇼다운 맵 목록불타는 돌무덤 바위 장벽 전투 모 아니면 도 산성 호수 더블 트러블 ...</td>\n",
       "    </tr>\n",
       "    <tr>\n",
       "      <th>4</th>\n",
       "      <td>라파엘로 산치오</td>\n",
       "      <td>이탈리아의 화가이탈리아의 건축가년 출생년 사망화폐의 인물판테온 안장자</td>\n",
       "      <td>라파엘로 산치오 본명라파엘로 산치오 다 우르비노   출생년 월 일 혹은 월 일우르비...</td>\n",
       "    </tr>\n",
       "  </tbody>\n",
       "</table>\n",
       "</div>"
      ],
      "text/plain": [
       "            title                                category  \\\n",
       "0          입보리행론                                  불경티베트불교   \n",
       "1        하쿠이 코요리            버츄얼 유튜버일본의 여성 유튜버소속 크리에이터년 데뷔   \n",
       "2   틀브롤스타즈맵테이크다운                 둘러보기 틀게임브롤스타즈맵브롤스타즈게임 모드   \n",
       "3  브롤스타즈맵플라잉 판타지                                   브롤스타즈맵   \n",
       "4       라파엘로 산치오   이탈리아의 화가이탈리아의 건축가년 출생년 사망화폐의 인물판테온 안장자   \n",
       "\n",
       "                                        content_text  \n",
       "0    서론 이 책의 저자 샨띠데바 스님에 대하여 입보리행론의 내용 관련 문서세상의 모...  \n",
       "1   소속 멤버   기생 토키노 소라로보코 씨사쿠라 미코호시마치 스이세이기생 요조라 멜...  \n",
       "2  테이크다운 맵 목록피크 오일 엄청난 성취 재활용 금속 펑키 펑크 공방 태세 악어 거...  \n",
       "3  쇼다운 맵 목록불타는 돌무덤 바위 장벽 전투 모 아니면 도 산성 호수 더블 트러블 ...  \n",
       "4  라파엘로 산치오 본명라파엘로 산치오 다 우르비노   출생년 월 일 혹은 월 일우르비...  "
      ]
     },
     "execution_count": 10,
     "metadata": {},
     "output_type": "execute_result"
    }
   ],
   "source": [
    "# 모든 데이터에 전처리 적용하기\n",
    "# 각 피처마다 데이터 전처리를 적용\n",
    "df['title']= df['title'].apply(lambda x: text_cleaning(x))\n",
    "df['category'] = df['category'].apply(lambda x: text_cleaning(x))\n",
    "df['content_text'] = df['content_text'].apply(lambda x: text_cleaning(x))\n",
    "df.head(5)"
   ]
  },
  {
   "cell_type": "markdown",
   "id": "c284358b",
   "metadata": {},
   "source": [
    "키워드를 추출한 뒤, 빈도 분석을 수행하는 과정  \n",
    "키워드 추출 : 명사, 혹은 형태소 단위의 문자열을 추출 \n",
    "- 이를 수행하기 위해 말뭉치라는 것을 만들어야 한다 \n",
    "\n",
    "\n",
    "말뭉치 : 텍스트 데이터의 뭉텅이 \n",
    "제목단위, 카테고리 단위, 본문 단위의 키워드를 분석하기 위해 제목 말뭉치, 카테고리 말뭉치, 본문 말뭉치 총 3개의 말뭉치를 생성 \n",
    "\n",
    "\n",
    "텍스트 피처를 tolist()로 추출, join()함수로 말뭉치를 생성  \n",
    "실행 결과는 제목 말뭉치의 출력 결과"
   ]
  },
  {
   "cell_type": "code",
   "execution_count": 11,
   "id": "376f66ca",
   "metadata": {},
   "outputs": [
    {
     "name": "stdout",
     "output_type": "stream",
     "text": [
      "입보리행론 하쿠이 코요리 틀브롤스타즈맵테이크다운 브롤스타즈맵플라잉 판타지 라파엘로 산치오 류호정논란대 국회의원 시절 포르투갈계 미국인 카미사토 아야토 바닐라 우주선 목록 로베르트 레반도프스키 앤서니 엔조쿠아니 다니 아우베스 전범 심해의 저주 가면라이더 제로원 새상놀이터 김경중군인 하스스톤용병단현상수배 최연화 후우가 이수진유튜버 키이우 전투 키르슈타리아 보다임 무기대여법   허밋 택시 기사비판과 단점 \n"
     ]
    }
   ],
   "source": [
    "# 각 피처마다 말뭉치를 생성합니다.\n",
    "title_corpus = \"\".join(df['title'].tolist())\n",
    "category_corpus = \"\".join(df['category'].tolist())\n",
    "content_corpus = \"\".join(df['content_text'].tolist())\n",
    "print(title_corpus)"
   ]
  },
  {
   "cell_type": "markdown",
   "id": "bd1fc45f",
   "metadata": {},
   "source": [
    "각 말뭉치 안에서 등장하는 형태소 추출  \n",
    "파이썬의 한국어 형태소 추출 라이브러리 konlpy"
   ]
  },
  {
   "cell_type": "code",
   "execution_count": 23,
   "id": "12d92937",
   "metadata": {},
   "outputs": [
    {
     "name": "stdout",
     "output_type": "stream",
     "text": [
      "Collecting konlpy==0.5.1\n",
      "  Using cached konlpy-0.5.1-py2.py3-none-any.whl (19.4 MB)\n",
      "Requirement already satisfied: JPype1>=0.5.7 in f:\\anaconda3\\envs\\pybook\\lib\\site-packages (from konlpy==0.5.1) (1.3.0)\n",
      "Installing collected packages: konlpy\n",
      "  Attempting uninstall: konlpy\n",
      "    Found existing installation: konlpy 0.6.0\n",
      "    Uninstalling konlpy-0.6.0:\n",
      "      Successfully uninstalled konlpy-0.6.0\n",
      "Successfully installed konlpy-0.5.1\n"
     ]
    }
   ],
   "source": [
    "! pip install konlpy==0.5.1"
   ]
  },
  {
   "cell_type": "code",
   "execution_count": 24,
   "id": "7b284b9f",
   "metadata": {},
   "outputs": [
    {
     "name": "stdout",
     "output_type": "stream",
     "text": [
      "Requirement already satisfied: jpype1 in f:\\anaconda3\\envs\\pybook\\lib\\site-packages (1.3.0)\n",
      "Requirement already satisfied: Jpype1-py3 in c:\\users\\sjy98\\appdata\\roaming\\python\\python38\\site-packages (0.5.5.4)\n"
     ]
    }
   ],
   "source": [
    "!pip install jpype1\n",
    "!pip install Jpype1-py3"
   ]
  }
 ],
 "metadata": {
  "kernelspec": {
   "display_name": "Python 3 (ipykernel)",
   "language": "python",
   "name": "python3"
  },
  "language_info": {
   "codemirror_mode": {
    "name": "ipython",
    "version": 3
   },
   "file_extension": ".py",
   "mimetype": "text/x-python",
   "name": "python",
   "nbconvert_exporter": "python",
   "pygments_lexer": "ipython3",
   "version": "3.8.13"
  },
  "toc": {
   "base_numbering": 1,
   "nav_menu": {},
   "number_sections": true,
   "sideBar": true,
   "skip_h1_title": false,
   "title_cell": "Table of Contents",
   "title_sidebar": "Contents",
   "toc_cell": false,
   "toc_position": {},
   "toc_section_display": true,
   "toc_window_display": false
  },
  "varInspector": {
   "cols": {
    "lenName": 16,
    "lenType": 16,
    "lenVar": 40
   },
   "kernels_config": {
    "python": {
     "delete_cmd_postfix": "",
     "delete_cmd_prefix": "del ",
     "library": "var_list.py",
     "varRefreshCmd": "print(var_dic_list())"
    },
    "r": {
     "delete_cmd_postfix": ") ",
     "delete_cmd_prefix": "rm(",
     "library": "var_list.r",
     "varRefreshCmd": "cat(var_dic_list()) "
    }
   },
   "types_to_exclude": [
    "module",
    "function",
    "builtin_function_or_method",
    "instance",
    "_Feature"
   ],
   "window_display": false
  }
 },
 "nbformat": 4,
 "nbformat_minor": 5
}
