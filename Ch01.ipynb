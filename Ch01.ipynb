{
 "cells": [
  {
   "cell_type": "markdown",
   "id": "66050ab4",
   "metadata": {},
   "source": [
    "## 탐색적 데이터 분석의 과정\n",
    "### 데이터와의 첫 만남\n",
    "* raw data : 아직 분석에 활용된 적이 없는 혹은 정제되지 않은 데이터\n",
    "1. 데이터의 출처와 주제에 대해 이해\n",
    "2. 데이터의 크기를 알아보기\n",
    "    샘플링 : 어떤 자료로부터 일부의 값을 추출하는 행위\n",
    "3. 데이터의 구성 요소(피처)를 살펴봄\n",
    "    ex) 학급의 신체검사 결과를 기록한 데이터가 있을 때 키, 몸무게, 시력 같은 특정 요소를 '피처'\n",
    "    \n",
    "## 멕시코풍 프랜차이즈 chipotle의 주문 데이터 분석하기\n",
    "### step1 탐색: 데이터의 기초 정보 살펴보기"
   ]
  },
  {
   "cell_type": "code",
   "execution_count": 1,
   "id": "415e325d",
   "metadata": {},
   "outputs": [
    {
     "name": "stdout",
     "output_type": "stream",
     "text": [
      "(4622, 5)\n",
      "------------------------------------\n",
      "<class 'pandas.core.frame.DataFrame'>\n",
      "RangeIndex: 4622 entries, 0 to 4621\n",
      "Data columns (total 5 columns):\n",
      " #   Column              Non-Null Count  Dtype \n",
      "---  ------              --------------  ----- \n",
      " 0   order_id            4622 non-null   int64 \n",
      " 1   quantity            4622 non-null   int64 \n",
      " 2   item_name           4622 non-null   object\n",
      " 3   choice_description  3376 non-null   object\n",
      " 4   item_price          4622 non-null   object\n",
      "dtypes: int64(2), object(3)\n",
      "memory usage: 180.7+ KB\n",
      "None\n"
     ]
    }
   ],
   "source": [
    "import pandas as pd\n",
    "\n",
    "# read_csv 함수로 데이터를 Dataframe 형태로 불러옵니다.\n",
    "file_path = 'data/chipotle.tsv'\n",
    "chipo = pd.read_csv(file_path, sep = '\\t')\n",
    "\n",
    "print(chipo.shape) # shape() : 데이터의 행과 열의 크기 반환\n",
    "print(\"------------------------------------\")\n",
    "print(chipo.info()) # info() 행의 구성 정보와 열의 구성 정보를 나타냄"
   ]
  },
  {
   "cell_type": "markdown",
   "id": "3558eb9b",
   "metadata": {},
   "source": [
    "* choice_description 에는 3376개의 비어있지 않은 문자열 데이터가 있음\n",
    "* 1246개의 결측값이 존재"
   ]
  },
  {
   "cell_type": "code",
   "execution_count": 2,
   "id": "b1bd061c",
   "metadata": {},
   "outputs": [
    {
     "data": {
      "text/html": [
       "<div>\n",
       "<style scoped>\n",
       "    .dataframe tbody tr th:only-of-type {\n",
       "        vertical-align: middle;\n",
       "    }\n",
       "\n",
       "    .dataframe tbody tr th {\n",
       "        vertical-align: top;\n",
       "    }\n",
       "\n",
       "    .dataframe thead th {\n",
       "        text-align: right;\n",
       "    }\n",
       "</style>\n",
       "<table border=\"1\" class=\"dataframe\">\n",
       "  <thead>\n",
       "    <tr style=\"text-align: right;\">\n",
       "      <th></th>\n",
       "      <th>order_id</th>\n",
       "      <th>quantity</th>\n",
       "      <th>item_name</th>\n",
       "      <th>choice_description</th>\n",
       "      <th>item_price</th>\n",
       "    </tr>\n",
       "  </thead>\n",
       "  <tbody>\n",
       "    <tr>\n",
       "      <th>0</th>\n",
       "      <td>1</td>\n",
       "      <td>1</td>\n",
       "      <td>Chips and Fresh Tomato Salsa</td>\n",
       "      <td>NaN</td>\n",
       "      <td>$2.39</td>\n",
       "    </tr>\n",
       "    <tr>\n",
       "      <th>1</th>\n",
       "      <td>1</td>\n",
       "      <td>1</td>\n",
       "      <td>Izze</td>\n",
       "      <td>[Clementine]</td>\n",
       "      <td>$3.39</td>\n",
       "    </tr>\n",
       "    <tr>\n",
       "      <th>2</th>\n",
       "      <td>1</td>\n",
       "      <td>1</td>\n",
       "      <td>Nantucket Nectar</td>\n",
       "      <td>[Apple]</td>\n",
       "      <td>$3.39</td>\n",
       "    </tr>\n",
       "    <tr>\n",
       "      <th>3</th>\n",
       "      <td>1</td>\n",
       "      <td>1</td>\n",
       "      <td>Chips and Tomatillo-Green Chili Salsa</td>\n",
       "      <td>NaN</td>\n",
       "      <td>$2.39</td>\n",
       "    </tr>\n",
       "    <tr>\n",
       "      <th>4</th>\n",
       "      <td>2</td>\n",
       "      <td>2</td>\n",
       "      <td>Chicken Bowl</td>\n",
       "      <td>[Tomatillo-Red Chili Salsa (Hot), [Black Beans...</td>\n",
       "      <td>$16.98</td>\n",
       "    </tr>\n",
       "    <tr>\n",
       "      <th>5</th>\n",
       "      <td>3</td>\n",
       "      <td>1</td>\n",
       "      <td>Chicken Bowl</td>\n",
       "      <td>[Fresh Tomato Salsa (Mild), [Rice, Cheese, Sou...</td>\n",
       "      <td>$10.98</td>\n",
       "    </tr>\n",
       "    <tr>\n",
       "      <th>6</th>\n",
       "      <td>3</td>\n",
       "      <td>1</td>\n",
       "      <td>Side of Chips</td>\n",
       "      <td>NaN</td>\n",
       "      <td>$1.69</td>\n",
       "    </tr>\n",
       "    <tr>\n",
       "      <th>7</th>\n",
       "      <td>4</td>\n",
       "      <td>1</td>\n",
       "      <td>Steak Burrito</td>\n",
       "      <td>[Tomatillo Red Chili Salsa, [Fajita Vegetables...</td>\n",
       "      <td>$11.75</td>\n",
       "    </tr>\n",
       "    <tr>\n",
       "      <th>8</th>\n",
       "      <td>4</td>\n",
       "      <td>1</td>\n",
       "      <td>Steak Soft Tacos</td>\n",
       "      <td>[Tomatillo Green Chili Salsa, [Pinto Beans, Ch...</td>\n",
       "      <td>$9.25</td>\n",
       "    </tr>\n",
       "    <tr>\n",
       "      <th>9</th>\n",
       "      <td>5</td>\n",
       "      <td>1</td>\n",
       "      <td>Steak Burrito</td>\n",
       "      <td>[Fresh Tomato Salsa, [Rice, Black Beans, Pinto...</td>\n",
       "      <td>$9.25</td>\n",
       "    </tr>\n",
       "  </tbody>\n",
       "</table>\n",
       "</div>"
      ],
      "text/plain": [
       "   order_id  quantity                              item_name  \\\n",
       "0         1         1           Chips and Fresh Tomato Salsa   \n",
       "1         1         1                                   Izze   \n",
       "2         1         1                       Nantucket Nectar   \n",
       "3         1         1  Chips and Tomatillo-Green Chili Salsa   \n",
       "4         2         2                           Chicken Bowl   \n",
       "5         3         1                           Chicken Bowl   \n",
       "6         3         1                          Side of Chips   \n",
       "7         4         1                          Steak Burrito   \n",
       "8         4         1                       Steak Soft Tacos   \n",
       "9         5         1                          Steak Burrito   \n",
       "\n",
       "                                  choice_description item_price  \n",
       "0                                                NaN     $2.39   \n",
       "1                                       [Clementine]     $3.39   \n",
       "2                                            [Apple]     $3.39   \n",
       "3                                                NaN     $2.39   \n",
       "4  [Tomatillo-Red Chili Salsa (Hot), [Black Beans...    $16.98   \n",
       "5  [Fresh Tomato Salsa (Mild), [Rice, Cheese, Sou...    $10.98   \n",
       "6                                                NaN     $1.69   \n",
       "7  [Tomatillo Red Chili Salsa, [Fajita Vegetables...    $11.75   \n",
       "8  [Tomatillo Green Chili Salsa, [Pinto Beans, Ch...     $9.25   \n",
       "9  [Fresh Tomato Salsa, [Rice, Black Beans, Pinto...     $9.25   "
      ]
     },
     "execution_count": 2,
     "metadata": {},
     "output_type": "execute_result"
    }
   ],
   "source": [
    "# chipo 라는 Dataframe에서 순서대로 10개의 row 데이터를 보여줍니다.\n",
    "chipo.head(10)"
   ]
  },
  {
   "cell_type": "code",
   "execution_count": 3,
   "id": "77f4ef1d",
   "metadata": {},
   "outputs": [
    {
     "name": "stdout",
     "output_type": "stream",
     "text": [
      "Index(['order_id', 'quantity', 'item_name', 'choice_description',\n",
      "       'item_price'],\n",
      "      dtype='object')\n",
      "------------------------------------\n",
      "RangeIndex(start=0, stop=4622, step=1)\n"
     ]
    }
   ],
   "source": [
    "print(chipo.columns)\n",
    "print(\"------------------------------------\")\n",
    "print(chipo.index)"
   ]
  },
  {
   "cell_type": "markdown",
   "id": "86fb9feb",
   "metadata": {},
   "source": [
    "* order_id : 주문번호\n",
    "* quantity : 아이템의 주문 수량\n",
    "* item_name : 주문한 아이템의 이름\n",
    "* coice_description : 주문한 아이템의 상세 선택 옵션\n",
    "* item_price : 주문 아이템의 가격 정보"
   ]
  },
  {
   "cell_type": "markdown",
   "id": "e4f2bfa6",
   "metadata": {},
   "source": [
    "#### quantity와 item_price의 수치적 특징\n",
    "* 두 피처는 연속형 피처(연속적인 숫자 형태)"
   ]
  },
  {
   "cell_type": "code",
   "execution_count": 4,
   "id": "f744c79b",
   "metadata": {},
   "outputs": [
    {
     "name": "stdout",
     "output_type": "stream",
     "text": [
      "          quantity\n",
      "count  4622.000000\n",
      "mean      1.075725\n",
      "std       0.410186\n",
      "min       1.000000\n",
      "25%       1.000000\n",
      "50%       1.000000\n",
      "75%       1.000000\n",
      "max      15.000000\n"
     ]
    }
   ],
   "source": [
    "# describe()함수로 기초 통계량 출력하기\n",
    "# 현재 유일하게 존재하는 수치형 피처는 quantity 뿐이기 때문에 오직 quantity에 대한 정보만을 출력\n",
    "# order_id는 숫자의 의미를 가지지 않기 때문에 str으로 변환\n",
    "chipo['order_id'] = chipo['order_id'].astype(str)\n",
    "print(chipo.describe()) # chipo 데이터 프레임에서 수치형 피처들의 기초 통계량을 확인"
   ]
  },
  {
   "cell_type": "markdown",
   "id": "cd06c77d",
   "metadata": {},
   "source": [
    "#### order_id와 item_name의 개수\n",
    "* 두 피처는 범주형 피처이기 때문에 unique() 함수를 사용\n",
    "* 이를 통해 피처 내에 몇개의 범주가 있는지를 확인할 수 있음"
   ]
  },
  {
   "cell_type": "code",
   "execution_count": 5,
   "id": "5426c015",
   "metadata": {},
   "outputs": [
    {
     "name": "stdout",
     "output_type": "stream",
     "text": [
      "1834\n",
      "50\n"
     ]
    }
   ],
   "source": [
    "# unique() 함수로 범주형 피처의 개수 출력하기\n",
    "print(len(chipo['order_id'].unique())) # order_id의 개수를 출력\n",
    "print(len(chipo['item_name'].unique())) # item_name의 개수를 출력"
   ]
  },
  {
   "cell_type": "markdown",
   "id": "e9fec492",
   "metadata": {},
   "source": [
    "### step2 인사이트의 발견 : 탐색과 시각화하기\n",
    "#### 가장 많이 주문한 아이템 Top10\n",
    "* DatatFrame['column']은 시리즈라는 객체를 반환\n",
    "* value_counts() 함수는 오로지 이러한 시리즈 객체에만 적용"
   ]
  },
  {
   "cell_type": "code",
   "execution_count": 6,
   "id": "5a0ab3ca",
   "metadata": {},
   "outputs": [
    {
     "name": "stdout",
     "output_type": "stream",
     "text": [
      "Top 1 : Chicken Bowl 726\n",
      "Top 2 : Chicken Burrito 553\n",
      "Top 3 : Chips and Guacamole 479\n",
      "Top 4 : Steak Burrito 368\n",
      "Top 5 : Canned Soft Drink 301\n",
      "Top 6 : Chips 211\n",
      "Top 7 : Steak Bowl 211\n",
      "Top 8 : Bottled Water 162\n",
      "Top 9 : Chicken Soft Tacos 115\n",
      "Top 10 : Chips and Fresh Tomato Salsa 110\n"
     ]
    }
   ],
   "source": [
    "# 가장 많이 주문한 아이템 Top10을 출력\n",
    "item_count = chipo['item_name'].value_counts()[:10]\n",
    "for idx, (val,cnt) in enumerate(item_count.iteritems(),1):\n",
    "    print(\"Top\", idx, \":\", val, cnt)"
   ]
  },
  {
   "cell_type": "markdown",
   "id": "be3a8f0e",
   "metadata": {},
   "source": [
    "#### 아이템별 주문 개수와 총량\n",
    "* groupby() 함수는 데이터 프레임에서 특정 피처를 기준으로 그룹을 생성하며 이를 통해 그룹별 연산을 적용할 수 있음\n",
    "- 아이템별 주문 개수와 총량을 구해보자"
   ]
  },
  {
   "cell_type": "code",
   "execution_count": 7,
   "id": "ccecfd4c",
   "metadata": {},
   "outputs": [
    {
     "data": {
      "text/plain": [
       "item_name\n",
       "6 Pack Soft Drink         54\n",
       "Barbacoa Bowl             66\n",
       "Barbacoa Burrito          91\n",
       "Barbacoa Crispy Tacos     11\n",
       "Barbacoa Salad Bowl       10\n",
       "Barbacoa Soft Tacos       25\n",
       "Bottled Water            162\n",
       "Bowl                       2\n",
       "Burrito                    6\n",
       "Canned Soda              104\n",
       "Name: order_id, dtype: int64"
      ]
     },
     "execution_count": 7,
     "metadata": {},
     "output_type": "execute_result"
    }
   ],
   "source": [
    "# 아이템별 주문 개수를 출력\n",
    "order_count = chipo.groupby('item_name')['order_id'].count() # (): by=\"\"그룹화할 컬럼명, []: 연산을 할 컬럼을 인덱싱\n",
    "order_count[:10] # 아이템별 주문 개수를 출력"
   ]
  },
  {
   "cell_type": "code",
   "execution_count": 8,
   "id": "076ca541",
   "metadata": {},
   "outputs": [
    {
     "data": {
      "text/plain": [
       "item_name\n",
       "6 Pack Soft Drink         55\n",
       "Barbacoa Bowl             66\n",
       "Barbacoa Burrito          91\n",
       "Barbacoa Crispy Tacos     12\n",
       "Barbacoa Salad Bowl       10\n",
       "Barbacoa Soft Tacos       25\n",
       "Bottled Water            211\n",
       "Bowl                       4\n",
       "Burrito                    6\n",
       "Canned Soda              126\n",
       "Name: quantity, dtype: int64"
      ]
     },
     "execution_count": 8,
     "metadata": {},
     "output_type": "execute_result"
    }
   ],
   "source": [
    "# 아이템별 주문 총량을 계산\n",
    "item_quantity = chipo.groupby('item_name')['quantity'].sum()\n",
    "item_quantity[:10] # 아이템별 주문 총량을 출력"
   ]
  },
  {
   "cell_type": "markdown",
   "id": "da086ced",
   "metadata": {},
   "source": [
    "#### 시각화\n",
    "- 아이템별 주문의 총량을 막대 그래프로 시각화\n",
    "- tolist()와 넘파이의 arrange() 함수를 이용해 x_pos를 선언\n",
    "- 0~50까지의 숫자를 그래프의 x축 이름으로 사용(50개의 아이템의 이름을 x축에 표현하기에는 그래프의 공간이 부족)\n",
    "- y값(order_cnt)에는 주문 총량에 해당하는 값인 item_quantity.values.tolist()를 넣어줌"
   ]
  },
  {
   "cell_type": "code",
   "execution_count": 9,
   "id": "44262389",
   "metadata": {},
   "outputs": [
    {
     "data": {
      "image/png": "[encoded data removed]",
      "text/plain": [
       "<Figure size 432x288 with 1 Axes>"
      ]
     },
     "metadata": {
      "needs_background": "light"
     },
     "output_type": "display_data"
    }
   ],
   "source": [
    "%matplotlib inline\n",
    "import numpy as np\n",
    "import matplotlib.pyplot as plt\n",
    "\n",
    "item_name_list = item_quantity.index.tolist() #2차원 array에 tolist를 적용시키면 list속에 다른 list가 있는 2차원 list의 형태로 반환\n",
    "x_pos = np.arange(len(item_name_list))\n",
    "order_cnt = item_quantity.values.tolist()\n",
    "\n",
    "plt.bar(x_pos, order_cnt, align='center')\n",
    "plt.ylabel('ordered_item_count')\n",
    "plt.title('Distribution of all ordered item')\n",
    "\n",
    "plt.show()"
   ]
  },
  {
   "cell_type": "markdown",
   "id": "b4ee6402",
   "metadata": {},
   "source": [
    "### step 3 데이터 전처리 : 전처리 함수 사용하기"
   ]
  },
  {
   "cell_type": "code",
   "execution_count": 10,
   "id": "9102a3d7",
   "metadata": {},
   "outputs": [
    {
     "name": "stdout",
     "output_type": "stream",
     "text": [
      "<class 'pandas.core.frame.DataFrame'>\n",
      "RangeIndex: 4622 entries, 0 to 4621\n",
      "Data columns (total 5 columns):\n",
      " #   Column              Non-Null Count  Dtype \n",
      "---  ------              --------------  ----- \n",
      " 0   order_id            4622 non-null   object\n",
      " 1   quantity            4622 non-null   int64 \n",
      " 2   item_name           4622 non-null   object\n",
      " 3   choice_description  3376 non-null   object\n",
      " 4   item_price          4622 non-null   object\n",
      "dtypes: int64(1), object(4)\n",
      "memory usage: 180.7+ KB\n",
      "None\n",
      "-------------\n"
     ]
    },
    {
     "data": {
      "text/plain": [
       "0     $2.39 \n",
       "1     $3.39 \n",
       "2     $3.39 \n",
       "3     $2.39 \n",
       "4    $16.98 \n",
       "Name: item_price, dtype: object"
      ]
     },
     "execution_count": 10,
     "metadata": {},
     "output_type": "execute_result"
    }
   ],
   "source": [
    "#item_price 피처 살펴보기\n",
    "print(chipo.info())\n",
    "print(\"-------------\")\n",
    "chipo['item_price'].head()"
   ]
  },
  {
   "cell_type": "markdown",
   "id": "fe19051c",
   "metadata": {},
   "source": [
    "- item_price 피처에서 가격을 나타내는 숫자 앞에 달러 기호가 붙어 있음\n",
    "- 이 피처를 수치 데이터로 사용하기 위해서는 달러 기호를 제거해주는 전처리 작업이 필요"
   ]
  },
  {
   "cell_type": "code",
   "execution_count": 11,
   "id": "61baeaf3",
   "metadata": {},
   "outputs": [
    {
     "data": {
      "text/html": [
       "<div>\n",
       "<style scoped>\n",
       "    .dataframe tbody tr th:only-of-type {\n",
       "        vertical-align: middle;\n",
       "    }\n",
       "\n",
       "    .dataframe tbody tr th {\n",
       "        vertical-align: top;\n",
       "    }\n",
       "\n",
       "    .dataframe thead th {\n",
       "        text-align: right;\n",
       "    }\n",
       "</style>\n",
       "<table border=\"1\" class=\"dataframe\">\n",
       "  <thead>\n",
       "    <tr style=\"text-align: right;\">\n",
       "      <th></th>\n",
       "      <th>quantity</th>\n",
       "      <th>item_price</th>\n",
       "    </tr>\n",
       "  </thead>\n",
       "  <tbody>\n",
       "    <tr>\n",
       "      <th>count</th>\n",
       "      <td>4622.000000</td>\n",
       "      <td>4622.000000</td>\n",
       "    </tr>\n",
       "    <tr>\n",
       "      <th>mean</th>\n",
       "      <td>1.075725</td>\n",
       "      <td>7.464336</td>\n",
       "    </tr>\n",
       "    <tr>\n",
       "      <th>std</th>\n",
       "      <td>0.410186</td>\n",
       "      <td>4.245557</td>\n",
       "    </tr>\n",
       "    <tr>\n",
       "      <th>min</th>\n",
       "      <td>1.000000</td>\n",
       "      <td>1.090000</td>\n",
       "    </tr>\n",
       "    <tr>\n",
       "      <th>25%</th>\n",
       "      <td>1.000000</td>\n",
       "      <td>3.390000</td>\n",
       "    </tr>\n",
       "    <tr>\n",
       "      <th>50%</th>\n",
       "      <td>1.000000</td>\n",
       "      <td>8.750000</td>\n",
       "    </tr>\n",
       "    <tr>\n",
       "      <th>75%</th>\n",
       "      <td>1.000000</td>\n",
       "      <td>9.250000</td>\n",
       "    </tr>\n",
       "    <tr>\n",
       "      <th>max</th>\n",
       "      <td>15.000000</td>\n",
       "      <td>44.250000</td>\n",
       "    </tr>\n",
       "  </tbody>\n",
       "</table>\n",
       "</div>"
      ],
      "text/plain": [
       "          quantity   item_price\n",
       "count  4622.000000  4622.000000\n",
       "mean      1.075725     7.464336\n",
       "std       0.410186     4.245557\n",
       "min       1.000000     1.090000\n",
       "25%       1.000000     3.390000\n",
       "50%       1.000000     8.750000\n",
       "75%       1.000000     9.250000\n",
       "max      15.000000    44.250000"
      ]
     },
     "execution_count": 11,
     "metadata": {},
     "output_type": "execute_result"
    }
   ],
   "source": [
    "# apply()와 lambda를 이용해 데이터 전처리하기\n",
    "# column 단위 데이터에 apply()함수로 전처리를 적용\n",
    "chipo['item_price'] = chipo['item_price'].apply(lambda x: float(x[1:]))\n",
    "chipo.describe()"
   ]
  },
  {
   "cell_type": "markdown",
   "id": "4e3dbf04",
   "metadata": {},
   "source": [
    "- apply() 함수는 시리즈 단위의 연산을 처리하는 기능을 수행, sum()이나 mean()과 같이 연산이 정의된 함수를 파라미터로 받음\n",
    "- 피처 단위의 합계나 평균을 구할 수도 있고 \n",
    "- 사용자가 정의할 새로운 함수 문자열 데이터에서 첫번째 문자열을 제거한뒤 나머지 문자열을 수치형으로 바꿔주는 함수를 파라미터로 입력할 수도 있음\n",
    "- lambda x: float(x[1:]) 는 이를 수행하는 함수를 lambda로 정의하여 입력한 것\n",
    "\n",
    "### step 4 탐색적 분석 : 스무고개로 개념적 탐색 분석하기\n",
    "#### 주문당 평균 계산금액 출력\n",
    "- order_id로 그룹을 생성한 뒤, item_price 피처에 sum()함수를 적용하고 mean()함수 추가"
   ]
  },
  {
   "cell_type": "code",
   "execution_count": 12,
   "id": "ae402e71",
   "metadata": {},
   "outputs": [
    {
     "data": {
      "text/plain": [
       "18.811428571428717"
      ]
     },
     "execution_count": 12,
     "metadata": {},
     "output_type": "execute_result"
    }
   ],
   "source": [
    "# 주문당 평균 계산 금액을 출력\n",
    "chipo.groupby('order_id')['item_price'].sum().mean()"
   ]
  },
  {
   "cell_type": "markdown",
   "id": "79c9a804",
   "metadata": {},
   "source": [
    "- 한사람이 '약 18달러 가량의 주문을 할 것' 이라는 인사이트 얻을 수 있음\n",
    "\n",
    "#### 한 주문에 10달러 이상 지불한 주문번호(id) 출력\n",
    "- order_id 피처(하나의 주문)를 기준으로 그룹을 만들어 quantity, item_price 피처의 합계를 계산\n",
    "- 이 결과에서 10 이상인 값을 필터링\n",
    "- 이에 대한 최종 결과인 results의 index.values를 출력하면 한 주문에 10달러 이상 지불한 id를 출력할 수 있음"
   ]
  },
  {
   "cell_type": "code",
   "execution_count": 13,
   "id": "c1c276be",
   "metadata": {},
   "outputs": [
    {
     "name": "stdout",
     "output_type": "stream",
     "text": [
      "          quantity  item_price\n",
      "order_id                      \n",
      "1                4       11.56\n",
      "10               2       13.20\n",
      "100              2       10.08\n",
      "1000             2       20.50\n",
      "1001             2       10.08\n",
      "1002             2       10.68\n",
      "1003             2       13.00\n",
      "1004             2       21.96\n",
      "1005             3       12.15\n",
      "1006             8       71.40\n",
      "['1' '10' '100' ... '997' '998' '999']\n"
     ]
    }
   ],
   "source": [
    "chipo_orderid_group = chipo.groupby('order_id').sum()\n",
    "results = chipo_orderid_group[chipo_orderid_group.item_price >= 10]\n",
    "\n",
    "print(results[:10])\n",
    "print(results.index.values)"
   ]
  },
  {
   "cell_type": "markdown",
   "id": "b45211f3",
   "metadata": {},
   "source": [
    "#### 각 아이템의 가격 구하기\n",
    "1. chipo[chipo.quantity == 1]으로 동일 아이템을 1개만 구매한 주문을 선별\n",
    "2. item_name을 기준으로 groupby 연산을 수행한 뒤, min() 함수로 각 그룹별 최저가를 계산\n",
    "3. item_price를 기준으로 정렬하는 sort_values() 함수를 적용. sort_values() 는 series 데이터를 정렬해주는 함수"
   ]
  },
  {
   "cell_type": "code",
   "execution_count": 14,
   "id": "2874526d",
   "metadata": {},
   "outputs": [
    {
     "data": {
      "text/html": [
       "<div>\n",
       "<style scoped>\n",
       "    .dataframe tbody tr th:only-of-type {\n",
       "        vertical-align: middle;\n",
       "    }\n",
       "\n",
       "    .dataframe tbody tr th {\n",
       "        vertical-align: top;\n",
       "    }\n",
       "\n",
       "    .dataframe thead th {\n",
       "        text-align: right;\n",
       "    }\n",
       "</style>\n",
       "<table border=\"1\" class=\"dataframe\">\n",
       "  <thead>\n",
       "    <tr style=\"text-align: right;\">\n",
       "      <th></th>\n",
       "      <th>order_id</th>\n",
       "      <th>quantity</th>\n",
       "      <th>choice_description</th>\n",
       "      <th>item_price</th>\n",
       "    </tr>\n",
       "    <tr>\n",
       "      <th>item_name</th>\n",
       "      <th></th>\n",
       "      <th></th>\n",
       "      <th></th>\n",
       "      <th></th>\n",
       "    </tr>\n",
       "  </thead>\n",
       "  <tbody>\n",
       "    <tr>\n",
       "      <th>Steak Salad Bowl</th>\n",
       "      <td>1032</td>\n",
       "      <td>1</td>\n",
       "      <td>[Fresh Tomato Salsa, Lettuce]</td>\n",
       "      <td>9.39</td>\n",
       "    </tr>\n",
       "    <tr>\n",
       "      <th>Barbacoa Salad Bowl</th>\n",
       "      <td>1283</td>\n",
       "      <td>1</td>\n",
       "      <td>[Fresh Tomato Salsa, Guacamole]</td>\n",
       "      <td>9.39</td>\n",
       "    </tr>\n",
       "    <tr>\n",
       "      <th>Carnitas Salad Bowl</th>\n",
       "      <td>1035</td>\n",
       "      <td>1</td>\n",
       "      <td>[Fresh Tomato Salsa, [Rice, Black Beans, Chees...</td>\n",
       "      <td>9.39</td>\n",
       "    </tr>\n",
       "    <tr>\n",
       "      <th>Carnitas Soft Tacos</th>\n",
       "      <td>1011</td>\n",
       "      <td>1</td>\n",
       "      <td>[Fresh Tomato Salsa (Mild), [Black Beans, Rice...</td>\n",
       "      <td>8.99</td>\n",
       "    </tr>\n",
       "    <tr>\n",
       "      <th>Carnitas Crispy Tacos</th>\n",
       "      <td>1774</td>\n",
       "      <td>1</td>\n",
       "      <td>[Fresh Tomato Salsa, [Fajita Vegetables, Rice,...</td>\n",
       "      <td>8.99</td>\n",
       "    </tr>\n",
       "    <tr>\n",
       "      <th>Steak Soft Tacos</th>\n",
       "      <td>1054</td>\n",
       "      <td>1</td>\n",
       "      <td>[Fresh Tomato Salsa (Mild), [Cheese, Sour Cream]]</td>\n",
       "      <td>8.99</td>\n",
       "    </tr>\n",
       "    <tr>\n",
       "      <th>Carnitas Salad</th>\n",
       "      <td>1500</td>\n",
       "      <td>1</td>\n",
       "      <td>[[Fresh Tomato Salsa (Mild), Roasted Chili Cor...</td>\n",
       "      <td>8.99</td>\n",
       "    </tr>\n",
       "    <tr>\n",
       "      <th>Carnitas Bowl</th>\n",
       "      <td>1007</td>\n",
       "      <td>1</td>\n",
       "      <td>[Fresh Tomato (Mild), [Guacamole, Lettuce, Ric...</td>\n",
       "      <td>8.99</td>\n",
       "    </tr>\n",
       "    <tr>\n",
       "      <th>Barbacoa Soft Tacos</th>\n",
       "      <td>1103</td>\n",
       "      <td>1</td>\n",
       "      <td>[Fresh Tomato Salsa, [Black Beans, Cheese, Let...</td>\n",
       "      <td>8.99</td>\n",
       "    </tr>\n",
       "    <tr>\n",
       "      <th>Barbacoa Crispy Tacos</th>\n",
       "      <td>110</td>\n",
       "      <td>1</td>\n",
       "      <td>[Fresh Tomato Salsa, Guacamole]</td>\n",
       "      <td>8.99</td>\n",
       "    </tr>\n",
       "  </tbody>\n",
       "</table>\n",
       "</div>"
      ],
      "text/plain": [
       "                      order_id  quantity  \\\n",
       "item_name                                  \n",
       "Steak Salad Bowl          1032         1   \n",
       "Barbacoa Salad Bowl       1283         1   \n",
       "Carnitas Salad Bowl       1035         1   \n",
       "Carnitas Soft Tacos       1011         1   \n",
       "Carnitas Crispy Tacos     1774         1   \n",
       "Steak Soft Tacos          1054         1   \n",
       "Carnitas Salad            1500         1   \n",
       "Carnitas Bowl             1007         1   \n",
       "Barbacoa Soft Tacos       1103         1   \n",
       "Barbacoa Crispy Tacos      110         1   \n",
       "\n",
       "                                                      choice_description  \\\n",
       "item_name                                                                  \n",
       "Steak Salad Bowl                           [Fresh Tomato Salsa, Lettuce]   \n",
       "Barbacoa Salad Bowl                      [Fresh Tomato Salsa, Guacamole]   \n",
       "Carnitas Salad Bowl    [Fresh Tomato Salsa, [Rice, Black Beans, Chees...   \n",
       "Carnitas Soft Tacos    [Fresh Tomato Salsa (Mild), [Black Beans, Rice...   \n",
       "Carnitas Crispy Tacos  [Fresh Tomato Salsa, [Fajita Vegetables, Rice,...   \n",
       "Steak Soft Tacos       [Fresh Tomato Salsa (Mild), [Cheese, Sour Cream]]   \n",
       "Carnitas Salad         [[Fresh Tomato Salsa (Mild), Roasted Chili Cor...   \n",
       "Carnitas Bowl          [Fresh Tomato (Mild), [Guacamole, Lettuce, Ric...   \n",
       "Barbacoa Soft Tacos    [Fresh Tomato Salsa, [Black Beans, Cheese, Let...   \n",
       "Barbacoa Crispy Tacos                    [Fresh Tomato Salsa, Guacamole]   \n",
       "\n",
       "                       item_price  \n",
       "item_name                          \n",
       "Steak Salad Bowl             9.39  \n",
       "Barbacoa Salad Bowl          9.39  \n",
       "Carnitas Salad Bowl          9.39  \n",
       "Carnitas Soft Tacos          8.99  \n",
       "Carnitas Crispy Tacos        8.99  \n",
       "Steak Soft Tacos             8.99  \n",
       "Carnitas Salad               8.99  \n",
       "Carnitas Bowl                8.99  \n",
       "Barbacoa Soft Tacos          8.99  \n",
       "Barbacoa Crispy Tacos        8.99  "
      ]
     },
     "execution_count": 14,
     "metadata": {},
     "output_type": "execute_result"
    }
   ],
   "source": [
    "# 각 아이템의 가격 계산\n",
    "chipo_one_item = chipo[chipo.quantity==1]\n",
    "price_per_item = chipo_one_item.groupby('item_name').min() # 토핑이 아예 올라가지 않은 메뉴를 찾기 위해\n",
    "price_per_item.sort_values(by = \"item_price\", ascending=False)[:10]"
   ]
  },
  {
   "cell_type": "code",
   "execution_count": 15,
   "id": "692b4fdc",
   "metadata": {},
   "outputs": [
    {
     "data": {
      "image/png": "[encoded data removed]",
      "text/plain": [
       "<Figure size 432x288 with 1 Axes>"
      ]
     },
     "metadata": {
      "needs_background": "light"
     },
     "output_type": "display_data"
    },
    {
     "data": {
      "image/png": "[encoded data removed]",
      "text/plain": [
       "<Figure size 432x288 with 1 Axes>"
      ]
     },
     "metadata": {
      "needs_background": "light"
     },
     "output_type": "display_data"
    }
   ],
   "source": [
    "# 아이템 가격 분포 그래프를 출력\n",
    "item_name_list = price_per_item.index.tolist()\n",
    "x_pos = np.arange(len(item_name_list))\n",
    "item_price = price_per_item['item_price'].tolist()\n",
    "plt.bar(x_pos, item_price, align='center')\n",
    "plt.ylabel('item price($)')\n",
    "plt.title('Distribution of item price')\n",
    "plt.show()\n",
    "\n",
    "# 아이템 가격 히스토그램을 출력\n",
    "plt.hist(item_price)\n",
    "plt.ylabel('counts')\n",
    "plt.title('Histogram of item price')\n",
    "plt.show()"
   ]
  },
  {
   "cell_type": "markdown",
   "id": "6e61bdd2",
   "metadata": {},
   "source": [
    "#### 가장 비싼 주문에서 아이템이 총 몇 개 팔렸는지 구하기\n",
    "- order_id에 그룹별 합계 연산을 적용\n",
    "- item_price를 기준으로 sort_values를 반환하면 가장 비싼 주문순으로 연산 결과를 얻을 수 있음"
   ]
  },
  {
   "cell_type": "code",
   "execution_count": 16,
   "id": "b26a6bb7",
   "metadata": {},
   "outputs": [
    {
     "data": {
      "text/html": [
       "<div>\n",
       "<style scoped>\n",
       "    .dataframe tbody tr th:only-of-type {\n",
       "        vertical-align: middle;\n",
       "    }\n",
       "\n",
       "    .dataframe tbody tr th {\n",
       "        vertical-align: top;\n",
       "    }\n",
       "\n",
       "    .dataframe thead th {\n",
       "        text-align: right;\n",
       "    }\n",
       "</style>\n",
       "<table border=\"1\" class=\"dataframe\">\n",
       "  <thead>\n",
       "    <tr style=\"text-align: right;\">\n",
       "      <th></th>\n",
       "      <th>quantity</th>\n",
       "      <th>item_price</th>\n",
       "    </tr>\n",
       "    <tr>\n",
       "      <th>order_id</th>\n",
       "      <th></th>\n",
       "      <th></th>\n",
       "    </tr>\n",
       "  </thead>\n",
       "  <tbody>\n",
       "    <tr>\n",
       "      <th>926</th>\n",
       "      <td>23</td>\n",
       "      <td>205.25</td>\n",
       "    </tr>\n",
       "    <tr>\n",
       "      <th>1443</th>\n",
       "      <td>35</td>\n",
       "      <td>160.74</td>\n",
       "    </tr>\n",
       "    <tr>\n",
       "      <th>1483</th>\n",
       "      <td>14</td>\n",
       "      <td>139.00</td>\n",
       "    </tr>\n",
       "    <tr>\n",
       "      <th>691</th>\n",
       "      <td>11</td>\n",
       "      <td>118.25</td>\n",
       "    </tr>\n",
       "    <tr>\n",
       "      <th>1786</th>\n",
       "      <td>20</td>\n",
       "      <td>114.30</td>\n",
       "    </tr>\n",
       "  </tbody>\n",
       "</table>\n",
       "</div>"
      ],
      "text/plain": [
       "          quantity  item_price\n",
       "order_id                      \n",
       "926             23      205.25\n",
       "1443            35      160.74\n",
       "1483            14      139.00\n",
       "691             11      118.25\n",
       "1786            20      114.30"
      ]
     },
     "execution_count": 16,
     "metadata": {},
     "output_type": "execute_result"
    }
   ],
   "source": [
    "# 가장 비싼 주문에서 아이템이 총 몇 개 팔렸는지 계산\n",
    "chipo.groupby('order_id').sum().sort_values(by='item_price', ascending=False)[:5]"
   ]
  },
  {
   "cell_type": "markdown",
   "id": "5ff46bd8",
   "metadata": {},
   "source": [
    "#### 'Veggie Salad Bowl'이 몇 번 주문되었는지 구하기\n",
    "- chipo[chipo['item_name'] == \"Veggie Salad Bowl\"]으로 필터링\n",
    "- drop_duplicates() 함수 사용. 한 주문 내에서 item_name이 중복 집계된 경우를 제거\n",
    "- 최종 결과인 chipo_salad 길이를 출력하면 Veggie Salad Bowl이 데이터 내에서 몇번이나 주문되었는지 구할 수 있음"
   ]
  },
  {
   "cell_type": "code",
   "execution_count": 17,
   "id": "3e56cb9e",
   "metadata": {},
   "outputs": [
    {
     "name": "stdout",
     "output_type": "stream",
     "text": [
      "18\n"
     ]
    },
    {
     "data": {
      "text/html": [
       "<div>\n",
       "<style scoped>\n",
       "    .dataframe tbody tr th:only-of-type {\n",
       "        vertical-align: middle;\n",
       "    }\n",
       "\n",
       "    .dataframe tbody tr th {\n",
       "        vertical-align: top;\n",
       "    }\n",
       "\n",
       "    .dataframe thead th {\n",
       "        text-align: right;\n",
       "    }\n",
       "</style>\n",
       "<table border=\"1\" class=\"dataframe\">\n",
       "  <thead>\n",
       "    <tr style=\"text-align: right;\">\n",
       "      <th></th>\n",
       "      <th>order_id</th>\n",
       "      <th>quantity</th>\n",
       "      <th>item_name</th>\n",
       "      <th>choice_description</th>\n",
       "      <th>item_price</th>\n",
       "    </tr>\n",
       "  </thead>\n",
       "  <tbody>\n",
       "    <tr>\n",
       "      <th>186</th>\n",
       "      <td>83</td>\n",
       "      <td>1</td>\n",
       "      <td>Veggie Salad Bowl</td>\n",
       "      <td>[Fresh Tomato Salsa, [Fajita Vegetables, Rice,...</td>\n",
       "      <td>11.25</td>\n",
       "    </tr>\n",
       "    <tr>\n",
       "      <th>295</th>\n",
       "      <td>128</td>\n",
       "      <td>1</td>\n",
       "      <td>Veggie Salad Bowl</td>\n",
       "      <td>[Fresh Tomato Salsa, [Fajita Vegetables, Lettu...</td>\n",
       "      <td>11.25</td>\n",
       "    </tr>\n",
       "    <tr>\n",
       "      <th>455</th>\n",
       "      <td>195</td>\n",
       "      <td>1</td>\n",
       "      <td>Veggie Salad Bowl</td>\n",
       "      <td>[Fresh Tomato Salsa, [Fajita Vegetables, Rice,...</td>\n",
       "      <td>11.25</td>\n",
       "    </tr>\n",
       "    <tr>\n",
       "      <th>496</th>\n",
       "      <td>207</td>\n",
       "      <td>1</td>\n",
       "      <td>Veggie Salad Bowl</td>\n",
       "      <td>[Fresh Tomato Salsa, [Rice, Lettuce, Guacamole...</td>\n",
       "      <td>11.25</td>\n",
       "    </tr>\n",
       "    <tr>\n",
       "      <th>960</th>\n",
       "      <td>394</td>\n",
       "      <td>1</td>\n",
       "      <td>Veggie Salad Bowl</td>\n",
       "      <td>[Fresh Tomato Salsa, [Fajita Vegetables, Lettu...</td>\n",
       "      <td>8.75</td>\n",
       "    </tr>\n",
       "  </tbody>\n",
       "</table>\n",
       "</div>"
      ],
      "text/plain": [
       "    order_id  quantity          item_name  \\\n",
       "186       83         1  Veggie Salad Bowl   \n",
       "295      128         1  Veggie Salad Bowl   \n",
       "455      195         1  Veggie Salad Bowl   \n",
       "496      207         1  Veggie Salad Bowl   \n",
       "960      394         1  Veggie Salad Bowl   \n",
       "\n",
       "                                    choice_description  item_price  \n",
       "186  [Fresh Tomato Salsa, [Fajita Vegetables, Rice,...       11.25  \n",
       "295  [Fresh Tomato Salsa, [Fajita Vegetables, Lettu...       11.25  \n",
       "455  [Fresh Tomato Salsa, [Fajita Vegetables, Rice,...       11.25  \n",
       "496  [Fresh Tomato Salsa, [Rice, Lettuce, Guacamole...       11.25  \n",
       "960  [Fresh Tomato Salsa, [Fajita Vegetables, Lettu...        8.75  "
      ]
     },
     "execution_count": 17,
     "metadata": {},
     "output_type": "execute_result"
    }
   ],
   "source": [
    "# 'Veggie Salad Bowl'이 몇 번 주문되었는지를 계산\n",
    "chipo_salad = chipo[chipo['item_name']==\"Veggie Salad Bowl\"]\n",
    "#한 주문내에서 중복 집계된 item_name을 제거\n",
    "chipo_salad = chipo_salad.drop_duplicates(['item_name', 'order_id'])\n",
    "\n",
    "print(len(chipo_salad))\n",
    "chipo_salad.head(5)"
   ]
  },
  {
   "cell_type": "markdown",
   "id": "31f7487f",
   "metadata": {},
   "source": [
    "- Veggie Salad Bowl은 총 18번 주문됨\n",
    "\n",
    "#### 'Chicken Bowl'을 2개 이상 주문한 고객들의 'Chicken Bowl'메뉴에 대한 총 주문 수량 구하기\n",
    "- 'Chicken Bowl'을 주문한 데이터만을 필터링\n",
    "- groupby 함수를 이용해 order_id 마다의 quantity를 전부 더함\n",
    "- 데이터프레임에서 quantity가 2 이상인 것을 선택. 이 결과가 2개 이상 주문한 고객들의 총 주문 수량 의미"
   ]
  },
  {
   "cell_type": "code",
   "execution_count": 18,
   "id": "a13bb11a",
   "metadata": {},
   "outputs": [
    {
     "name": "stdout",
     "output_type": "stream",
     "text": [
      "33\n"
     ]
    }
   ],
   "source": [
    "# “Chicken Bowl”을 2개 이상 주문한 주문 횟수를 구한다\n",
    "chipo_chicken = chipo[chipo['item_name'] == \"Chicken Bowl\"]\n",
    "chipo_chicken_result = chipo_chicken[chipo_chicken['quantity'] >= 2]\n",
    "print(chipo_chicken_result.shape[0])"
   ]
  },
  {
   "cell_type": "code",
   "execution_count": 19,
   "id": "fcb2b586",
   "metadata": {},
   "outputs": [
    {
     "name": "stdout",
     "output_type": "stream",
     "text": [
      "114\n"
     ]
    },
    {
     "data": {
      "text/plain": [
       "order_id\n",
       "1004    2\n",
       "1023    2\n",
       "1072    2\n",
       "1078    2\n",
       "1091    2\n",
       "Name: quantity, dtype: int64"
      ]
     },
     "execution_count": 19,
     "metadata": {},
     "output_type": "execute_result"
    }
   ],
   "source": [
    "# 'Chicken Bowl'을 2개 이상 주문한 고객들의 'Chicken Bowl' 메뉴의 총 주문 수량을 구한다\n",
    "chipo_chicken = chipo[chipo['item_name'] == \"Chicken Bowl\"]\n",
    "chipo_chicken_ordersum = chipo_chicken.groupby('order_id').sum()['quantity']\n",
    "chipo_chicken_result = chipo_chicken_ordersum[chipo_chicken_ordersum >= 2]\n",
    "\n",
    "print(len(chipo_chicken_result))\n",
    "chipo_chicken_result.head(5)"
   ]
  },
  {
   "cell_type": "markdown",
   "id": "2c394fb6",
   "metadata": {},
   "source": [
    "## 국가별 음주 데이터 분석하기\n",
    "### step 1 탐색 : 데이터의 기초 정보 살펴보기\n",
    "- country: 국가 정보\n",
    "- beer_servings: beer 소비량\n",
    "- spirit_servings: spirit 소비량\n",
    "- wine_servings: wine 소비량\n",
    "- total_litres_of_pure_alcohol: 총 알코올 소비량\n",
    "- continent: 국가의 대륙 정보"
   ]
  },
  {
   "cell_type": "code",
   "execution_count": 20,
   "id": "8940de7f",
   "metadata": {},
   "outputs": [
    {
     "name": "stdout",
     "output_type": "stream",
     "text": [
      "<class 'pandas.core.frame.DataFrame'>\n",
      "RangeIndex: 193 entries, 0 to 192\n",
      "Data columns (total 6 columns):\n",
      " #   Column                        Non-Null Count  Dtype  \n",
      "---  ------                        --------------  -----  \n",
      " 0   country                       193 non-null    object \n",
      " 1   beer_servings                 193 non-null    int64  \n",
      " 2   spirit_servings               193 non-null    int64  \n",
      " 3   wine_servings                 193 non-null    int64  \n",
      " 4   total_litres_of_pure_alcohol  193 non-null    float64\n",
      " 5   continent                     170 non-null    object \n",
      "dtypes: float64(1), int64(3), object(2)\n",
      "memory usage: 9.2+ KB\n",
      "None\n"
     ]
    },
    {
     "data": {
      "text/html": [
       "<div>\n",
       "<style scoped>\n",
       "    .dataframe tbody tr th:only-of-type {\n",
       "        vertical-align: middle;\n",
       "    }\n",
       "\n",
       "    .dataframe tbody tr th {\n",
       "        vertical-align: top;\n",
       "    }\n",
       "\n",
       "    .dataframe thead th {\n",
       "        text-align: right;\n",
       "    }\n",
       "</style>\n",
       "<table border=\"1\" class=\"dataframe\">\n",
       "  <thead>\n",
       "    <tr style=\"text-align: right;\">\n",
       "      <th></th>\n",
       "      <th>country</th>\n",
       "      <th>beer_servings</th>\n",
       "      <th>spirit_servings</th>\n",
       "      <th>wine_servings</th>\n",
       "      <th>total_litres_of_pure_alcohol</th>\n",
       "      <th>continent</th>\n",
       "    </tr>\n",
       "  </thead>\n",
       "  <tbody>\n",
       "    <tr>\n",
       "      <th>0</th>\n",
       "      <td>Afghanistan</td>\n",
       "      <td>0</td>\n",
       "      <td>0</td>\n",
       "      <td>0</td>\n",
       "      <td>0.0</td>\n",
       "      <td>AS</td>\n",
       "    </tr>\n",
       "    <tr>\n",
       "      <th>1</th>\n",
       "      <td>Albania</td>\n",
       "      <td>89</td>\n",
       "      <td>132</td>\n",
       "      <td>54</td>\n",
       "      <td>4.9</td>\n",
       "      <td>EU</td>\n",
       "    </tr>\n",
       "    <tr>\n",
       "      <th>2</th>\n",
       "      <td>Algeria</td>\n",
       "      <td>25</td>\n",
       "      <td>0</td>\n",
       "      <td>14</td>\n",
       "      <td>0.7</td>\n",
       "      <td>AF</td>\n",
       "    </tr>\n",
       "    <tr>\n",
       "      <th>3</th>\n",
       "      <td>Andorra</td>\n",
       "      <td>245</td>\n",
       "      <td>138</td>\n",
       "      <td>312</td>\n",
       "      <td>12.4</td>\n",
       "      <td>EU</td>\n",
       "    </tr>\n",
       "    <tr>\n",
       "      <th>4</th>\n",
       "      <td>Angola</td>\n",
       "      <td>217</td>\n",
       "      <td>57</td>\n",
       "      <td>45</td>\n",
       "      <td>5.9</td>\n",
       "      <td>AF</td>\n",
       "    </tr>\n",
       "    <tr>\n",
       "      <th>5</th>\n",
       "      <td>Antigua &amp; Barbuda</td>\n",
       "      <td>102</td>\n",
       "      <td>128</td>\n",
       "      <td>45</td>\n",
       "      <td>4.9</td>\n",
       "      <td>NaN</td>\n",
       "    </tr>\n",
       "    <tr>\n",
       "      <th>6</th>\n",
       "      <td>Argentina</td>\n",
       "      <td>193</td>\n",
       "      <td>25</td>\n",
       "      <td>221</td>\n",
       "      <td>8.3</td>\n",
       "      <td>SA</td>\n",
       "    </tr>\n",
       "    <tr>\n",
       "      <th>7</th>\n",
       "      <td>Armenia</td>\n",
       "      <td>21</td>\n",
       "      <td>179</td>\n",
       "      <td>11</td>\n",
       "      <td>3.8</td>\n",
       "      <td>EU</td>\n",
       "    </tr>\n",
       "    <tr>\n",
       "      <th>8</th>\n",
       "      <td>Australia</td>\n",
       "      <td>261</td>\n",
       "      <td>72</td>\n",
       "      <td>212</td>\n",
       "      <td>10.4</td>\n",
       "      <td>OC</td>\n",
       "    </tr>\n",
       "    <tr>\n",
       "      <th>9</th>\n",
       "      <td>Austria</td>\n",
       "      <td>279</td>\n",
       "      <td>75</td>\n",
       "      <td>191</td>\n",
       "      <td>9.7</td>\n",
       "      <td>EU</td>\n",
       "    </tr>\n",
       "  </tbody>\n",
       "</table>\n",
       "</div>"
      ],
      "text/plain": [
       "             country  beer_servings  spirit_servings  wine_servings  \\\n",
       "0        Afghanistan              0                0              0   \n",
       "1            Albania             89              132             54   \n",
       "2            Algeria             25                0             14   \n",
       "3            Andorra            245              138            312   \n",
       "4             Angola            217               57             45   \n",
       "5  Antigua & Barbuda            102              128             45   \n",
       "6          Argentina            193               25            221   \n",
       "7            Armenia             21              179             11   \n",
       "8          Australia            261               72            212   \n",
       "9            Austria            279               75            191   \n",
       "\n",
       "   total_litres_of_pure_alcohol continent  \n",
       "0                           0.0        AS  \n",
       "1                           4.9        EU  \n",
       "2                           0.7        AF  \n",
       "3                          12.4        EU  \n",
       "4                           5.9        AF  \n",
       "5                           4.9       NaN  \n",
       "6                           8.3        SA  \n",
       "7                           3.8        EU  \n",
       "8                          10.4        OC  \n",
       "9                           9.7        EU  "
      ]
     },
     "execution_count": 20,
     "metadata": {},
     "output_type": "execute_result"
    }
   ],
   "source": [
    "# drinks 데이터셋의 기초 정보 출력하기\n",
    "# info() 함수로 데이터의 기초적인 정보 보기\n",
    "import pandas as pd\n",
    "import numpy as np\n",
    "import matplotlib.pyplot as plt\n",
    "\n",
    "file_path ='data/drinks.csv'\n",
    "drinks = pd.read_csv(file_path) #read_csv() 함수로 데이터를 데이터 프레임 형태로 불러온다\n",
    "print(drinks.info())\n",
    "drinks.head(10)"
   ]
  },
  {
   "cell_type": "markdown",
   "id": "9283df2b",
   "metadata": {},
   "source": [
    "- 총 193개의 데이터가 있음\n",
    "- country와 continent를 제외한 피처들은 수치형 피처로 구성되어 있음\n",
    "- continent 피처는 23개의 결측값 존재"
   ]
  },
  {
   "cell_type": "code",
   "execution_count": 21,
   "id": "3dadd695",
   "metadata": {},
   "outputs": [
    {
     "data": {
      "text/html": [
       "<div>\n",
       "<style scoped>\n",
       "    .dataframe tbody tr th:only-of-type {\n",
       "        vertical-align: middle;\n",
       "    }\n",
       "\n",
       "    .dataframe tbody tr th {\n",
       "        vertical-align: top;\n",
       "    }\n",
       "\n",
       "    .dataframe thead th {\n",
       "        text-align: right;\n",
       "    }\n",
       "</style>\n",
       "<table border=\"1\" class=\"dataframe\">\n",
       "  <thead>\n",
       "    <tr style=\"text-align: right;\">\n",
       "      <th></th>\n",
       "      <th>beer_servings</th>\n",
       "      <th>spirit_servings</th>\n",
       "      <th>wine_servings</th>\n",
       "      <th>total_litres_of_pure_alcohol</th>\n",
       "    </tr>\n",
       "  </thead>\n",
       "  <tbody>\n",
       "    <tr>\n",
       "      <th>count</th>\n",
       "      <td>193.000000</td>\n",
       "      <td>193.000000</td>\n",
       "      <td>193.000000</td>\n",
       "      <td>193.000000</td>\n",
       "    </tr>\n",
       "    <tr>\n",
       "      <th>mean</th>\n",
       "      <td>106.160622</td>\n",
       "      <td>80.994819</td>\n",
       "      <td>49.450777</td>\n",
       "      <td>4.717098</td>\n",
       "    </tr>\n",
       "    <tr>\n",
       "      <th>std</th>\n",
       "      <td>101.143103</td>\n",
       "      <td>88.284312</td>\n",
       "      <td>79.697598</td>\n",
       "      <td>3.773298</td>\n",
       "    </tr>\n",
       "    <tr>\n",
       "      <th>min</th>\n",
       "      <td>0.000000</td>\n",
       "      <td>0.000000</td>\n",
       "      <td>0.000000</td>\n",
       "      <td>0.000000</td>\n",
       "    </tr>\n",
       "    <tr>\n",
       "      <th>25%</th>\n",
       "      <td>20.000000</td>\n",
       "      <td>4.000000</td>\n",
       "      <td>1.000000</td>\n",
       "      <td>1.300000</td>\n",
       "    </tr>\n",
       "    <tr>\n",
       "      <th>50%</th>\n",
       "      <td>76.000000</td>\n",
       "      <td>56.000000</td>\n",
       "      <td>8.000000</td>\n",
       "      <td>4.200000</td>\n",
       "    </tr>\n",
       "    <tr>\n",
       "      <th>75%</th>\n",
       "      <td>188.000000</td>\n",
       "      <td>128.000000</td>\n",
       "      <td>59.000000</td>\n",
       "      <td>7.200000</td>\n",
       "    </tr>\n",
       "    <tr>\n",
       "      <th>max</th>\n",
       "      <td>376.000000</td>\n",
       "      <td>438.000000</td>\n",
       "      <td>370.000000</td>\n",
       "      <td>14.400000</td>\n",
       "    </tr>\n",
       "  </tbody>\n",
       "</table>\n",
       "</div>"
      ],
      "text/plain": [
       "       beer_servings  spirit_servings  wine_servings  \\\n",
       "count     193.000000       193.000000     193.000000   \n",
       "mean      106.160622        80.994819      49.450777   \n",
       "std       101.143103        88.284312      79.697598   \n",
       "min         0.000000         0.000000       0.000000   \n",
       "25%        20.000000         4.000000       1.000000   \n",
       "50%        76.000000        56.000000       8.000000   \n",
       "75%       188.000000       128.000000      59.000000   \n",
       "max       376.000000       438.000000     370.000000   \n",
       "\n",
       "       total_litres_of_pure_alcohol  \n",
       "count                    193.000000  \n",
       "mean                       4.717098  \n",
       "std                        3.773298  \n",
       "min                        0.000000  \n",
       "25%                        1.300000  \n",
       "50%                        4.200000  \n",
       "75%                        7.200000  \n",
       "max                       14.400000  "
      ]
     },
     "execution_count": 21,
     "metadata": {},
     "output_type": "execute_result"
    }
   ],
   "source": [
    "drinks.describe()"
   ]
  },
  {
   "cell_type": "markdown",
   "id": "8a0ecb27",
   "metadata": {},
   "source": [
    "### step 2 인사이트의 발견 : 탐색과 시각화하기\n",
    "- 피처 간의 상관 관계를 통계적으로 탐색하는 방법은 크게 두 가지\n",
    "    - 피처가 2개일 때의 상관 계수를 계산하는 단순 상관 분석 방법\n",
    "    - 대상 피처가 여러 개일 때 상호 간의 연관성을 분석하는 다중 상관 분석\n",
    "    \n",
    "\n",
    "- 상관분석\n",
    "    두 변수 간의 선형적 관계를 상관 계수로 표현하는 것.  \n",
    "    상관 계수를 구하는 것은 공분산의 개념을 포함.  \n",
    "    공분산은 2개의 확률 변수에 대한 상관정도로, 2개의 변수 중 하나의 값이 상승하는 경향을 보일 때 다른 값도 상승하는 경향을 수치로 나타낸 것.  \n",
    "    공분산만으로 두 확률 변수의 상관 관계를 구한다면 두 변수의 단위 크기에 영향을 받을 수 있음.  \n",
    "    따라서 이를 -1과 1사이의 값으로 변환. 이를 상관계수라고 함.  \n",
    "    만약 상관계수가 1에 가깝다면 서로 강한 양의 상관 관계가 있는 것이고, -1에 가깝다면 음의 상관 관계가 있는 것.  \n",
    "\n",
    "\n",
    "- 상관 관계를 살펴볼 대상은 beer_servings, wine_servings, spirit_servings, total_litres_of_pure_alcohol 이렇게 4개의 피처\n",
    "- 이 피처는 술의 종류만 다를 뿐, 결국에는 비슷한 의미를 가지는 피처들\n",
    "- 맥주와 와인 소비량의 상관 관계\n",
    "    - 데이터 프레임에서 두 피처를 선택한 뒤, corr() 함수를 적용\n",
    "    - 이를 통해 피처 간의 상관 계수를 matrix의 형태로 출력할 수 있음"
   ]
  },
  {
   "cell_type": "code",
   "execution_count": 22,
   "id": "a86ed456",
   "metadata": {},
   "outputs": [
    {
     "name": "stdout",
     "output_type": "stream",
     "text": [
      "               beer_servings  wine_servings\n",
      "beer_servings       1.000000       0.527172\n",
      "wine_servings       0.527172       1.000000\n"
     ]
    }
   ],
   "source": [
    "# 두 피처 간의 상관 계수 구하기\n",
    "# beer_servings, wine_servings 두 피처 간의 상관 계수를 계산\n",
    "corr = drinks[['beer_servings','wine_servings']].corr(method='pearson')\n",
    "print(corr)"
   ]
  },
  {
   "cell_type": "code",
   "execution_count": 23,
   "id": "993aedb2",
   "metadata": {},
   "outputs": [
    {
     "name": "stdout",
     "output_type": "stream",
     "text": [
      "                              beer_servings  wine_servings  spirit_servings  \\\n",
      "beer_servings                      1.000000       0.527172         0.458819   \n",
      "wine_servings                      0.527172       1.000000         0.194797   \n",
      "spirit_servings                    0.458819       0.194797         1.000000   \n",
      "total_litres_of_pure_alcohol       0.835839       0.667598         0.654968   \n",
      "\n",
      "                              total_litres_of_pure_alcohol  \n",
      "beer_servings                                     0.835839  \n",
      "wine_servings                                     0.667598  \n",
      "spirit_servings                                   0.654968  \n",
      "total_litres_of_pure_alcohol                      1.000000  \n"
     ]
    }
   ],
   "source": [
    "# 4개 피처 간의 상관 계수 행렬 구하기\n",
    "cols = ['beer_servings', 'wine_servings', 'spirit_servings', 'total_litres_of_pure_alcohol']\n",
    "corr = drinks[cols].corr(method='pearson')\n",
    "print(corr)"
   ]
  },
  {
   "cell_type": "markdown",
   "id": "e248a8ab",
   "metadata": {},
   "source": [
    "- 조금 더 쉽게 실행하기 위해 'heatmap', 'pairplot'이라는 기법을 사용\n",
    "- 파이썬의 seaborn이라는 시각화 라이브러리를 활용하여 이 2개 기법을 사용할 수 있음\n",
    "- seaborn 라이브러리 설치는 아나콘다 프롬프트에서 가상 환경을 실행한 상태로 아래의 명령어를 입력\n",
    "- (env_name) pip install seaborn\n",
    "- !pip install seaborn"
   ]
  },
  {
   "cell_type": "code",
   "execution_count": 24,
   "id": "89021690",
   "metadata": {},
   "outputs": [],
   "source": [
    "# !pip install seaborn"
   ]
  },
  {
   "cell_type": "code",
   "execution_count": 25,
   "id": "b65ea3f4",
   "metadata": {},
   "outputs": [
    {
     "data": {
      "image/png": "[encoded data removed]",
      "text/plain": [
       "<Figure size 432x288 with 2 Axes>"
      ]
     },
     "metadata": {},
     "output_type": "display_data"
    },
    {
     "data": {
      "image/png": "[encoded data removed]",
      "text/plain": [
       "<Figure size 720x720 with 20 Axes>"
      ]
     },
     "metadata": {},
     "output_type": "display_data"
    }
   ],
   "source": [
    "import seaborn as sns\n",
    "import matplotlib.pyplot as plt\n",
    "\n",
    "# corr 행렬 히트맵을 시각화\n",
    "cols_view = ['beer','spirit', 'wine', 'alcohol'] # 그래프 출력을 위한 cols 이름을 축약\n",
    "sns.set(font_scale = 1.5)\n",
    "hm = sns.heatmap(corr.values,\n",
    "                cbar = True, # 우측의 컬러바\n",
    "                annot = True, # 박스 안에 글자\n",
    "                square = True, # 정사각형 크기\n",
    "                fmt = '.2f', # 박스 안에 글자 소수점 자리 수\n",
    "                annot_kws = {'size':15}, # 박스 안에 글자 크기\n",
    "                yticklabels = cols_view,\n",
    "                xticklabels = cols_view)\n",
    "\n",
    "plt.tight_layout()\n",
    "plt.show()\n",
    "\n",
    "# 시각화 라이브러리를 이용한 피처 간의 산점도 그래프를 출력\n",
    "sns.set(style = 'whitegrid', context = 'notebook')\n",
    "sns.pairplot(drinks[['beer_servings', 'wine_servings', \n",
    "                     'spirit_servings', 'total_litres_of_pure_alcohol']], height = 2.5)\n",
    "plt.show()"
   ]
  },
  {
   "cell_type": "markdown",
   "id": "cbd31826",
   "metadata": {},
   "source": [
    "### step 3 탐색적 분석 : 스무고개로 개념적 탐색 분석하기\n",
    "- continenet 피처에 존재하는 결측 데이터를 처리\n",
    "- 대륙에 대한 정보가 없는 국가를 'Others', 줄여서 'OT'라는 대륙으로 새롭게 정의\n",
    "- fillna() 함수를 사용하여 drinks 데이터 프레임의 continent 피처의 결측값을 OT로 채워줌"
   ]
  },
  {
   "cell_type": "code",
   "execution_count": 26,
   "id": "2b60a4a9",
   "metadata": {},
   "outputs": [
    {
     "data": {
      "text/html": [
       "<div>\n",
       "<style scoped>\n",
       "    .dataframe tbody tr th:only-of-type {\n",
       "        vertical-align: middle;\n",
       "    }\n",
       "\n",
       "    .dataframe tbody tr th {\n",
       "        vertical-align: top;\n",
       "    }\n",
       "\n",
       "    .dataframe thead th {\n",
       "        text-align: right;\n",
       "    }\n",
       "</style>\n",
       "<table border=\"1\" class=\"dataframe\">\n",
       "  <thead>\n",
       "    <tr style=\"text-align: right;\">\n",
       "      <th></th>\n",
       "      <th>country</th>\n",
       "      <th>beer_servings</th>\n",
       "      <th>spirit_servings</th>\n",
       "      <th>wine_servings</th>\n",
       "      <th>total_litres_of_pure_alcohol</th>\n",
       "      <th>continent</th>\n",
       "    </tr>\n",
       "  </thead>\n",
       "  <tbody>\n",
       "    <tr>\n",
       "      <th>0</th>\n",
       "      <td>Afghanistan</td>\n",
       "      <td>0</td>\n",
       "      <td>0</td>\n",
       "      <td>0</td>\n",
       "      <td>0.0</td>\n",
       "      <td>AS</td>\n",
       "    </tr>\n",
       "    <tr>\n",
       "      <th>1</th>\n",
       "      <td>Albania</td>\n",
       "      <td>89</td>\n",
       "      <td>132</td>\n",
       "      <td>54</td>\n",
       "      <td>4.9</td>\n",
       "      <td>EU</td>\n",
       "    </tr>\n",
       "    <tr>\n",
       "      <th>2</th>\n",
       "      <td>Algeria</td>\n",
       "      <td>25</td>\n",
       "      <td>0</td>\n",
       "      <td>14</td>\n",
       "      <td>0.7</td>\n",
       "      <td>AF</td>\n",
       "    </tr>\n",
       "    <tr>\n",
       "      <th>3</th>\n",
       "      <td>Andorra</td>\n",
       "      <td>245</td>\n",
       "      <td>138</td>\n",
       "      <td>312</td>\n",
       "      <td>12.4</td>\n",
       "      <td>EU</td>\n",
       "    </tr>\n",
       "    <tr>\n",
       "      <th>4</th>\n",
       "      <td>Angola</td>\n",
       "      <td>217</td>\n",
       "      <td>57</td>\n",
       "      <td>45</td>\n",
       "      <td>5.9</td>\n",
       "      <td>AF</td>\n",
       "    </tr>\n",
       "    <tr>\n",
       "      <th>5</th>\n",
       "      <td>Antigua &amp; Barbuda</td>\n",
       "      <td>102</td>\n",
       "      <td>128</td>\n",
       "      <td>45</td>\n",
       "      <td>4.9</td>\n",
       "      <td>OT</td>\n",
       "    </tr>\n",
       "    <tr>\n",
       "      <th>6</th>\n",
       "      <td>Argentina</td>\n",
       "      <td>193</td>\n",
       "      <td>25</td>\n",
       "      <td>221</td>\n",
       "      <td>8.3</td>\n",
       "      <td>SA</td>\n",
       "    </tr>\n",
       "    <tr>\n",
       "      <th>7</th>\n",
       "      <td>Armenia</td>\n",
       "      <td>21</td>\n",
       "      <td>179</td>\n",
       "      <td>11</td>\n",
       "      <td>3.8</td>\n",
       "      <td>EU</td>\n",
       "    </tr>\n",
       "    <tr>\n",
       "      <th>8</th>\n",
       "      <td>Australia</td>\n",
       "      <td>261</td>\n",
       "      <td>72</td>\n",
       "      <td>212</td>\n",
       "      <td>10.4</td>\n",
       "      <td>OC</td>\n",
       "    </tr>\n",
       "    <tr>\n",
       "      <th>9</th>\n",
       "      <td>Austria</td>\n",
       "      <td>279</td>\n",
       "      <td>75</td>\n",
       "      <td>191</td>\n",
       "      <td>9.7</td>\n",
       "      <td>EU</td>\n",
       "    </tr>\n",
       "  </tbody>\n",
       "</table>\n",
       "</div>"
      ],
      "text/plain": [
       "             country  beer_servings  spirit_servings  wine_servings  \\\n",
       "0        Afghanistan              0                0              0   \n",
       "1            Albania             89              132             54   \n",
       "2            Algeria             25                0             14   \n",
       "3            Andorra            245              138            312   \n",
       "4             Angola            217               57             45   \n",
       "5  Antigua & Barbuda            102              128             45   \n",
       "6          Argentina            193               25            221   \n",
       "7            Armenia             21              179             11   \n",
       "8          Australia            261               72            212   \n",
       "9            Austria            279               75            191   \n",
       "\n",
       "   total_litres_of_pure_alcohol continent  \n",
       "0                           0.0        AS  \n",
       "1                           4.9        EU  \n",
       "2                           0.7        AF  \n",
       "3                          12.4        EU  \n",
       "4                           5.9        AF  \n",
       "5                           4.9        OT  \n",
       "6                           8.3        SA  \n",
       "7                           3.8        EU  \n",
       "8                          10.4        OC  \n",
       "9                           9.7        EU  "
      ]
     },
     "execution_count": 26,
     "metadata": {},
     "output_type": "execute_result"
    }
   ],
   "source": [
    "# 결측 데이터 전처리 : 기타 대륙으로 통합 -> 'OT'\n",
    "drinks['continent'] = drinks['continent'].fillna('OT')\n",
    "drinks.head(10)"
   ]
  },
  {
   "cell_type": "code",
   "execution_count": 27,
   "id": "11752b03",
   "metadata": {},
   "outputs": [
    {
     "data": {
      "image/png": "[encoded data removed]",
      "text/plain": [
       "<Figure size 432x288 with 1 Axes>"
      ]
     },
     "metadata": {},
     "output_type": "display_data"
    }
   ],
   "source": [
    "# 파이차트로 시각화\n",
    "labels = drinks['continent'].value_counts().index.tolist()\n",
    "fracs1 = drinks['continent'].value_counts().values.tolist()\n",
    "explode = (0, 0, 0, 0.25, 0, 0)\n",
    "\n",
    "plt.pie(fracs1, explode = explode, labels = labels, autopct =\"%.0f%%\", shadow = True)\n",
    "plt.title('null data to \\'OT\\'')\n",
    "plt.show()"
   ]
  },
  {
   "cell_type": "code",
   "execution_count": 28,
   "id": "fa3a8dce",
   "metadata": {},
   "outputs": [
    {
     "data": {
      "text/plain": [
       "['AF', 'EU', 'AS', 'OT', 'OC', 'SA']"
      ]
     },
     "execution_count": 28,
     "metadata": {},
     "output_type": "execute_result"
    }
   ],
   "source": [
    "# 미니 퀴즈\n",
    "drinks['continent'].value_counts().index.tolist()"
   ]
  },
  {
   "cell_type": "code",
   "execution_count": 29,
   "id": "7b644475",
   "metadata": {},
   "outputs": [
    {
     "data": {
      "text/plain": [
       "[53, 45, 44, 23, 16, 12]"
      ]
     },
     "execution_count": 29,
     "metadata": {},
     "output_type": "execute_result"
    }
   ],
   "source": [
    "drinks['continent'].value_counts().values.tolist()"
   ]
  },
  {
   "cell_type": "markdown",
   "id": "9c846179",
   "metadata": {},
   "source": [
    "- fracs1: 파이차트에 표현되는 각 영역의 값을 의미\n",
    "- plt : 이값을 %로 변환하여 출력\n",
    "- labels : 파이차트에서 각 영역의 이름을 의미. 대륙의 이름이 쓰인 부분\n",
    "\n",
    "#### 대륙별 spirit_servings의 통계적 정보는 어느정도 일까?\n",
    "- agg() 함수는 apply() 함수와 거의 동일한 기능을 하지만, apply()에 들어가는 함수 파라미터를 병렬로 설정하여  \n",
    "  그룹에 대한 여러 가지 연산 결과를 동시에 얻을 수 있는 함수\n",
    "- 대륙별 'spirit_servings'의 통계적 정보를 구하기 위해서는 agg에 ['mean', 'min', 'max', 'sum'] 파라미터를 입력하는 것만으로도 간단히 탐색 가능"
   ]
  },
  {
   "cell_type": "code",
   "execution_count": 30,
   "id": "d078f7b6",
   "metadata": {},
   "outputs": [
    {
     "data": {
      "text/html": [
       "<div>\n",
       "<style scoped>\n",
       "    .dataframe tbody tr th:only-of-type {\n",
       "        vertical-align: middle;\n",
       "    }\n",
       "\n",
       "    .dataframe tbody tr th {\n",
       "        vertical-align: top;\n",
       "    }\n",
       "\n",
       "    .dataframe thead th {\n",
       "        text-align: right;\n",
       "    }\n",
       "</style>\n",
       "<table border=\"1\" class=\"dataframe\">\n",
       "  <thead>\n",
       "    <tr style=\"text-align: right;\">\n",
       "      <th></th>\n",
       "      <th>mean</th>\n",
       "      <th>min</th>\n",
       "      <th>max</th>\n",
       "      <th>sum</th>\n",
       "    </tr>\n",
       "    <tr>\n",
       "      <th>continent</th>\n",
       "      <th></th>\n",
       "      <th></th>\n",
       "      <th></th>\n",
       "      <th></th>\n",
       "    </tr>\n",
       "  </thead>\n",
       "  <tbody>\n",
       "    <tr>\n",
       "      <th>AF</th>\n",
       "      <td>16.339623</td>\n",
       "      <td>0</td>\n",
       "      <td>152</td>\n",
       "      <td>866</td>\n",
       "    </tr>\n",
       "    <tr>\n",
       "      <th>AS</th>\n",
       "      <td>60.840909</td>\n",
       "      <td>0</td>\n",
       "      <td>326</td>\n",
       "      <td>2677</td>\n",
       "    </tr>\n",
       "    <tr>\n",
       "      <th>EU</th>\n",
       "      <td>132.555556</td>\n",
       "      <td>0</td>\n",
       "      <td>373</td>\n",
       "      <td>5965</td>\n",
       "    </tr>\n",
       "    <tr>\n",
       "      <th>OC</th>\n",
       "      <td>58.437500</td>\n",
       "      <td>0</td>\n",
       "      <td>254</td>\n",
       "      <td>935</td>\n",
       "    </tr>\n",
       "    <tr>\n",
       "      <th>OT</th>\n",
       "      <td>165.739130</td>\n",
       "      <td>68</td>\n",
       "      <td>438</td>\n",
       "      <td>3812</td>\n",
       "    </tr>\n",
       "  </tbody>\n",
       "</table>\n",
       "</div>"
      ],
      "text/plain": [
       "                 mean  min  max   sum\n",
       "continent                            \n",
       "AF          16.339623    0  152   866\n",
       "AS          60.840909    0  326  2677\n",
       "EU         132.555556    0  373  5965\n",
       "OC          58.437500    0  254   935\n",
       "OT         165.739130   68  438  3812"
      ]
     },
     "execution_count": 30,
     "metadata": {},
     "output_type": "execute_result"
    }
   ],
   "source": [
    "# agg() 함수를 이용해 대륙별로 분석하기\n",
    "# 대륙별 spirit_servings의 평균, 최소, 최대, 합계를 계산\n",
    "result = drinks.groupby('continent').spirit_servings.agg(['mean', 'min', 'max', 'sum'])\n",
    "result.head()"
   ]
  },
  {
   "cell_type": "markdown",
   "id": "4b067101",
   "metadata": {},
   "source": [
    "#### 전체 평균보다 많은 알코올을 섭취하는 대륙은 어디일까?\n",
    "- apply()나 agg()함수 없이도 mean()함수만을 이용한 탐색을 수행할 수 있음"
   ]
  },
  {
   "cell_type": "code",
   "execution_count": 31,
   "id": "c4293ec1",
   "metadata": {},
   "outputs": [
    {
     "name": "stdout",
     "output_type": "stream",
     "text": [
      "continent\n",
      "EU    8.617778\n",
      "OT    5.995652\n",
      "SA    6.308333\n",
      "Name: total_litres_of_pure_alcohol, dtype: float64\n"
     ]
    }
   ],
   "source": [
    "# 전체 평균보다 많은 알코올을 섭취하는 대륙을 구한다\n",
    "total_mean = drinks.total_litres_of_pure_alcohol.mean()\n",
    "continent_mean = drinks.groupby('continent')['total_litres_of_pure_alcohol'].mean()\n",
    "continent_over_mean = continent_mean[continent_mean >= total_mean]\n",
    "print(continent_over_mean)"
   ]
  },
  {
   "cell_type": "markdown",
   "id": "706a6478",
   "metadata": {},
   "source": [
    "#### 평균 beer_servings가 가장 높은 대륙은 어디일까?\n",
    "- mean()함수만 이용한 탐색에 idxmax()함수를 적용하면 평균 'beer_servings'가 가장 높은 대륙이 어디인지 찾을 수 있음\n",
    "- idxmax()는 시리즈 객체에서 값이 가장 큰 index를 반환하는 기능 수행"
   ]
  },
  {
   "cell_type": "code",
   "execution_count": 33,
   "id": "c7c7faae",
   "metadata": {},
   "outputs": [
    {
     "name": "stdout",
     "output_type": "stream",
     "text": [
      "EU\n"
     ]
    }
   ],
   "source": [
    "# 평균 beer_servings가 가장 높은 대륙을 구한다\n",
    "beer_continent = drinks.groupby('continent').beer_servings.mean().idxmax()\n",
    "print(beer_continent)"
   ]
  },
  {
   "cell_type": "markdown",
   "id": "5624e2ac",
   "metadata": {},
   "source": [
    "- AF, AS, EU, OC, OT 대륙 중 EU, OT, AS만이 평균보다 많이 알코올을 섭취하는 대륙인 것을 알 수 있음\n",
    "- 맥주를 가장 좋아하는 대륙은 EU(유럽)\n",
    "\n",
    "#### 시각화"
   ]
  },
  {
   "cell_type": "code",
   "execution_count": 34,
   "id": "176fca29",
   "metadata": {},
   "outputs": [
    {
     "data": {
      "image/png": "[encoded data removed]",
      "text/plain": [
       "<Figure size 432x288 with 1 Axes>"
      ]
     },
     "metadata": {},
     "output_type": "display_data"
    }
   ],
   "source": [
    "# 대륙별 spirit_servings의 평균, 최소, 최대, 합계를 시각화\n",
    "n_groups = len(result.index)\n",
    "means = result['mean'].tolist()\n",
    "mins = result['min'].tolist()\n",
    "maxs = result['max'].tolist()\n",
    "sums = result['sum'].tolist()\n",
    " \n",
    "index = np.arange(n_groups)\n",
    "bar_width = 0.1\n",
    " \n",
    "rects1 = plt.bar(index, means, bar_width,\n",
    "                 color='r',\n",
    "                 label='Mean')\n",
    " \n",
    "rects2 = plt.bar(index + bar_width, mins, bar_width,\n",
    "                 color='g',\n",
    "                 label='Min')\n",
    "\n",
    "rects3 = plt.bar(index + bar_width * 2, maxs, bar_width,\n",
    "                 color='b',\n",
    "                 label='Max')\n",
    " \n",
    "rects3 = plt.bar(index + bar_width * 3, sums, bar_width,\n",
    "                 color='y',\n",
    "                 label='Sum')\n",
    "\n",
    "plt.xticks(index, result.index.tolist())\n",
    "plt.legend()\n",
    "plt.show()"
   ]
  },
  {
   "cell_type": "code",
   "execution_count": 37,
   "id": "d954f045",
   "metadata": {},
   "outputs": [
    {
     "data": {
      "image/png": "[encoded data removed]",
      "text/plain": [
       "<Figure size 432x288 with 1 Axes>"
      ]
     },
     "metadata": {},
     "output_type": "display_data"
    }
   ],
   "source": [
    "# 대륙별 total_litres_of_pure_alcohol을 시각화합니다.\n",
    "continents = continent_mean.index.tolist()\n",
    "continents.append('mean')\n",
    "x_pos = np.arange(len(continents))\n",
    "alcohol = continent_mean.tolist()\n",
    "alcohol.append(total_mean)\n",
    " \n",
    "bar_list = plt.bar(x_pos, alcohol, align='center', alpha=0.5)\n",
    "bar_list[len(continents) - 1].set_color('r')\n",
    "plt.plot([0., 6], [total_mean, total_mean], \"k--\")\n",
    "plt.xticks(x_pos, continents)\n",
    "\n",
    "plt.ylabel('total_litres_of_pure_alcohol')\n",
    "plt.title('total_litres_of_pure_alcohol by Continent')\n",
    "\n",
    "plt.show()"
   ]
  },
  {
   "cell_type": "code",
   "execution_count": 38,
   "id": "2e9bb5f4",
   "metadata": {
    "scrolled": true
   },
   "outputs": [
    {
     "data": {
      "image/png": "[encoded data removed]",
      "text/plain": [
       "<Figure size 432x288 with 1 Axes>"
      ]
     },
     "metadata": {},
     "output_type": "display_data"
    }
   ],
   "source": [
    "# 대륙별 beer_servings을 시각화합니다.\n",
    "beer_group = drinks.groupby('continent')['beer_servings'].sum()\n",
    "continents = beer_group.index.tolist()\n",
    "y_pos = np.arange(len(continents))\n",
    "alcohol = beer_group.tolist()\n",
    " \n",
    "bar_list = plt.bar(y_pos, alcohol, align='center', alpha=0.5)\n",
    "bar_list[continents.index(\"EU\")].set_color('r')\n",
    "plt.xticks(y_pos, continents)\n",
    "plt.ylabel('beer_servings')\n",
    "plt.title('beer_servings by Continent')\n",
    " \n",
    "plt.show()"
   ]
  },
  {
   "cell_type": "markdown",
   "id": "553ea2c2",
   "metadata": {},
   "source": [
    "미니 퀴즈 1-3"
   ]
  },
  {
   "cell_type": "code",
   "execution_count": 39,
   "id": "7141c517",
   "metadata": {},
   "outputs": [
    {
     "name": "stdout",
     "output_type": "stream",
     "text": [
      "[16.339622641509433, 60.84090909090909, 132.55555555555554, 58.4375, 165.7391304347826, 114.75]\n",
      "[0, 0, 0, 0, 68, 25]\n",
      "[152, 326, 373, 254, 438, 302]\n",
      "[866, 2677, 5965, 935, 3812, 1377]\n"
     ]
    }
   ],
   "source": [
    "means = result['mean'].tolist()\n",
    "print(means)\n",
    "mins = result['min'].tolist()\n",
    "print(mins)\n",
    "maxs = result['max'].tolist()\n",
    "print(maxs)\n",
    "sums = result['sum'].tolist()\n",
    "print(sums)"
   ]
  },
  {
   "cell_type": "markdown",
   "id": "88ccd85a",
   "metadata": {},
   "source": [
    "- 각각 대륙별 beer_servings의 평균값, 최소값, 최대값, 합계"
   ]
  },
  {
   "cell_type": "code",
   "execution_count": 40,
   "id": "cdd1e175",
   "metadata": {},
   "outputs": [
    {
     "data": {
      "image/png": "[encoded data removed]",
      "text/plain": [
       "<Figure size 432x288 with 1 Axes>"
      ]
     },
     "metadata": {},
     "output_type": "display_data"
    }
   ],
   "source": [
    "# 대륙별 total_litres_of_pure_alcohol 시각화 - 그래프 색상을 변경\n",
    "continents = continent_mean.index.tolist()\n",
    "continents.append('mean')\n",
    "x_pos = np.arange(len(continents))\n",
    "alcohol = continent_mean.tolist()\n",
    "alcohol.append(total_mean)\n",
    " \n",
    "bar_list = plt.bar(x_pos, alcohol, align='center', alpha=0.5)\n",
    "bar_list[len(continents) - 1].set_color('g')\n",
    "plt.plot([0., 6], [total_mean, total_mean], \"k--\")\n",
    "plt.xticks(x_pos, continents)\n",
    "\n",
    "plt.ylabel('total_litres_of_pure_alcohol')\n",
    "plt.title('total_litres_of_pure_alcohol by Continent')\n",
    "\n",
    "plt.show()"
   ]
  },
  {
   "cell_type": "code",
   "execution_count": 41,
   "id": "8673bb46",
   "metadata": {},
   "outputs": [
    {
     "data": {
      "image/png": "[encoded data removed]",
      "text/plain": [
       "<Figure size 432x288 with 1 Axes>"
      ]
     },
     "metadata": {},
     "output_type": "display_data"
    }
   ],
   "source": [
    "# 대륙별 total_litres_of_pure_alcohol 시각화 - 점선을 변경합니다.\n",
    "continents = continent_mean.index.tolist()\n",
    "continents.append('mean')\n",
    "x_pos = np.arange(len(continents))\n",
    "alcohol = continent_mean.tolist()\n",
    "alcohol.append(total_mean)\n",
    " \n",
    "bar_list = plt.bar(x_pos, alcohol, align='center', alpha=0.5)\n",
    "bar_list[len(continents) - 1].set_color('green')\n",
    "plt.plot([3., 5], [total_mean + 1.5, total_mean + 1.5], \"k--\")\n",
    "plt.xticks(x_pos, continents)\n",
    "\n",
    "plt.ylabel('total_litres_of_pure_alcohol')\n",
    "plt.title('total_litres_of_pure_alcohol by Continent')\n",
    "\n",
    "plt.show()"
   ]
  },
  {
   "cell_type": "markdown",
   "id": "51fc6470",
   "metadata": {},
   "source": [
    "### step 4 통계적 분석 : 분석 대상 간의 통계적 차이 검정하기\n",
    "- 두 피처 간의 상관성을 계산하거나 그룹 단위로 나누어 수치 정보를 살펴보는 방식은 분석가의 주관에 따라 도출된 내용이기 때문에 분석 자체의 타당성을 증명하기에는 한계가 있음\n",
    "- 분석 결과에 타당성을 부여하기 위해 통계적으로 차이를 검정하는 과정이 필요  \n",
    "\n",
    "\n",
    "t-test\n",
    "- 두 집단 간 평균의 차이에 대한 검정 방법\n",
    "- 모집단의 평균 등과 같이 실제 정보를 모를 때 현재의 데이터만으로 두 집단의 차이에 대해 검정할 수 있는 방법\n",
    "- 검정 대상인 두 집단의 데이터 개수가 비슷하면서 두 데이터가 정규 분포를 보이는 경우에 신뢰도가 높은 검정 방식\n",
    "\n",
    "\n",
    "- 파이썬에서는 scipy라는 라이브러리를 활용하여 두 집단 간의 t-test를 검정할 수 있음\n",
    "- ttest_ind()함수에 두 집단의 시리즈 데이터를 넣는 것으로 검정의 결과를 확인할 수 있음  \n",
    "이 함수의 파라미터인 equal_var는 t-test의 두가지 방법 중에 하나를 선택하는 것\n",
    "    - 두 집단의 분산이 같은 경우\n",
    "    - 두 집단의 분산이 같지 않은 경우\n",
    "    \n",
    "\n",
    "- 아래 코드 실행을 위해, anaconda prompt 혹은 Terminal에서 아래와 같은 패키지를 설치해 줍니다.  \n",
    "    (env_name) pip install scipy\n",
    "- 혹은 아래의 코드로 라이브러리를 설치합니다."
   ]
  },
  {
   "cell_type": "code",
   "execution_count": 42,
   "id": "43637434",
   "metadata": {},
   "outputs": [
    {
     "name": "stdout",
     "output_type": "stream",
     "text": [
      "Requirement already satisfied: scipy in c:\\users\\sjy98\\appdata\\local\\programs\\python\\python37\\lib\\site-packages (1.7.3)\n",
      "Requirement already satisfied: numpy<1.23.0,>=1.16.5 in c:\\users\\sjy98\\appdata\\local\\programs\\python\\python37\\lib\\site-packages (from scipy) (1.21.5)\n"
     ]
    }
   ],
   "source": [
    "# ! pip install scipy"
   ]
  },
  {
   "cell_type": "code",
   "execution_count": 44,
   "id": "f6512105",
   "metadata": {},
   "outputs": [
    {
     "name": "stdout",
     "output_type": "stream",
     "text": [
      "The t-statistic and p-value assuming equal variances is -7.268 and 0.000.\n",
      "The t-statistic and p-value not assuming equal variances is -7.144 and 0.000\n"
     ]
    }
   ],
   "source": [
    "# 아프리카와 유럽간의 맥주 소비량 차이를 검정합니다.\n",
    "africa = drinks.loc[drinks['continent']=='AF']\n",
    "europe = drinks.loc[drinks['continent']=='EU']\n",
    "\n",
    "from scipy import stats\n",
    "tTestResult = stats.ttest_ind(africa['beer_servings'], europe['beer_servings'])\n",
    "tTestResultDiffVar = stats.ttest_ind(africa['beer_servings'], europe['beer_servings'], equal_var=False)\n",
    "\n",
    "print(\"The t-statistic and p-value assuming equal variances is %.3f and %.3f.\" % tTestResult)\n",
    "print(\"The t-statistic and p-value not assuming equal variances is %.3f and %.3f\" % tTestResultDiffVar)"
   ]
  },
  {
   "cell_type": "markdown",
   "id": "cde5f38d",
   "metadata": {},
   "source": [
    "- t-statistic은 t-test의 검정 통계량을 의미.  함께 출력되는 p-value와 연관지어 해석해야 함\n",
    "- p-value는 가설이 얼마나 믿을만한 것인지를 나타내는 지표로, 데이터를 새로 샘플링했을때  \n",
    "귀무 가설이 맞다는 전제 하에 현재 나온 통계값 이상이 나올 확률\n",
    "\n",
    "\n",
    "- 만약 p-value가 너무 낮으면 귀무 가설이 일어날 확률이 너무 낮기 때문에 귀무 가설을 기각하게 됨  \n",
    "보통 그 기준은 0.05나 0.01을 기준으로 하며, 이를 p-value(유의확률)\n",
    "\n",
    "\n",
    "- 귀무 가설이란 처음부터 버릴 것을 예상하는 가설이며, 가설이 맞지 않다는 것을 증명하기 위해 수립하는 가설\n",
    "- 반대되는 것을 대립 가설이라고 부르며, 귀무 가설이 거짓인 경우에 대안적으로 참이 되는 가설을 의미\n",
    "\n",
    "\n",
    "- 등분산을 가정한 케이스와 가정하지 않은 케이스 모두 p-value가 0.000이하로 나타났음  \n",
    "t-test의 귀무 가설은 '두 집단의 평균이 같다'이고 이 귀무 가설은 기각됨  \n",
    "따라서 '아프리카와 유럽 대륙 간의 맥주 소비량 차이'는 통계적으로 유의미하다는 결론을 내릴 수 있음  \n",
    "이는 대립 가설인 '두 집단의 평균이 다르다'를 채택한 것  \n",
    "하지만 두 집단의 데이터는 크기도 다르고, 각각의 크기 또한 크지 않기 때문에 실제로 통계적인 의미를 가지는 검정이라고 보기엔 어려움   \n",
    "만약 통계적 분석을 하기에 좋은 조건인 경우라면 이러한 방법을 사용할 수 있다는 것만 참고  \n",
    "\n",
    "\n",
    "'대한민국은 얼마나 독하게 술을 마시는 나라일까?'\n",
    "- 판단하는 기준으로, alcohol_rate 피처를 생성\n",
    "- alcohol_rate는 total_litres_of_pure_alcohol 피처를 모든 술의 총 소비량(total_serving)으로 나눈 것\n",
    "- alcohol_rate는 sort_values() 함수를 사용하여 국가를 기준으로 정렬"
   ]
  },
  {
   "cell_type": "code",
   "execution_count": 45,
   "id": "2b94f39b",
   "metadata": {},
   "outputs": [
    {
     "data": {
      "text/html": [
       "<div>\n",
       "<style scoped>\n",
       "    .dataframe tbody tr th:only-of-type {\n",
       "        vertical-align: middle;\n",
       "    }\n",
       "\n",
       "    .dataframe tbody tr th {\n",
       "        vertical-align: top;\n",
       "    }\n",
       "\n",
       "    .dataframe thead th {\n",
       "        text-align: right;\n",
       "    }\n",
       "</style>\n",
       "<table border=\"1\" class=\"dataframe\">\n",
       "  <thead>\n",
       "    <tr style=\"text-align: right;\">\n",
       "      <th></th>\n",
       "      <th>country</th>\n",
       "      <th>alcohol_rate</th>\n",
       "    </tr>\n",
       "  </thead>\n",
       "  <tbody>\n",
       "    <tr>\n",
       "      <th>63</th>\n",
       "      <td>Gambia</td>\n",
       "      <td>0.266667</td>\n",
       "    </tr>\n",
       "    <tr>\n",
       "      <th>153</th>\n",
       "      <td>Sierra Leone</td>\n",
       "      <td>0.223333</td>\n",
       "    </tr>\n",
       "    <tr>\n",
       "      <th>124</th>\n",
       "      <td>Nigeria</td>\n",
       "      <td>0.185714</td>\n",
       "    </tr>\n",
       "    <tr>\n",
       "      <th>179</th>\n",
       "      <td>Uganda</td>\n",
       "      <td>0.153704</td>\n",
       "    </tr>\n",
       "    <tr>\n",
       "      <th>142</th>\n",
       "      <td>Rwanda</td>\n",
       "      <td>0.151111</td>\n",
       "    </tr>\n",
       "  </tbody>\n",
       "</table>\n",
       "</div>"
      ],
      "text/plain": [
       "          country  alcohol_rate\n",
       "63         Gambia      0.266667\n",
       "153  Sierra Leone      0.223333\n",
       "124       Nigeria      0.185714\n",
       "179        Uganda      0.153704\n",
       "142        Rwanda      0.151111"
      ]
     },
     "execution_count": 45,
     "metadata": {},
     "output_type": "execute_result"
    }
   ],
   "source": [
    "# '대한민국은 얼마나 술을 독하게 마시는 나라일까?'에 대한 탐색 코드 살펴보기\n",
    "# total_servings 피처를 생성합니다.\n",
    "drinks['total_servings'] = drinks['beer_servings'] + drinks['wine_servings'] + drinks['spirit_servings']\n",
    "\n",
    "# 술 소비량 대비 알콜 비율 피처를 생성합니다.\n",
    "drinks['alcohol_rate'] = drinks['total_litres_of_pure_alcohol'] / drinks['total_servings']\n",
    "drinks['alcohol_rate'] = drinks['alcohol_rate'].fillna(0)\n",
    "\n",
    "# 순위 정보를 생성합니다.\n",
    "country_with_rank = drinks[['country', 'alcohol_rate']]\n",
    "country_with_rank = country_with_rank.sort_values(by=['alcohol_rate'], ascending=0)\n",
    "country_with_rank.head(5)"
   ]
  },
  {
   "cell_type": "markdown",
   "id": "531001bd",
   "metadata": {},
   "source": [
    "- x_pose = np.arange(len(country_list))를 통해 그래프의 x축에 해당하는 범위를 생성\n",
    "- rank = country_with_rank.alcohol_rate.tolist()를 통해 alcohol_rate순으로 정렬된 데이터에서 alcohol_rate 값을 생성"
   ]
  },
  {
   "cell_type": "code",
   "execution_count": 46,
   "id": "a684ee47",
   "metadata": {},
   "outputs": [
    {
     "data": {
      "image/png": "[encoded data removed]",
      "text/plain": [
       "<Figure size 432x288 with 1 Axes>"
      ]
     },
     "metadata": {},
     "output_type": "display_data"
    }
   ],
   "source": [
    "# 국가별 순위 정보를 그래프로 시각화합니다.\n",
    "country_list = country_with_rank.country.tolist()\n",
    "x_pos = np.arange(len(country_list))\n",
    "rank = country_with_rank.alcohol_rate.tolist()\n",
    " \n",
    "bar_list = plt.bar(x_pos, rank)\n",
    "bar_list[country_list.index(\"South Korea\")].set_color('r')\n",
    "plt.ylabel('alcohol rate')\n",
    "plt.title('liquor drink rank by contry')\n",
    "plt.axis([0, 200, 0, 0.3])\n",
    "\n",
    "korea_rank = country_list.index(\"South Korea\")\n",
    "korea_alc_rate = country_with_rank[country_with_rank['country'] == 'South Korea']['alcohol_rate'].values[0]\n",
    "plt.annotate('South Korea : ' + str(korea_rank + 1), \n",
    "             xy=(korea_rank, korea_alc_rate), \n",
    "             xytext=(korea_rank + 10, korea_alc_rate + 0.05),\n",
    "             arrowprops=dict(facecolor='red', shrink=0.05))\n",
    "\n",
    "plt.show()"
   ]
  },
  {
   "cell_type": "markdown",
   "id": "7353fcb7",
   "metadata": {},
   "source": [
    "연습 문제"
   ]
  },
  {
   "cell_type": "code",
   "execution_count": 53,
   "id": "166ce62d",
   "metadata": {},
   "outputs": [],
   "source": [
    "import pandas as pd\n",
    "import numpy as np\n",
    "import matplotlib.pyplot as plt\n",
    "\n",
    "file_path = 'data/drinks.csv'\n",
    "drinks = pd.read_csv(file_path) # read_csv 함수로 데이터를 Dataframe 형태로 불러옵니다.\n",
    "drinks['continent'] = drinks['continent'].fillna('OT')"
   ]
  },
  {
   "cell_type": "code",
   "execution_count": 59,
   "id": "952d3adb",
   "metadata": {},
   "outputs": [
    {
     "data": {
      "text/html": [
       "<div>\n",
       "<style scoped>\n",
       "    .dataframe tbody tr th:only-of-type {\n",
       "        vertical-align: middle;\n",
       "    }\n",
       "\n",
       "    .dataframe tbody tr th {\n",
       "        vertical-align: top;\n",
       "    }\n",
       "\n",
       "    .dataframe thead th {\n",
       "        text-align: right;\n",
       "    }\n",
       "</style>\n",
       "<table border=\"1\" class=\"dataframe\">\n",
       "  <thead>\n",
       "    <tr style=\"text-align: right;\">\n",
       "      <th></th>\n",
       "      <th>country</th>\n",
       "      <th>continent</th>\n",
       "      <th>wine_servings_cont_avg</th>\n",
       "    </tr>\n",
       "  </thead>\n",
       "  <tbody>\n",
       "    <tr>\n",
       "      <th>82</th>\n",
       "      <td>Slovenia</td>\n",
       "      <td>EU</td>\n",
       "      <td>142.222222</td>\n",
       "    </tr>\n",
       "    <tr>\n",
       "      <th>67</th>\n",
       "      <td>Latvia</td>\n",
       "      <td>EU</td>\n",
       "      <td>142.222222</td>\n",
       "    </tr>\n",
       "    <tr>\n",
       "      <th>187</th>\n",
       "      <td>Papua New Guinea</td>\n",
       "      <td>OC</td>\n",
       "      <td>35.625000</td>\n",
       "    </tr>\n",
       "    <tr>\n",
       "      <th>168</th>\n",
       "      <td>Chile</td>\n",
       "      <td>SA</td>\n",
       "      <td>62.416667</td>\n",
       "    </tr>\n",
       "    <tr>\n",
       "      <th>110</th>\n",
       "      <td>Ghana</td>\n",
       "      <td>AF</td>\n",
       "      <td>16.264151</td>\n",
       "    </tr>\n",
       "  </tbody>\n",
       "</table>\n",
       "</div>"
      ],
      "text/plain": [
       "              country continent  wine_servings_cont_avg\n",
       "82           Slovenia        EU              142.222222\n",
       "67             Latvia        EU              142.222222\n",
       "187  Papua New Guinea        OC               35.625000\n",
       "168             Chile        SA               62.416667\n",
       "110             Ghana        AF               16.264151"
      ]
     },
     "execution_count": 59,
     "metadata": {},
     "output_type": "execute_result"
    }
   ],
   "source": [
    "# 대륙별 평균 wine_servings를 탐색\n",
    "\n",
    "# 대륙별 평균 wine_servings 피처를 만들어서 병합\n",
    "result = drinks.groupby('continent')['wine_servings'].mean()\n",
    "df = result.to_frame().reset_index()\n",
    "df = df.rename(columns={'wine_servings': 'wine_servings_cont_avg'})\n",
    "drinks = pd.merge(drinks, df, on='continent', how='outer')\n",
    "\n",
    "# 위와 같은 방법의 코드\n",
    "drinks['wine_servings_cont_avg'] = drinks.groupby('continent')['wine_servings'].transform(np.mean)\n",
    "\n",
    "# 결과 출력\n",
    "drinks[['country', 'continent', 'wine_servings_cont_avg']].sample(5).head()"
   ]
  },
  {
   "cell_type": "markdown",
   "id": "85c3827a",
   "metadata": {},
   "source": [
    "- groupby 연산 결과를 반환하면, 반환 데이터의 타입은 dataframe 타입이 아님  \n",
    "따라서 to_frame이라는 함수를 사용하여 dataframe 타입으로 변환한 뒤,  \n",
    "다시 이 dataframe의 index를 reset_index라는 함수로 설정하는 과정이 필요  \n",
    "그리고 이 과정으로 생성된 dataframe을 원래의 dataframe에 합쳐주어야 함  \n",
    "이를 위해서는 merge 라는 함수를 또 새롭게 적용  \n",
    "하지만 transform 함수가 있다면, 이 모든 과정을 단 한줄의 코드로 수행할 수 있음"
   ]
  },
  {
   "cell_type": "code",
   "execution_count": 61,
   "id": "b84771bd",
   "metadata": {},
   "outputs": [
    {
     "data": {
      "text/html": [
       "<div>\n",
       "<style scoped>\n",
       "    .dataframe tbody tr th:only-of-type {\n",
       "        vertical-align: middle;\n",
       "    }\n",
       "\n",
       "    .dataframe tbody tr th {\n",
       "        vertical-align: top;\n",
       "    }\n",
       "\n",
       "    .dataframe thead th {\n",
       "        text-align: right;\n",
       "    }\n",
       "</style>\n",
       "<table border=\"1\" class=\"dataframe\">\n",
       "  <thead>\n",
       "    <tr style=\"text-align: right;\">\n",
       "      <th></th>\n",
       "      <th>country</th>\n",
       "      <th>beer_servings</th>\n",
       "      <th>wine_servings</th>\n",
       "      <th>spirit_servings</th>\n",
       "      <th>total_servings</th>\n",
       "    </tr>\n",
       "  </thead>\n",
       "  <tbody>\n",
       "    <tr>\n",
       "      <th>27</th>\n",
       "      <td>Philippines</td>\n",
       "      <td>71</td>\n",
       "      <td>1</td>\n",
       "      <td>186</td>\n",
       "      <td>258</td>\n",
       "    </tr>\n",
       "    <tr>\n",
       "      <th>158</th>\n",
       "      <td>Nicaragua</td>\n",
       "      <td>78</td>\n",
       "      <td>1</td>\n",
       "      <td>118</td>\n",
       "      <td>197</td>\n",
       "    </tr>\n",
       "    <tr>\n",
       "      <th>52</th>\n",
       "      <td>Bulgaria</td>\n",
       "      <td>231</td>\n",
       "      <td>94</td>\n",
       "      <td>252</td>\n",
       "      <td>577</td>\n",
       "    </tr>\n",
       "    <tr>\n",
       "      <th>54</th>\n",
       "      <td>Cyprus</td>\n",
       "      <td>192</td>\n",
       "      <td>113</td>\n",
       "      <td>154</td>\n",
       "      <td>459</td>\n",
       "    </tr>\n",
       "    <tr>\n",
       "      <th>44</th>\n",
       "      <td>Albania</td>\n",
       "      <td>89</td>\n",
       "      <td>54</td>\n",
       "      <td>132</td>\n",
       "      <td>275</td>\n",
       "    </tr>\n",
       "  </tbody>\n",
       "</table>\n",
       "</div>"
      ],
      "text/plain": [
       "         country  beer_servings  wine_servings  spirit_servings  \\\n",
       "27   Philippines             71              1              186   \n",
       "158    Nicaragua             78              1              118   \n",
       "52      Bulgaria            231             94              252   \n",
       "54        Cyprus            192            113              154   \n",
       "44       Albania             89             54              132   \n",
       "\n",
       "     total_servings  \n",
       "27              258  \n",
       "158             197  \n",
       "52              577  \n",
       "54              459  \n",
       "44              275  "
      ]
     },
     "execution_count": 61,
     "metadata": {},
     "output_type": "execute_result"
    }
   ],
   "source": [
    "# 국가별 모든 servings의 합을 계산한 total_servings라는 피처 생성\n",
    "\n",
    "# 국가별 total_servings 피처 만들어서 병합\n",
    "drinks['total_servings'] = drinks['beer_servings'] + drinks['wine_servings'] + drinks['spirit_servings']\n",
    "\n",
    "# 결과 출력\n",
    "drinks[['country', 'beer_servings', 'wine_servings', 'spirit_servings', 'total_servings']].sample(5).head()"
   ]
  },
  {
   "cell_type": "markdown",
   "id": "acd9a2a4",
   "metadata": {},
   "source": [
    "- group 단위 연산이 아닌, 일반 연산의 경우 간단한 사칙연산 기호만으로 피처를 재구성 할 수 있음  \n",
    "drinks['beer_servings'] + drinks['wine_servings'] + drinks['spirit_servings'] 처럼 간단한 코드로도,  \n",
    "합계를 계산한 새로운 피처를 만들어 낼 수 있음"
   ]
  },
  {
   "cell_type": "code",
   "execution_count": 63,
   "id": "0f9eb37b",
   "metadata": {},
   "outputs": [
    {
     "data": {
      "text/plain": [
       "'Russian Federation'"
      ]
     },
     "execution_count": 63,
     "metadata": {},
     "output_type": "execute_result"
    }
   ],
   "source": [
    "# 전체 평균보다 적은 알코올을 섭취하는 대륙 중에서, spirit을 가장 많이 마시는 국가 구하기\n",
    "\n",
    "# 전체 평균보다 적은 알코올을 섭취하는 대륙 중에서, spirit을 가장 많이 마시는 국가를 구하기\n",
    "total_mean = drinks.total_litres_of_pure_alcohol.mean()\n",
    "continent_mean = drinks.groupby('continent').total_litres_of_pure_alcohol.mean()\n",
    "continent_under_mean = continent_mean[continent_mean <= total_mean].index.tolist()\n",
    "df_continent_under_mean = drinks.loc[drinks.continent.isin(continent_under_mean)]\n",
    "\n",
    "most_spirit_under_mean = df_continent_under_mean.loc[df_continent_under_mean['spirit_servings'].idxmax()]\n",
    "\n",
    "# 결과 출력\n",
    "most_spirit_under_mean['country']"
   ]
  },
  {
   "cell_type": "markdown",
   "id": "3ee6f37d",
   "metadata": {},
   "source": [
    "- group 단위 연산을 적용한 결과를 바탕으로, 원하는 조건을 필터링  \n",
    "여기에 isin 함수와 dataframe.loc 을 이용하여 전체 평균보다 적은 알코올을 섭취하는 대륙들을 구할 수 있음  \n",
    "\n",
    "\n",
    "- isin 함수의 사용법을 조금 더 설명하자면, 만약 A[A.column_name.isin(B)] 라는 코드가 있다면,  \n",
    "이것은 A라는 데이터 프레임 중, A의 column_name 피처가 B 안에 포함되어 있는 데이터만을 가져온다는 것  \n",
    "\n",
    "\n",
    "- loc이라는 것은 반환된 데이터의 위치를 나타내는 것  \n",
    "\n",
    "\n",
    "- 이제 이 결과에 idxmax() 함수를 사용하면, 특정 value가 가장 높은 데이터의 index를 찾을 수 있음  "
   ]
  },
  {
   "cell_type": "code",
   "execution_count": 64,
   "id": "7ceb9fb3",
   "metadata": {},
   "outputs": [
    {
     "data": {
      "text/plain": [
       "29    15.0\n",
       "Name: alcohol_rate_rank, dtype: float64"
      ]
     },
     "execution_count": 64,
     "metadata": {},
     "output_type": "execute_result"
    }
   ],
   "source": [
    "# 술 소비량 대비 알콜 비율 구하기\n",
    "\n",
    "# 술 소비량 대비 알콜 비율에 대한 칼럼을 만들어서 병합\n",
    "drinks['alcohol_rate'] = drinks['total_litres_of_pure_alcohol'] / drinks['total_servings']\n",
    "drinks['alcohol_rate'] = drinks['alcohol_rate'].fillna(0)\n",
    "\n",
    "# 술 소비량 대비 알콜 비율 : 전체 순위 중 한국의 순위를 구함\n",
    "drinks['alcohol_rate_rank'] = drinks['alcohol_rate'].rank(ascending=False)\n",
    "drinks['alcohol_rate_rank'] = drinks['alcohol_rate_rank'].apply(np.floor)\n",
    "drinks.loc[drinks['country'] == 'South Korea'].alcohol_rate_rank"
   ]
  },
  {
   "cell_type": "markdown",
   "id": "a40e663b",
   "metadata": {},
   "source": [
    "- 새로 만들어진 'alcohol_rate' 피처를 기준으로 rank 함수를 적용  \n",
    "이를 통해 한국(South Korea)이 술 소비량 대비 알콜 비율이 전체 순위 중 몇위인지 찾아보자  \n",
    "rank 함수는 특정 column 내에서의 순위값을 반환해주는 함수  \n",
    "한국의 술 소비량 대비 알콜 비율은 전체에서 15등"
   ]
  },
  {
   "cell_type": "code",
   "execution_count": 65,
   "id": "b7954107",
   "metadata": {},
   "outputs": [
    {
     "data": {
      "text/html": [
       "<div>\n",
       "<style scoped>\n",
       "    .dataframe tbody tr th:only-of-type {\n",
       "        vertical-align: middle;\n",
       "    }\n",
       "\n",
       "    .dataframe tbody tr th {\n",
       "        vertical-align: top;\n",
       "    }\n",
       "\n",
       "    .dataframe thead th {\n",
       "        text-align: right;\n",
       "    }\n",
       "</style>\n",
       "<table border=\"1\" class=\"dataframe\">\n",
       "  <thead>\n",
       "    <tr style=\"text-align: right;\">\n",
       "      <th></th>\n",
       "      <th>country</th>\n",
       "      <th>continent</th>\n",
       "      <th>alcohol_rate_continent</th>\n",
       "    </tr>\n",
       "  </thead>\n",
       "  <tbody>\n",
       "    <tr>\n",
       "      <th>85</th>\n",
       "      <td>Switzerland</td>\n",
       "      <td>EU</td>\n",
       "      <td>0.018392</td>\n",
       "    </tr>\n",
       "    <tr>\n",
       "      <th>148</th>\n",
       "      <td>Cuba</td>\n",
       "      <td>OT</td>\n",
       "      <td>0.017860</td>\n",
       "    </tr>\n",
       "    <tr>\n",
       "      <th>21</th>\n",
       "      <td>Maldives</td>\n",
       "      <td>AS</td>\n",
       "      <td>0.020293</td>\n",
       "    </tr>\n",
       "    <tr>\n",
       "      <th>66</th>\n",
       "      <td>Italy</td>\n",
       "      <td>EU</td>\n",
       "      <td>0.018392</td>\n",
       "    </tr>\n",
       "    <tr>\n",
       "      <th>62</th>\n",
       "      <td>Greece</td>\n",
       "      <td>EU</td>\n",
       "      <td>0.018392</td>\n",
       "    </tr>\n",
       "  </tbody>\n",
       "</table>\n",
       "</div>"
      ],
      "text/plain": [
       "         country continent  alcohol_rate_continent\n",
       "85   Switzerland        EU                0.018392\n",
       "148         Cuba        OT                0.017860\n",
       "21      Maldives        AS                0.020293\n",
       "66         Italy        EU                0.018392\n",
       "62        Greece        EU                0.018392"
      ]
     },
     "execution_count": 65,
     "metadata": {},
     "output_type": "execute_result"
    }
   ],
   "source": [
    "# 대륙별 술 소비량 대비 알콜 비율 구하기\n",
    "\n",
    "# 대륙별 술 소비량 대비 알콜 비율을 구하기\n",
    "continent_sum = drinks.groupby('continent').sum()\n",
    "continent_sum['alcohol_rate_continent'] = continent_sum['total_litres_of_pure_alcohol'] / \\\n",
    "                                          continent_sum['total_servings']\n",
    "continent_sum = continent_sum.reset_index()\n",
    "continent_sum = continent_sum[['continent', 'alcohol_rate_continent']]\n",
    "\n",
    "drinks = pd.merge(drinks, continent_sum, on='continent', how='outer')\n",
    "\n",
    "# 결과 출력\n",
    "drinks[['country', 'continent', 'alcohol_rate_continent']].sample(5).head()"
   ]
  },
  {
   "cell_type": "markdown",
   "id": "f3de4de8",
   "metadata": {},
   "source": [
    "- 대륙별 술 소비량 대비 알콜 비율이라는 또 다른 피처를 재구성  \n",
    "이 피처는 위의 예제들의 모든 함수를 골고루 사용하여 생성된 피처  "
   ]
  }
 ],
 "metadata": {
  "kernelspec": {
   "display_name": "Python 3",
   "language": "python",
   "name": "python3"
  },
  "language_info": {
   "codemirror_mode": {
    "name": "ipython",
    "version": 3
   },
   "file_extension": ".py",
   "mimetype": "text/x-python",
   "name": "python",
   "nbconvert_exporter": "python",
   "pygments_lexer": "ipython3",
   "version": "3.8.8"
  },
  "toc": {
   "base_numbering": 1,
   "nav_menu": {},
   "number_sections": true,
   "sideBar": true,
   "skip_h1_title": false,
   "title_cell": "Table of Contents",
   "title_sidebar": "Contents",
   "toc_cell": false,
   "toc_position": {},
   "toc_section_display": true,
   "toc_window_display": false
  },
  "varInspector": {
   "cols": {
    "lenName": 16,
    "lenType": 16,
    "lenVar": 40
   },
   "kernels_config": {
    "python": {
     "delete_cmd_postfix": "",
     "delete_cmd_prefix": "del ",
     "library": "var_list.py",
     "varRefreshCmd": "print(var_dic_list())"
    },
    "r": {
     "delete_cmd_postfix": ") ",
     "delete_cmd_prefix": "rm(",
     "library": "var_list.r",
     "varRefreshCmd": "cat(var_dic_list()) "
    }
   },
   "types_to_exclude": [
    "module",
    "function",
    "builtin_function_or_method",
    "instance",
    "_Feature"
   ],
   "window_display": false
  }
 },
 "nbformat": 4,
 "nbformat_minor": 5
}
